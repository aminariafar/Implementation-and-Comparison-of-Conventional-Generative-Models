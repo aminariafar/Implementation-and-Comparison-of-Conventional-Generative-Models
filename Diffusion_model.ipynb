{
  "cells": [
    {
      "cell_type": "markdown",
      "id": "f10a3710",
      "metadata": {
        "id": "f10a3710"
      },
      "source": [
        "\n",
        "# Diffusion Models code starter"
      ]
    },
    {
      "cell_type": "markdown",
      "id": "97a67a0b",
      "metadata": {
        "id": "97a67a0b"
      },
      "source": [
        "\n",
        "## Part 1 — Setup & Baseline\n",
        "\n",
        "### **Task 1 — MNIST Setup**\n",
        "**Do:** Load MNIST (use **10,000** train images + full test set). Normalize to **[-1,1]**. Show a small grid of samples.  \n",
        "**Q:** Why is MNIST good for generative modeling (especially for compex generative models like diffusion models)? What are its modern limitations?\n"
      ]
    },
    {
      "cell_type": "code",
      "execution_count": 9,
      "id": "S1-FqBcXyjbw",
      "metadata": {
        "id": "S1-FqBcXyjbw"
      },
      "outputs": [],
      "source": [
        "import os, math, time, random\n",
        "import numpy as np\n",
        "import torch\n",
        "import torch.nn as nn\n",
        "import torch.nn.functional as F\n",
        "\n",
        "from torchvision import datasets, transforms, utils\n",
        "from torch.utils.data import DataLoader, Subset\n",
        "import matplotlib.pyplot as plt"
      ]
    },
    {
      "cell_type": "code",
      "execution_count": 2,
      "id": "DlnK4UI4ykYU",
      "metadata": {
        "colab": {
          "base_uri": "https://localhost:8080/"
        },
        "id": "DlnK4UI4ykYU",
        "outputId": "b1cfe0e3-506c-40cd-a06d-552bdbb55111"
      },
      "outputs": [
        {
          "name": "stdout",
          "output_type": "stream",
          "text": [
            "Mounted at /content/drive\n"
          ]
        }
      ],
      "source": [
        "from google.colab import drive\n",
        "drive.mount('/content/drive')\n",
        "\n",
        "GOOGLE_DRIVE_PATH = os.path.join('drive', 'My Drive', 'data')\n",
        "os.chdir(GOOGLE_DRIVE_PATH)"
      ]
    },
    {
      "cell_type": "code",
      "execution_count": 4,
      "id": "hd09M_Dxyz_C",
      "metadata": {
        "colab": {
          "base_uri": "https://localhost:8080/"
        },
        "id": "hd09M_Dxyz_C",
        "outputId": "ab7a386a-485d-4783-a44a-62f86111f487"
      },
      "outputs": [
        {
          "data": {
            "text/plain": [
              "device(type='cuda')"
            ]
          },
          "execution_count": 4,
          "metadata": {},
          "output_type": "execute_result"
        }
      ],
      "source": [
        "device = torch.device('cuda' if torch.cuda.is_available() else 'cpu')\n",
        "torch.backends.cudnn.benchmark = True\n",
        "device"
      ]
    },
    {
      "cell_type": "code",
      "execution_count": 31,
      "id": "kTlmK7bty2wg",
      "metadata": {
        "colab": {
          "base_uri": "https://localhost:8080/"
        },
        "id": "kTlmK7bty2wg",
        "outputId": "913523e6-6876-4558-bb25-7ed3ce7da168"
      },
      "outputs": [
        {
          "name": "stdout",
          "output_type": "stream",
          "text": [
            "[Task 1] Saved sample grid to: ./outputs_diffusion_mnist/mnist_samples.png\n"
          ]
        }
      ],
      "source": [
        "SEED = 42\n",
        "random.seed(SEED)\n",
        "np.random.seed(SEED)\n",
        "torch.manual_seed(SEED)\n",
        "\n",
        "CFG = {\n",
        "    \"batch_size\": 128,\n",
        "    \"train_subset\": 20000,   # reduce if you need faster iterations\n",
        "    \"timesteps\": 1000,\n",
        "    \"lr\": 1e-3,\n",
        "    \"epochs\": 5,             # 5–10 per assignment\n",
        "    \"save_dir\": \"./outputs_diffusion_mnist\",\n",
        "    \"img_size\": 28\n",
        "}\n",
        "os.makedirs(CFG[\"save_dir\"], exist_ok=True)\n",
        "\n",
        "transform = transforms.Compose([\n",
        "    transforms.ToTensor(),                          # [0,1]\n",
        "    transforms.Normalize(mean=(0.5,), std=(0.5,))   # -> [-1,1]\n",
        "])\n",
        "\n",
        "train_ds_full = datasets.MNIST(root='.', train=True,  transform=transform, download=True)\n",
        "test_ds       = datasets.MNIST(root='.', train=False, transform=transform, download=True)\n",
        "\n",
        "idxs = list(range(len(train_ds_full)))\n",
        "random.shuffle(idxs)\n",
        "train_subset = Subset(train_ds_full, idxs[:CFG[\"train_subset\"]])\n",
        "\n",
        "train_loader = DataLoader(train_subset, batch_size=CFG[\"batch_size\"], shuffle=True,  num_workers=2, pin_memory=True)\n",
        "test_loader  = DataLoader(test_ds,      batch_size=CFG[\"batch_size\"], shuffle=False, num_workers=2, pin_memory=True)\n",
        "\n",
        "x0, y0 = next(iter(train_loader))\n",
        "grid_path = os.path.join(CFG[\"save_dir\"], \"mnist_samples.png\")\n",
        "utils.save_image((x0[:16]*0.5+0.5), grid_path, nrow=8)\n",
        "print(f\"[Task 1] Saved sample grid to: {grid_path}\")"
      ]
    },
    {
      "cell_type": "markdown",
      "id": "e8fa8afc",
      "metadata": {
        "id": "e8fa8afc"
      },
      "source": [
        "\n",
        "### **Task 2 — Diffusion Forward Process**\n",
        "**Do:** Implement the forward (noising) process with a **linear beta** schedule for `T = CFG[\"timesteps\"]`. Visualize frames at `t ∈ {0, T/4, T/2, 3T/4, T}`.  \n",
        "**Q:** Why add Gaussian noise **gradually** instead of all at once?\n"
      ]
    },
    {
      "cell_type": "code",
      "execution_count": 7,
      "id": "8768066b",
      "metadata": {
        "colab": {
          "base_uri": "https://localhost:8080/"
        },
        "id": "8768066b",
        "outputId": "f197c873-df12-4c31-fd3f-5198d80c69e2"
      },
      "outputs": [
        {
          "name": "stdout",
          "output_type": "stream",
          "text": [
            "[Task 2] Saved noising grid to: ./outputs_diffusion_mnist/noising_grid.png | steps=[0, 250, 500, 750, 999]\n"
          ]
        }
      ],
      "source": [
        "# Task 2: Forward (q)\n",
        "def make_beta_schedule(T, start=1e-4, end=0.02):\n",
        "    return torch.linspace(start, end, T, device=device)\n",
        "\n",
        "T = CFG[\"timesteps\"]\n",
        "betas = make_beta_schedule(T)\n",
        "alphas = 1.0 - betas\n",
        "alphas_cumprod = torch.cumprod(alphas, dim=0)\n",
        "alphas_cumprod_prev = F.pad(alphas_cumprod[:-1], (1,0), value=1.0)\n",
        "\n",
        "def q_sample(x0, t, noise=None):\n",
        "    \"\"\"\n",
        "    x0: (B, 1, 28, 28) in [-1, 1]\n",
        "    t:  (B,) long, 0..T-1\n",
        "    \"\"\"\n",
        "    if noise is None:\n",
        "        noise = torch.randn_like(x0)\n",
        "    sqrt_ac = torch.sqrt(alphas_cumprod[t])[:, None, None, None]\n",
        "    sqrt_om = torch.sqrt(1 - alphas_cumprod[t])[:, None, None, None]\n",
        "    return sqrt_ac * x0 + sqrt_om * noise\n",
        "\n",
        "def show_noising_example(batch=None):\n",
        "    if batch is None:\n",
        "        batch, _ = next(iter(train_loader))\n",
        "    x0 = batch.to(device)[:8]\n",
        "    steps = [0, T//4, T//2, 3*T//4, T-1]\n",
        "    imgs = []\n",
        "    for s in steps:\n",
        "        t = torch.full((x0.size(0),), s, device=device, dtype=torch.long)\n",
        "        xt = q_sample(x0, t)\n",
        "        imgs.append(xt.cpu())\n",
        "    grid = torch.cat(imgs, dim=0)\n",
        "    path = os.path.join(CFG[\"save_dir\"], \"noising_grid.png\")\n",
        "    utils.save_image((grid+1)/2, path, nrow=x0.size(0))\n",
        "    return path, steps\n",
        "\n",
        "noising_path, steps_shown = show_noising_example()\n",
        "print(f\"[Task 2] Saved noising grid to: {noising_path} | steps={steps_shown}\")"
      ]
    },
    {
      "cell_type": "markdown",
      "id": "59a80f60",
      "metadata": {
        "id": "59a80f60"
      },
      "source": [
        "\n",
        "## Part 2 — Train a Lightweight Diffusion Model\n",
        "\n",
        "### **Task 3 — Small Denoising Network**\n",
        "**Do:** Implement a small **UNet-like** denoiser (≤ ~2M params) with **timestep embeddings**. Train for ~**2–5 epochs** and print loss.  \n",
        "**Q:** Why do we use **timestep embeddings**?\n"
      ]
    },
    {
      "cell_type": "code",
      "execution_count": 10,
      "id": "87773e13",
      "metadata": {
        "colab": {
          "base_uri": "https://localhost:8080/",
          "height": 517
        },
        "id": "87773e13",
        "outputId": "b7dc9058-2087-454d-b190-547e065e56c2"
      },
      "outputs": [
        {
          "name": "stdout",
          "output_type": "stream",
          "text": [
            "[Task 3] TinyUNet params: 0.173M\n",
            "Epoch 1/5 | loss=0.4091 | time=6.8s\n",
            "Epoch 2/5 | loss=0.1343 | time=5.0s\n",
            "Epoch 3/5 | loss=0.0986 | time=7.7s\n",
            "Epoch 4/5 | loss=0.0836 | time=5.8s\n",
            "Epoch 5/5 | loss=0.0736 | time=5.4s\n"
          ]
        },
        {
          "data": {
            "image/png": "[encoded data removed]",
            "text/plain": [
              "<Figure size 600x400 with 1 Axes>"
            ]
          },
          "metadata": {},
          "output_type": "display_data"
        }
      ],
      "source": [
        "# Task 3: Denoiser (Tiny UNet-like)\n",
        "class SinusoidalPosEmb(nn.Module):\n",
        "    def __init__(self, dim):\n",
        "        super().__init__()\n",
        "        self.dim = dim\n",
        "    def forward(self, t):\n",
        "        half = self.dim // 2\n",
        "        freqs = torch.exp(-math.log(10000) * torch.arange(0, half, device=t.device) / max(half,1))\n",
        "        args = t[:, None].float() * freqs[None]\n",
        "        emb = torch.cat([torch.sin(args), torch.cos(args)], dim=-1)\n",
        "\n",
        "        if emb.shape[1] < self.dim:\n",
        "            emb = F.pad(emb, (0, self.dim - emb.shape[1]))\n",
        "        return emb\n",
        "\n",
        "class Block(nn.Module):\n",
        "    def __init__(self, in_ch, out_ch, time_dim):\n",
        "        super().__init__()\n",
        "        self.conv1 = nn.Conv2d(in_ch, out_ch, 3, padding=1)\n",
        "        self.conv2 = nn.Conv2d(out_ch, out_ch, 3, padding=1)\n",
        "        self.time_mlp = nn.Sequential(nn.SiLU(), nn.Linear(time_dim, out_ch))\n",
        "        self.gn1 = nn.GroupNorm(1, out_ch)\n",
        "        self.gn2 = nn.GroupNorm(1, out_ch)\n",
        "    def forward(self, x, t_emb):\n",
        "        h = F.silu(self.gn1(self.conv1(x)))\n",
        "        t = self.time_mlp(t_emb)[:, :, None, None]\n",
        "        h = h + t\n",
        "        h = F.silu(self.gn2(self.conv2(h)))\n",
        "        return h\n",
        "\n",
        "class TinyUNet(nn.Module):\n",
        "    def __init__(self, time_dim=64, base=32):\n",
        "        super().__init__()\n",
        "        self.time_mlp = nn.Sequential(\n",
        "            SinusoidalPosEmb(time_dim),\n",
        "            nn.Linear(time_dim, time_dim),\n",
        "            nn.SiLU(),\n",
        "        )\n",
        "        self.inc   = nn.Conv2d(1, base, 3, padding=1)\n",
        "        self.down1 = Block(base, base*2, time_dim)\n",
        "        self.pool  = nn.AvgPool2d(2)\n",
        "        self.mid   = Block(base*2, base*2, time_dim)\n",
        "        self.up    = nn.Upsample(scale_factor=2, mode='nearest')\n",
        "        self.up1   = Block(base*2, base, time_dim)\n",
        "        self.outc  = nn.Conv2d(base, 1, 1)\n",
        "\n",
        "    def forward(self, x, t):\n",
        "        t_emb = self.time_mlp(t)\n",
        "        x1 = F.silu(self.inc(x))\n",
        "        x2 = self.pool(self.down1(x1, t_emb))\n",
        "        x3 = self.mid(x2, t_emb)\n",
        "        x4 = self.up(x3)\n",
        "        x5 = self.up1(x4, t_emb)\n",
        "        out = self.outc(x5)\n",
        "        return out\n",
        "\n",
        "model = TinyUNet().to(device)\n",
        "params = sum(p.numel() for p in model.parameters())\n",
        "print(f\"[Task 3] TinyUNet params: {params/1e6:.3f}M\")\n",
        "\n",
        "optimizer = torch.optim.AdamW(model.parameters(), lr=CFG[\"lr\"])\n",
        "\n",
        "def p_losses(model, x0, t, noise=None):\n",
        "    if noise is None:\n",
        "        noise = torch.randn_like(x0)\n",
        "    xt = q_sample(x0, t, noise)\n",
        "    pred_noise = model(xt, t)\n",
        "    return F.mse_loss(pred_noise, noise)\n",
        "\n",
        "def train_denoiser(model, epochs=CFG[\"epochs\"]):\n",
        "    model.train()\n",
        "    history = []\n",
        "    for ep in range(1, epochs+1):\n",
        "        t0 = time.time()\n",
        "        losses = []\n",
        "        for x, _ in train_loader:\n",
        "            x = x.to(device)\n",
        "            t = torch.randint(0, T, (x.size(0),), device=device).long()\n",
        "            loss = p_losses(model, x, t)\n",
        "            optimizer.zero_grad()\n",
        "            loss.backward()\n",
        "            optimizer.step()\n",
        "            losses.append(loss.item())\n",
        "        mean_loss = np.mean(losses)\n",
        "        history.append(mean_loss)\n",
        "        print(f\"Epoch {ep}/{epochs} | loss={mean_loss:.4f} | time={time.time()-t0:.1f}s\")\n",
        "    return model, history\n",
        "\n",
        "@torch.no_grad()\n",
        "def show_denoising_example(model, batch=None, steps=None, fname=\"denoiser_recon_grid.png\"):\n",
        "    model.eval()\n",
        "    if batch is None:\n",
        "        batch, _ = next(iter(train_loader))\n",
        "    x0 = batch.to(device)[:8]  # ground-truth\n",
        "    if steps is None:\n",
        "        steps = [0, T//4, T//2, 3*T//4, T-1]\n",
        "\n",
        "    rows = [x0.cpu()]\n",
        "    for s in steps:\n",
        "        t = torch.full((x0.size(0),), s, device=device, dtype=torch.long)\n",
        "        noise = torch.randn_like(x0)\n",
        "        xt = q_sample(x0, t, noise=noise)\n",
        "\n",
        "        pred_noise = model(xt, t)\n",
        "\n",
        "        ac = alphas_cumprod[s]\n",
        "        x0_hat = (xt - torch.sqrt(1 - ac) * pred_noise) / torch.sqrt(ac)\n",
        "        rows.append(x0_hat.clamp(-1, 1).cpu())\n",
        "\n",
        "    grid = torch.cat(rows, dim=0)\n",
        "    path = os.path.join(CFG[\"save_dir\"], fname)\n",
        "    utils.save_image((grid+1)/2, path, nrow=x0.size(0))\n",
        "    return path\n",
        "\n",
        "model, loss_history = train_denoiser(model, epochs=CFG[\"epochs\"])\n",
        "\n",
        "plt.figure(figsize=(6,4))\n",
        "plt.plot(range(1, len(loss_history)+1), loss_history, marker='o')\n",
        "plt.title(\"Training Loss Curve (Denoiser)\")\n",
        "plt.xlabel(\"Epoch\")\n",
        "plt.ylabel(\"MSE Loss\")\n",
        "plt.grid(True)\n",
        "plt.savefig(os.path.join(CFG[\"save_dir\"], \"loss_curve.png\"))\n",
        "plt.show()"
      ]
    },
    {
      "cell_type": "code",
      "execution_count": 11,
      "id": "_hoc0FK908mn",
      "metadata": {
        "id": "_hoc0FK908mn"
      },
      "outputs": [],
      "source": [
        "from PIL import Image"
      ]
    },
    {
      "cell_type": "code",
      "execution_count": 12,
      "id": "9cDt3Rtl046k",
      "metadata": {
        "colab": {
          "base_uri": "https://localhost:8080/",
          "height": 217
        },
        "id": "9cDt3Rtl046k",
        "outputId": "29bbefcf-ef14-450f-db21-704ce96d9275"
      },
      "outputs": [
        {
          "name": "stdout",
          "output_type": "stream",
          "text": [
            "[Task 3] Saved denoiser reconstruction grid to: ./outputs_diffusion_mnist/denoiser_recon_grid.png\n"
          ]
        },
        {
          "data": {
            "image/jpeg": "[encoded data removed]",
            "image/png": "[encoded data removed]",
            "text/plain": [
              "<PIL.PngImagePlugin.PngImageFile image mode=RGB size=242x182>"
            ]
          },
          "metadata": {},
          "output_type": "display_data"
        }
      ],
      "source": [
        "recon_path = show_denoising_example(model, fname=\"denoiser_recon_grid.png\")\n",
        "print(f\"[Task 3] Saved denoiser reconstruction grid to: {recon_path}\")\n",
        "\n",
        "display(Image.open(recon_path))"
      ]
    },
    {
      "cell_type": "markdown",
      "id": "625135e4",
      "metadata": {
        "id": "625135e4"
      },
      "source": [
        "\n",
        "### **Task 4 — Generate Samples**\n",
        "**Do:** Implement the reverse process (DDPM sampling). Generate **10** samples and save a grid.  \n",
        "**Q:** Are samples **diverse** and **recognizable**?\n"
      ]
    },
    {
      "cell_type": "code",
      "execution_count": 13,
      "id": "955a328a",
      "metadata": {
        "id": "955a328a"
      },
      "outputs": [],
      "source": [
        "# Task 4: Sampling (p)\n",
        "@torch.no_grad()\n",
        "def p_sample(model, xt, t):\n",
        "    \"\"\"One reverse diffusion step.\"\"\"\n",
        "    beta_t = betas[t][:, None, None, None]\n",
        "    sqrt_one_minus_ac = torch.sqrt(1 - alphas_cumprod[t])[:, None, None, None]\n",
        "\n",
        "    pred_noise = model(xt, t)\n",
        "\n",
        "    x0_hat = (xt - sqrt_one_minus_ac * pred_noise) / torch.sqrt(alphas_cumprod[t])[:, None, None, None]\n",
        "\n",
        "    coef1 = torch.sqrt(alphas_cumprod_prev[t])[:, None, None, None] * beta_t / (1 - alphas_cumprod[t])[:, None, None, None]\n",
        "    coef2 = torch.sqrt(alphas[t])[:, None, None, None] * (1 - alphas_cumprod_prev[t])[:, None, None, None] / (1 - alphas_cumprod[t])[:, None, None, None]\n",
        "    mean = coef1 * x0_hat + coef2 * xt\n",
        "\n",
        "    if (t == 0).all():\n",
        "        return mean\n",
        "    noise = torch.randn_like(xt)\n",
        "    var = beta_t\n",
        "    return mean + torch.sqrt(var) * noise\n"
      ]
    },
    {
      "cell_type": "code",
      "execution_count": 14,
      "id": "jDER0EWX18Az",
      "metadata": {
        "colab": {
          "base_uri": "https://localhost:8080/",
          "height": 157
        },
        "id": "jDER0EWX18Az",
        "outputId": "a24b37c5-f37a-4256-ba8b-e7564453f486"
      },
      "outputs": [
        {
          "name": "stdout",
          "output_type": "stream",
          "text": [
            "[Task 4] Saved generated samples to: ./outputs_diffusion_mnist/samples_ddpm.png\n"
          ]
        },
        {
          "data": {
            "image/jpeg": "[encoded data removed]",
            "image/png": "[encoded data removed]",
            "text/plain": [
              "<PIL.PngImagePlugin.PngImageFile image mode=RGB size=152x122>"
            ]
          },
          "metadata": {},
          "output_type": "display_data"
        }
      ],
      "source": [
        "@torch.no_grad()\n",
        "def p_sample_loop(model, n=10):\n",
        "    \"\"\"Run the reverse process to generate n MNIST samples.\"\"\"\n",
        "    model.eval()\n",
        "    xt = torch.randn(n, 1, 28, 28, device=device)  # MNIST size = 28x28\n",
        "    for s in reversed(range(T)):\n",
        "        t = torch.full((n,), s, device=device, dtype=torch.long)\n",
        "        xt = p_sample(model, xt, t)\n",
        "    x_gen = xt.clamp(-1, 1)\n",
        "    path = os.path.join(CFG[\"save_dir\"], \"samples_ddpm.png\")\n",
        "    utils.save_image((x_gen+1)/2, path, nrow=5)\n",
        "    return x_gen, path\n",
        "\n",
        "samples, gen_path = p_sample_loop(model, n=20)\n",
        "print(f\"[Task 4] Saved generated samples to: {gen_path}\")\n",
        "\n",
        "display(Image.open(gen_path))"
      ]
    },
    {
      "cell_type": "markdown",
      "id": "7a432c71",
      "metadata": {
        "id": "7a432c71"
      },
      "source": [
        "\n",
        "## Part 3 — Evaluation\n",
        "\n",
        "### **Task 5 — Lightweight Quantitative Evaluation**\n",
        "1) Generate 1000 Samples\n",
        "\n",
        "2) Train a tiny MNIST classifier (2–3 conv layers, 1–2 epochs). Report **accuracy on generated samples**.  \n",
        "\n",
        "3) Compute the same **sample quality metrics** used to evaluate generated samples as in Assingments 3 & 4 (Hwk 4: Task 7) for the genrated smaple of your trained diffusion model here, complete your table from Assignment 4 with them, and comment on the results.\n"
      ]
    },
    {
      "cell_type": "code",
      "execution_count": 17,
      "id": "1709a798",
      "metadata": {
        "id": "1709a798"
      },
      "outputs": [],
      "source": [
        "### Task 5: Tiny Classifier for Evaluation\n",
        "class TinyCNN(nn.Module):\n",
        "    def __init__(self, n_classes=10):\n",
        "        super().__init__()\n",
        "        self.conv1 = nn.Conv2d(1, 32, 3, padding=1)\n",
        "        self.conv2 = nn.Conv2d(32, 64, 3, padding=1)\n",
        "        self.pool = nn.MaxPool2d(2,2)\n",
        "        self.fc1 = nn.Linear(64*14*14, 128)\n",
        "        self.fc2 = nn.Linear(128, n_classes)\n",
        "    def forward(self, x):\n",
        "        x = F.relu(self.conv1(x))\n",
        "        x = self.pool(F.relu(self.conv2(x)))\n",
        "        x = x.view(x.size(0), -1)\n",
        "        x = F.relu(self.fc1(x))\n",
        "        return self.fc2(x)\n",
        "\n",
        "def train_tiny_classifier(epochs=2):\n",
        "    clf = TinyCNN().to(device)\n",
        "    opt = torch.optim.Adam(clf.parameters(), lr=1e-3)\n",
        "    criterion = nn.CrossEntropyLoss()\n",
        "\n",
        "    clf.train()\n",
        "    for ep in range(1, epochs+1):\n",
        "        losses, correct, total = [], 0, 0\n",
        "        for x,y in train_loader:\n",
        "            x,y = x.to(device), y.to(device)\n",
        "            logits = clf(x)\n",
        "            loss = criterion(logits, y)\n",
        "            opt.zero_grad(); loss.backward(); opt.step()\n",
        "            losses.append(loss.item())\n",
        "            pred = logits.argmax(dim=1)\n",
        "            correct += (pred==y).sum().item()\n",
        "            total += y.size(0)\n",
        "        print(f\"[Classifier] Epoch {ep}/{epochs} | loss={np.mean(losses):.4f} | acc={100*correct/total:.2f}%\")\n",
        "    return clf\n"
      ]
    },
    {
      "cell_type": "code",
      "execution_count": 18,
      "id": "-ZThF46z2PLo",
      "metadata": {
        "colab": {
          "base_uri": "https://localhost:8080/"
        },
        "id": "-ZThF46z2PLo",
        "outputId": "ae5f2cc7-416f-4499-e859-c84111423cf6"
      },
      "outputs": [
        {
          "name": "stdout",
          "output_type": "stream",
          "text": [
            "[Classifier] Epoch 1/2 | loss=0.3817 | acc=88.80%\n",
            "[Classifier] Epoch 2/2 | loss=0.0864 | acc=97.42%\n",
            "[Task 5] Predicted labels for generated samples: [2, 2, 5, 5, 8, 5, 8, 5, 6, 5, 8, 8, 3, 5, 8, 2, 5, 2, 7, 5]\n",
            "[Task 5] Diversity entropy of generated samples: 1.4843\n"
          ]
        }
      ],
      "source": [
        "@torch.no_grad()\n",
        "def evaluate_generated_with_classifier(clf, imgs):\n",
        "    clf.eval()\n",
        "    logits = clf(imgs)\n",
        "    preds = logits.argmax(dim=1)\n",
        "    # classification diversity (entropy of predicted labels)\n",
        "    hist = torch.bincount(preds, minlength=10).float()\n",
        "    probs = hist / hist.sum()\n",
        "    diversity_entropy = -(probs * probs.clamp(min=1e-8).log()).sum().item()\n",
        "    return preds, diversity_entropy\n",
        "\n",
        "clf = train_tiny_classifier(epochs=2)\n",
        "preds, div_entropy = evaluate_generated_with_classifier(clf, samples)\n",
        "\n",
        "print(f\"[Task 5] Predicted labels for generated samples: {preds.tolist()}\")\n",
        "print(f\"[Task 5] Diversity entropy of generated samples: {div_entropy:.4f}\")"
      ]
    },
    {
      "cell_type": "markdown",
      "id": "WZP7L4u-4KS9",
      "metadata": {
        "id": "WZP7L4u-4KS9"
      },
      "source": [
        "#### Preparations for Scores"
      ]
    },
    {
      "cell_type": "code",
      "execution_count": 19,
      "id": "auVOG8-T30Hb",
      "metadata": {
        "id": "auVOG8-T30Hb"
      },
      "outputs": [],
      "source": [
        "from torch.utils.data import TensorDataset\n",
        "from scipy.linalg import sqrtm\n",
        "from sklearn.metrics.pairwise import rbf_kernel"
      ]
    },
    {
      "cell_type": "code",
      "execution_count": 22,
      "id": "2Xol8cDF4APq",
      "metadata": {
        "id": "2Xol8cDF4APq"
      },
      "outputs": [],
      "source": [
        "class LeNet(nn.Module):\n",
        "    def __init__(self):\n",
        "        super(LeNet, self).__init__()\n",
        "        self.conv1 = nn.Conv2d(1, 10, kernel_size=5)\n",
        "        self.conv2 = nn.Conv2d(10, 20, kernel_size=5)\n",
        "        self.fc1 = nn.Linear(320, 50)\n",
        "        self.fc2 = nn.Linear(50, 10)\n",
        "\n",
        "    def forward(self, x, return_features=False):\n",
        "        \"\"\"\n",
        "        Defines the forward pass. Can return final logits or intermediate features.\n",
        "\n",
        "        Args:\n",
        "            x (torch.Tensor): The input batch of images.\n",
        "            return_features (bool): If True, returns features from fc1.\n",
        "                                    If False, returns final logits from fc2.\n",
        "        \"\"\"\n",
        "        x = torch.relu(torch.max_pool2d(self.conv1(x), 2))\n",
        "        x = torch.relu(torch.max_pool2d(self.conv2(x), 2))\n",
        "        x = x.view(-1, 320)\n",
        "\n",
        "        features = torch.relu(self.fc1(x))\n",
        "\n",
        "        if return_features:\n",
        "            return features\n",
        "\n",
        "        output = self.fc2(features)\n",
        "        return output"
      ]
    },
    {
      "cell_type": "code",
      "execution_count": 26,
      "id": "w1D3Oz_l4DoL",
      "metadata": {
        "colab": {
          "base_uri": "https://localhost:8080/"
        },
        "id": "w1D3Oz_l4DoL",
        "outputId": "01e5a2c2-01f0-49be-993a-ae543134eaee"
      },
      "outputs": [
        {
          "data": {
            "text/plain": [
              "LeNet(\n",
              "  (conv1): Conv2d(1, 10, kernel_size=(5, 5), stride=(1, 1))\n",
              "  (conv2): Conv2d(10, 20, kernel_size=(5, 5), stride=(1, 1))\n",
              "  (fc1): Linear(in_features=320, out_features=50, bias=True)\n",
              "  (fc2): Linear(in_features=50, out_features=10, bias=True)\n",
              ")"
            ]
          },
          "execution_count": 26,
          "metadata": {},
          "output_type": "execute_result"
        }
      ],
      "source": [
        "weights_path = 'lenet_mnist.pth'\n",
        "classifier = LeNet().to(device)\n",
        "classifier.load_state_dict(torch.load(weights_path))\n",
        "classifier.eval()"
      ]
    },
    {
      "cell_type": "code",
      "execution_count": 27,
      "id": "y54i7wTE34tM",
      "metadata": {
        "id": "y54i7wTE34tM"
      },
      "outputs": [],
      "source": [
        "@torch.no_grad()\n",
        "def get_activations(images, classifier, batch_size=64):\n",
        "    \"\"\"\n",
        "    Get feature activations from classifier (fc1 layer of LeNet).\n",
        "    images: torch.Tensor (N, 1, 28, 28), normalized [-1,1]\n",
        "    \"\"\"\n",
        "    classifier.eval()\n",
        "    dataset = TensorDataset(images)\n",
        "    loader = DataLoader(dataset, batch_size=batch_size)\n",
        "    acts = []\n",
        "    for (batch,) in loader:\n",
        "        batch = batch.to(device)\n",
        "        feat = classifier(batch, return_features=True)\n",
        "        acts.append(feat.cpu().numpy())\n",
        "    return np.concatenate(acts, axis=0)\n",
        "\n",
        "def inception_score(images, classifier, batch_size=32, splits=10):\n",
        "    classifier.eval()\n",
        "    images = images.view(-1, 1, 28, 28)\n",
        "    dataset = TensorDataset(images)\n",
        "    dataloader = DataLoader(dataset, batch_size=batch_size)\n",
        "\n",
        "    all_preds = []\n",
        "    with torch.no_grad():\n",
        "        for batch in dataloader:\n",
        "            img_batch = batch[0].to(device)\n",
        "            preds = F.softmax(classifier(img_batch), dim=1)\n",
        "            all_preds.append(preds.cpu().numpy())\n",
        "\n",
        "    all_preds = np.concatenate(all_preds, axis=0)\n",
        "\n",
        "    scores = []\n",
        "    n_samples = all_preds.shape[0]\n",
        "    split_size = n_samples // splits\n",
        "    for i in range(splits):\n",
        "        part = all_preds[i*split_size:(i+1)*split_size, :]\n",
        "        p_yx = part\n",
        "        p_y = np.mean(part, axis=0)\n",
        "        kl_divs = p_yx * (np.log(p_yx + 1e-10) - np.log(p_y + 1e-10))\n",
        "        kl_divs = np.sum(kl_divs, axis=1)\n",
        "        scores.append(np.exp(np.mean(kl_divs)))\n",
        "\n",
        "    return np.mean(scores), np.std(scores)\n",
        "\n",
        "def fid_score(real_samples, gen_samples):\n",
        "    act_real = get_activations(real_samples, classifier)\n",
        "    act_gen  = get_activations(gen_samples, classifier)\n",
        "    mu1, sigma1 = act_real.mean(axis=0), np.cov(act_real, rowvar=False)\n",
        "    mu2, sigma2 = act_gen.mean(axis=0), np.cov(act_gen, rowvar=False)\n",
        "    ssdiff = np.sum((mu1 - mu2)**2.0)\n",
        "    covmean = sqrtm(sigma1.dot(sigma2))\n",
        "    if np.iscomplexobj(covmean):\n",
        "        covmean = covmean.real\n",
        "    fid = ssdiff + np.trace(sigma1 + sigma2 - 2.0 * covmean)\n",
        "    return fid\n",
        "\n",
        "def kid_score(real_samples, gen_samples):\n",
        "    act_real = get_activations(real_samples, classifier)\n",
        "    act_gen  = get_activations(gen_samples, classifier)\n",
        "    mmd = rbf_kernel(act_real, act_real).mean() + \\\n",
        "          rbf_kernel(act_gen, act_gen).mean() - \\\n",
        "          2 * rbf_kernel(act_real, act_gen).mean()\n",
        "    return mmd"
      ]
    },
    {
      "cell_type": "markdown",
      "id": "BXpdGd_Y4RCq",
      "metadata": {
        "id": "BXpdGd_Y4RCq"
      },
      "source": [
        "#### Computing Scores"
      ]
    },
    {
      "cell_type": "code",
      "execution_count": 28,
      "id": "DNBbJCS44TZD",
      "metadata": {
        "colab": {
          "base_uri": "https://localhost:8080/"
        },
        "id": "DNBbJCS44TZD",
        "outputId": "fe6b1a1a-b2f7-42ab-809b-3b195c29e2d0"
      },
      "outputs": [
        {
          "name": "stdout",
          "output_type": "stream",
          "text": [
            "[Metrics]\n",
            "Inception Score: 1.3088 ± 0.2309\n",
            "FID Score:       1751.6778\n",
            "KID Score:       0.0868\n"
          ]
        },
        {
          "name": "stderr",
          "output_type": "stream",
          "text": [
            "/tmp/ipython-input-1199578298.py:51: LinAlgWarning: Matrix is singular. The result might be inaccurate or the array might not have a square root.\n",
            "  covmean = sqrtm(sigma1.dot(sigma2))\n"
          ]
        }
      ],
      "source": [
        "def compute_all_metrics(gen_imgs, real_loader, classifier, n_real=1000):\n",
        "    \"\"\"\n",
        "    gen_imgs: torch.Tensor (N, 1, 28, 28), generated samples\n",
        "    real_loader: DataLoader of real MNIST data\n",
        "    classifier: pretrained LeNet\n",
        "    n_real: number of real samples to compare\n",
        "    \"\"\"\n",
        "    # 1) Inception Score\n",
        "    IS_mean, IS_std = inception_score(gen_imgs, classifier)\n",
        "\n",
        "    # 2) Collect real MNIST subset\n",
        "    real_imgs = []\n",
        "    for x, _ in real_loader:\n",
        "        real_imgs.append(x)\n",
        "        if len(torch.cat(real_imgs)) >= n_real:\n",
        "            break\n",
        "    real_imgs = torch.cat(real_imgs)[:n_real].to(device)\n",
        "\n",
        "    # 3) FID\n",
        "    fid = fid_score(real_imgs, gen_imgs)\n",
        "\n",
        "    # 4) KID\n",
        "    kid = kid_score(real_imgs, gen_imgs)\n",
        "\n",
        "    return IS_mean, IS_std, fid, kid\n",
        "\n",
        "gen_imgs = samples.detach().cpu()\n",
        "\n",
        "IS_mean, IS_std, fid, kid = compute_all_metrics(gen_imgs, test_loader, classifier)\n",
        "\n",
        "print(f\"[Metrics]\")\n",
        "print(f\"Inception Score: {IS_mean:.4f} ± {IS_std:.4f}\")\n",
        "print(f\"FID Score:       {fid:.4f}\")\n",
        "print(f\"KID Score:       {kid:.4f}\")"
      ]
    },
    {
      "cell_type": "markdown",
      "id": "5f8b7e22",
      "metadata": {
        "id": "5f8b7e22"
      },
      "source": [
        "\n",
        "## Part 4 — Acceleration via Distillation\n",
        "\n",
        "### **Task 7 — Simple Distillation for Faster Sampling**\n",
        "**Goal:** Train a **student** model to mimic a **teacher** model's multi-step denoising in **fewer steps** (e.g., teacher **K=10** steps vs student **1** step).  \n",
        "**Evaluate:** Compare **speed** (1-step vs K-step) and **quality** (grids + notes).  \n",
        "**Q:** What **speed/quality trade-off** did you observe?\n"
      ]
    },
    {
      "cell_type": "code",
      "execution_count": 33,
      "id": "af7fa750",
      "metadata": {
        "id": "af7fa750"
      },
      "outputs": [],
      "source": [
        "### Task 7: Distillation (starter)\n",
        "class StudentTinyUNet(TinyUNet):\n",
        "    def __init__(self, time_dim=32, base=16):\n",
        "        super().__init__(time_dim=time_dim, base=base)\n",
        "\n",
        "@torch.no_grad()\n",
        "def teacher_generate_k_steps(model, n=10, K=10):\n",
        "    \"\"\"\n",
        "    Generate n samples by running K evenly-spaced reverse steps of the teacher.\n",
        "    This returns images in [-1,1].\n",
        "    \"\"\"\n",
        "    model.eval()\n",
        "    xt = torch.randn(n, 1, CFG[\"img_size\"], CFG[\"img_size\"], device=device)\n",
        "    step_ids = torch.linspace(T-1, 0, steps=K, device=device).long()\n",
        "    for s in step_ids:\n",
        "        t = torch.full((n,), int(s.item()), device=device, dtype=torch.long)\n",
        "        xt = p_sample(model, xt, t)\n",
        "    return xt.clamp(-1,1)\n",
        "\n",
        "def save_student_checkpoint(student, optimizer, epoch, loss_history, path):\n",
        "    state = {\n",
        "        \"epoch\": epoch,\n",
        "        \"model_state\": student.state_dict(),\n",
        "        \"optimizer_state\": optimizer.state_dict(),\n",
        "        \"config\": CFG,\n",
        "        \"loss_history\": loss_history\n",
        "    }\n",
        "    torch.save(state, path)\n",
        "    print(f\"[Student CKPT] saved -> {path}\")\n",
        "\n",
        "def load_student_checkpoint(path, student, optimizer=None):\n",
        "    state = torch.load(path, map_location=device)\n",
        "    student.load_state_dict(state[\"model_state\"])\n",
        "    if optimizer is not None:\n",
        "        optimizer.load_state_dict(state[\"optimizer_state\"])\n",
        "    print(f\"[Student CKPT] loaded from {path} (epoch {state['epoch']})\")\n",
        "    return state\n",
        "\n",
        "def distill_student(teacher, steps_K=10, student_epochs=2, n_per_batch=64, save_every_epoch=True):\n",
        "\n",
        "    student = StudentTinyUNet(time_dim=32, base=16).to(device)\n",
        "    opt = torch.optim.AdamW(student.parameters(), lr=2e-4, weight_decay=0.0)\n",
        "    loss_history = []\n",
        "\n",
        "    save_dir = CFG[\"save_dir\"]\n",
        "    os.makedirs(save_dir, exist_ok=True)\n",
        "\n",
        "    iterations_per_epoch = max(1, len(train_loader)//(CFG[\"batch_size\"]//n_per_batch + 1))\n",
        "\n",
        "    for ep in range(1, student_epochs+1):\n",
        "        student.train()\n",
        "        t0 = time.time()\n",
        "        ep_losses = []\n",
        "\n",
        "        for it in range(iterations_per_epoch):\n",
        "            with torch.no_grad():\n",
        "                x_teacher = teacher_generate_k_steps(teacher, n=n_per_batch, K=steps_K)\n",
        "\n",
        "                z0 = torch.randn_like(x_teacher)\n",
        "\n",
        "            t_zero = torch.zeros(z0.size(0), dtype=torch.long, device=device)\n",
        "            pred = student(z0, t_zero)\n",
        "            loss = F.mse_loss(pred, x_teacher)\n",
        "\n",
        "            opt.zero_grad()\n",
        "            loss.backward()\n",
        "            opt.step()\n",
        "\n",
        "            ep_losses.append(loss.item())\n",
        "\n",
        "        mean_loss = float(np.mean(ep_losses))\n",
        "        loss_history.append(mean_loss)\n",
        "        print(f\"[Distill] Epoch {ep}/{student_epochs} | loss={mean_loss:.6f} | time={time.time()-t0:.1f}s\")\n",
        "\n",
        "    return student, loss_history"
      ]
    },
    {
      "cell_type": "code",
      "execution_count": 34,
      "id": "Rw5JBP7U6RzW",
      "metadata": {
        "id": "Rw5JBP7U6RzW"
      },
      "outputs": [],
      "source": [
        "import time"
      ]
    },
    {
      "cell_type": "code",
      "execution_count": 35,
      "id": "_-h3Vu8S5nsa",
      "metadata": {
        "colab": {
          "base_uri": "https://localhost:8080/"
        },
        "id": "_-h3Vu8S5nsa",
        "outputId": "17538276-2bf3-4e98-a3fd-8dd2613fe54b"
      },
      "outputs": [
        {
          "name": "stdout",
          "output_type": "stream",
          "text": [
            "[Distill] Epoch 1/3 | loss=0.517553 | time=3.0s\n",
            "[Distill] Epoch 2/3 | loss=0.512560 | time=2.9s\n",
            "[Distill] Epoch 3/3 | loss=0.511918 | time=3.1s\n",
            "[Student CKPT] saved -> ./outputs_diffusion_mnist/student_final.pth\n",
            "[Eval] Generating teacher samples (this may take some time)...\n",
            "[Timing] Teacher full sampling: 200 samples in 32.08s  -> 0.1604s per sample\n",
            "[Eval] Generating student samples (fast)...\n",
            "[Timing] Student sampling: 200 samples in 0.34s -> 0.0017s per sample\n",
            "[Saved] Teacher grid: ./outputs_diffusion_mnist/samples_teacher_full.png\n",
            "[Saved] Student grid: ./outputs_diffusion_mnist/samples_student_final.png\n"
          ]
        }
      ],
      "source": [
        "@torch.no_grad()\n",
        "def student_sample(student, n=10, save_name=\"samples_student.png\"):\n",
        "    \"\"\"\n",
        "    Generate n images from student: one forward pass from z0 -> x.\n",
        "    \"\"\"\n",
        "    student.eval()\n",
        "    z0 = torch.randn(n, 1, CFG[\"img_size\"], CFG[\"img_size\"], device=device)\n",
        "    t_zero = torch.zeros(n, dtype=torch.long, device=device)\n",
        "    x = student(z0, t_zero).clamp(-1,1)\n",
        "    path = os.path.join(CFG[\"save_dir\"], save_name)\n",
        "    utils.save_image((x+1)/2, path, nrow=5)\n",
        "    return x, path\n",
        "\n",
        "@torch.no_grad()\n",
        "def time_teacher_sampling(teacher, n=100):\n",
        "    \"\"\"Time how long teacher takes to generate n samples using full reverse loop (T steps).\"\"\"\n",
        "    t0 = time.time()\n",
        "\n",
        "    all_samples = []\n",
        "    bs = 20\n",
        "    for i in range(0, n, bs):\n",
        "        nb = min(bs, n - i)\n",
        "        x_gen, _ = p_sample_loop(teacher, n=nb)\n",
        "        all_samples.append(x_gen.cpu())\n",
        "    total = time.time() - t0\n",
        "    samples = torch.cat(all_samples, dim=0)\n",
        "    return samples, total\n",
        "\n",
        "@torch.no_grad()\n",
        "def time_student_sampling(student, n=100):\n",
        "    t0 = time.time()\n",
        "    all_samples = []\n",
        "    bs = 100\n",
        "    for i in range(0, n, bs):\n",
        "        nb = min(bs, n - i)\n",
        "        x_student, _ = student_sample(student, n=nb, save_name=f\"tmp_student_{i}.png\")\n",
        "        all_samples.append(x_student.cpu())\n",
        "    total = time.time() - t0\n",
        "    samples = torch.cat(all_samples, dim=0)\n",
        "    return samples, total\n",
        "\n",
        "# run distillation and compare\n",
        "\n",
        "K_teacher = 10\n",
        "student_epochs = 3\n",
        "n_eval = 200\n",
        "\n",
        "student_ckpt_path = os.path.join(CFG[\"save_dir\"], \"student_final.pth\")\n",
        "student, student_loss_hist = distill_student(model, steps_K=K_teacher, student_epochs=student_epochs, n_per_batch=64)\n",
        "\n",
        "save_student_checkpoint(student, torch.optim.AdamW(student.parameters()), student_epochs, student_loss_hist, student_ckpt_path)\n",
        "\n",
        "\n",
        "print(\"[Eval] Generating teacher samples (this may take some time)...\")\n",
        "teacher_samples, teacher_time = time_teacher_sampling(model, n=n_eval)\n",
        "print(f\"[Timing] Teacher full sampling: {n_eval} samples in {teacher_time:.2f}s  -> {teacher_time/n_eval:.4f}s per sample\")\n",
        "\n",
        "print(\"[Eval] Generating student samples (fast)...\")\n",
        "student_samples, student_time = time_student_sampling(student, n=n_eval)\n",
        "print(f\"[Timing] Student sampling: {n_eval} samples in {student_time:.2f}s -> {student_time/n_eval:.4f}s per sample\")\n",
        "\n",
        "teacher_grid_path = os.path.join(CFG[\"save_dir\"], \"samples_teacher_full.png\")\n",
        "utils.save_image((teacher_samples[:100]+1)/2, teacher_grid_path, nrow=10)\n",
        "student_grid_path = os.path.join(CFG[\"save_dir\"], \"samples_student_final.png\")\n",
        "utils.save_image((student_samples[:100]+1)/2, student_grid_path, nrow=10)\n",
        "print(f\"[Saved] Teacher grid: {teacher_grid_path}\")\n",
        "print(f\"[Saved] Student grid: {student_grid_path}\")\n"
      ]
    }
  ],
  "metadata": {
    "accelerator": "GPU",
    "colab": {
      "gpuType": "T4",
      "provenance": []
    },
    "kernelspec": {
      "display_name": "Python 3",
      "name": "python3"
    },
    "language_info": {
      "name": "python"
    }
  },
  "nbformat": 4,
  "nbformat_minor": 5
}
