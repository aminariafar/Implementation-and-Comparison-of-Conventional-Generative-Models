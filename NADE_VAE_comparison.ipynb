{
  "cells": [
    {
      "cell_type": "code",
      "execution_count": 1,
      "metadata": {
        "colab": {
          "base_uri": "https://localhost:8080/"
        },
        "id": "luiVwzw_UCD5",
        "outputId": "6ae81a24-c065-413c-b267-1cbaecc707a6"
      },
      "outputs": [
        {
          "name": "stdout",
          "output_type": "stream",
          "text": [
            "Drive already mounted at /content/drive; to attempt to forcibly remount, call drive.mount(\"/content/drive\", force_remount=True).\n"
          ]
        }
      ],
      "source": [
        "from google.colab import drive\n",
        "import os\n",
        "\n",
        "drive.mount('/content/drive')\n",
        "\n",
        "GOOGLE_DRIVE_PATH = os.path.join('drive', 'My Drive', 'data')\n",
        "os.chdir(GOOGLE_DRIVE_PATH)"
      ]
    },
    {
      "cell_type": "markdown",
      "metadata": {
        "id": "qabiEwmhSkX2"
      },
      "source": [
        "# Preparing LeNet model as our classifier for computing scores"
      ]
    },
    {
      "cell_type": "code",
      "execution_count": 2,
      "metadata": {
        "colab": {
          "base_uri": "https://localhost:8080/"
        },
        "id": "eEKoe9R0ocyF",
        "outputId": "f4a0b665-4a4e-4725-ba1e-86cf7ed3a28a"
      },
      "outputs": [
        {
          "data": {
            "text/plain": [
              "LeNet(\n",
              "  (conv1): Conv2d(1, 10, kernel_size=(5, 5), stride=(1, 1))\n",
              "  (conv2): Conv2d(10, 20, kernel_size=(5, 5), stride=(1, 1))\n",
              "  (fc1): Linear(in_features=320, out_features=50, bias=True)\n",
              "  (fc2): Linear(in_features=50, out_features=10, bias=True)\n",
              ")"
            ]
          },
          "execution_count": 2,
          "metadata": {},
          "output_type": "execute_result"
        }
      ],
      "source": [
        "import torch\n",
        "import torch.nn as nn\n",
        "import torch.optim as optim\n",
        "from torchvision import datasets, transforms\n",
        "from torch.utils.data import DataLoader\n",
        "\n",
        "import torch\n",
        "import torch.nn as nn\n",
        "\n",
        "class LeNet(nn.Module):\n",
        "    def __init__(self):\n",
        "        super(LeNet, self).__init__()\n",
        "        self.conv1 = nn.Conv2d(1, 10, kernel_size=5)\n",
        "        self.conv2 = nn.Conv2d(10, 20, kernel_size=5)\n",
        "        self.fc1 = nn.Linear(320, 50)\n",
        "        self.fc2 = nn.Linear(50, 10)\n",
        "\n",
        "    def forward(self, x, return_features=False):\n",
        "        \"\"\"\n",
        "        Defines the forward pass. Can return final logits or intermediate features.\n",
        "\n",
        "        Args:\n",
        "            x (torch.Tensor): The input batch of images.\n",
        "            return_features (bool): If True, returns features from fc1.\n",
        "                                    If False, returns final logits from fc2.\n",
        "        \"\"\"\n",
        "        x = torch.relu(torch.max_pool2d(self.conv1(x), 2))\n",
        "        x = torch.relu(torch.max_pool2d(self.conv2(x), 2))\n",
        "        x = x.view(-1, 320)\n",
        "\n",
        "        features = torch.relu(self.fc1(x))\n",
        "\n",
        "        if return_features:\n",
        "            return features\n",
        "\n",
        "        output = self.fc2(features)\n",
        "        return output\n",
        "\n",
        "LeNet()"
      ]
    },
    {
      "cell_type": "code",
      "execution_count": 4,
      "metadata": {
        "id": "Q_yYpr0jUMs9"
      },
      "outputs": [],
      "source": [
        "transform = transforms.Compose([\n",
        "    transforms.ToTensor(),  # Convert image to a [0.0, 1.0] tensor\n",
        "    transforms.Lambda(lambda x: (x > 0.5).float()) # Binarizes the tensor to 0s and 1s\n",
        "])\n",
        "\n",
        "train_dataset = datasets.MNIST(root='./data', train=True, download=True, transform=transform)\n",
        "train_loader = DataLoader(dataset=train_dataset, batch_size=64, shuffle=True)\n",
        "\n",
        "device = torch.device(\"cuda\" if torch.cuda.is_available() else \"cpu\")\n",
        "classifier = LeNet().to(device)\n",
        "criterion = nn.CrossEntropyLoss()\n",
        "optimizer = optim.Adam(classifier.parameters(), lr=0.001)"
      ]
    },
    {
      "cell_type": "code",
      "execution_count": null,
      "metadata": {
        "colab": {
          "base_uri": "https://localhost:8080/"
        },
        "id": "4LNore6WUWdJ",
        "outputId": "97213bb5-dcc6-4942-9131-334eb4e26c98"
      },
      "outputs": [
        {
          "name": "stdout",
          "output_type": "stream",
          "text": [
            "Epoch [1/5], Step [200/938], Loss: 0.2336\n",
            "Epoch [1/5], Step [400/938], Loss: 0.1033\n",
            "Epoch [1/5], Step [600/938], Loss: 0.1078\n",
            "Epoch [1/5], Step [800/938], Loss: 0.0666\n",
            "Epoch [2/5], Step [200/938], Loss: 0.1797\n",
            "Epoch [2/5], Step [400/938], Loss: 0.0486\n",
            "Epoch [2/5], Step [600/938], Loss: 0.0728\n",
            "Epoch [2/5], Step [800/938], Loss: 0.0410\n",
            "Epoch [3/5], Step [200/938], Loss: 0.1544\n",
            "Epoch [3/5], Step [400/938], Loss: 0.0242\n",
            "Epoch [3/5], Step [600/938], Loss: 0.0752\n",
            "Epoch [3/5], Step [800/938], Loss: 0.0080\n",
            "Epoch [4/5], Step [200/938], Loss: 0.0184\n",
            "Epoch [4/5], Step [400/938], Loss: 0.0784\n",
            "Epoch [4/5], Step [600/938], Loss: 0.0480\n",
            "Epoch [4/5], Step [800/938], Loss: 0.0267\n",
            "Epoch [5/5], Step [200/938], Loss: 0.0087\n",
            "Epoch [5/5], Step [400/938], Loss: 0.0608\n",
            "Epoch [5/5], Step [600/938], Loss: 0.0114\n",
            "Epoch [5/5], Step [800/938], Loss: 0.0314\n",
            "Finished Training!\n"
          ]
        }
      ],
      "source": [
        "num_epochs = 5\n",
        "\n",
        "classifier.train()\n",
        "for epoch in range(num_epochs):\n",
        "    for batch_idx, (data, target) in enumerate(train_loader):\n",
        "        data, target = data.to(device), target.to(device)\n",
        "\n",
        "        outputs = classifier(data)\n",
        "        loss = criterion(outputs, target)\n",
        "\n",
        "        optimizer.zero_grad()\n",
        "        loss.backward()\n",
        "        optimizer.step()\n",
        "\n",
        "        if (batch_idx+1) % 200 == 0:\n",
        "            print(f'Epoch [{epoch+1}/{num_epochs}], Step [{batch_idx+1}/{len(train_loader)}], Loss: {loss.item():.4f}')\n",
        "\n",
        "print(\"Finished Training!\")"
      ]
    },
    {
      "cell_type": "code",
      "execution_count": null,
      "metadata": {
        "colab": {
          "base_uri": "https://localhost:8080/"
        },
        "id": "WhmUKYNrtbNA",
        "outputId": "7dda05e3-8fd0-4c8a-a91f-e2e7a795c32d"
      },
      "outputs": [
        {
          "name": "stdout",
          "output_type": "stream",
          "text": [
            "Model weights saved to lenet_mnist.pth\n"
          ]
        }
      ],
      "source": [
        "weights_path = 'lenet_mnist.pth'\n",
        "torch.save(classifier.state_dict(), weights_path)\n",
        "print(f\"Model weights saved to {weights_path}\")"
      ]
    },
    {
      "cell_type": "code",
      "execution_count": 5,
      "metadata": {
        "id": "AgCSgLzI7ho4"
      },
      "outputs": [],
      "source": [
        "test_dataset = datasets.MNIST(root='./data', train=False, download=True, transform=transform)\n",
        "test_loader = DataLoader(dataset=test_dataset, batch_size=128, shuffle=False)"
      ]
    },
    {
      "cell_type": "code",
      "execution_count": null,
      "metadata": {
        "colab": {
          "base_uri": "https://localhost:8080/"
        },
        "id": "LvuHOvc9VVUM",
        "outputId": "674a9c04-8028-4f18-f62a-8b3562e6303f"
      },
      "outputs": [
        {
          "name": "stdout",
          "output_type": "stream",
          "text": [
            "Accuracy of the model on the 10,000 test images: 98.71%\n"
          ]
        }
      ],
      "source": [
        "classifier.eval()\n",
        "correct = 0\n",
        "total = 0\n",
        "with torch.no_grad():\n",
        "    for data, target in test_loader:\n",
        "        data, target = data.to(device), target.to(device)\n",
        "        outputs = classifier(data)\n",
        "        _, predicted = torch.max(outputs.data, 1)\n",
        "        total += target.size(0)\n",
        "        correct += (predicted == target).sum().item()\n",
        "\n",
        "accuracy = 100 * correct / total\n",
        "print(f'Accuracy of the model on the 10,000 test images: {accuracy:.2f}%')"
      ]
    },
    {
      "cell_type": "code",
      "execution_count": 6,
      "metadata": {
        "colab": {
          "base_uri": "https://localhost:8080/"
        },
        "id": "MH3PYQyQTLR7",
        "outputId": "8ca47e0b-793f-4cf1-b3e9-2379dcd91bf8"
      },
      "outputs": [
        {
          "data": {
            "text/plain": [
              "LeNet(\n",
              "  (conv1): Conv2d(1, 10, kernel_size=(5, 5), stride=(1, 1))\n",
              "  (conv2): Conv2d(10, 20, kernel_size=(5, 5), stride=(1, 1))\n",
              "  (fc1): Linear(in_features=320, out_features=50, bias=True)\n",
              "  (fc2): Linear(in_features=50, out_features=10, bias=True)\n",
              ")"
            ]
          },
          "execution_count": 6,
          "metadata": {},
          "output_type": "execute_result"
        }
      ],
      "source": [
        "# to load the weights later:\n",
        "weights_path = 'lenet_mnist.pth'\n",
        "classifier = LeNet()\n",
        "classifier.load_state_dict(torch.load(weights_path))\n",
        "classifier.eval()"
      ]
    },
    {
      "cell_type": "markdown",
      "metadata": {
        "id": "q11sThmiWZmg"
      },
      "source": [
        "# Functions for scores"
      ]
    },
    {
      "cell_type": "code",
      "execution_count": 7,
      "metadata": {
        "id": "E4H7sHTqWskj"
      },
      "outputs": [],
      "source": [
        "import torch.nn.functional as F\n",
        "import numpy as np\n",
        "from torch.utils.data import TensorDataset"
      ]
    },
    {
      "cell_type": "code",
      "execution_count": 8,
      "metadata": {
        "id": "z82-_yVDWJJT"
      },
      "outputs": [],
      "source": [
        "def calculate_inception_score(images, classifier, batch_size=32, splits=10):\n",
        "    \"\"\"\n",
        "    Computes the Inception Score for a set of generated images.\n",
        "\n",
        "    Args:\n",
        "        images (torch.Tensor): A tensor of generated images, shape (N, 784).\n",
        "        classifier (nn.Module): A pretrained classifier (e.g., LeNet) for MNIST.\n",
        "        batch_size (int): The batch size for feeding images to the classifier.\n",
        "        splits (int): The number of splits to average scores over for stability.\n",
        "\n",
        "    Returns:\n",
        "        tuple: (mean_is, std_is) - The mean and standard deviation of the Inception Score.\n",
        "    \"\"\"\n",
        "\n",
        "    classifier.eval()\n",
        "\n",
        "    images = images.view(-1, 1, 28, 28)\n",
        "\n",
        "\n",
        "    dataset = TensorDataset(images)\n",
        "    dataloader = DataLoader(dataset, batch_size=batch_size)\n",
        "\n",
        "    all_preds = []\n",
        "    with torch.no_grad():\n",
        "        for batch in dataloader:\n",
        "\n",
        "            img_batch = batch[0].to(device)\n",
        "            preds = F.softmax(classifier(img_batch), dim=1)\n",
        "            all_preds.append(preds.cpu().numpy())\n",
        "\n",
        "    all_preds = np.concatenate(all_preds, axis=0)\n",
        "\n",
        "    scores = []\n",
        "    n_samples = all_preds.shape[0]\n",
        "    split_size = n_samples // splits\n",
        "\n",
        "    for i in range(splits):\n",
        "        part = all_preds[i * split_size: (i + 1) * split_size, :]\n",
        "\n",
        "        # Calculate p(y|x) - already have this from softmax\n",
        "        p_yx = part\n",
        "\n",
        "        # Calculate p(y) - the marginal distribution\n",
        "        p_y = np.mean(part, axis=0)\n",
        "\n",
        "        # Calculate KL divergence D_KL(p(y|x) || p(y)) for each sample\n",
        "        kl_divs = p_yx * (np.log(p_yx + 1e-10) - np.log(p_y + 1e-10))\n",
        "        kl_divs = np.sum(kl_divs, axis=1)\n",
        "\n",
        "        # Average the KL divergences and exponentiate\n",
        "        mean_kl_div = np.mean(kl_divs)\n",
        "        is_score = np.exp(mean_kl_div)\n",
        "\n",
        "        scores.append(is_score)\n",
        "\n",
        "    return np.mean(scores), np.std(scores)\n"
      ]
    },
    {
      "cell_type": "code",
      "execution_count": 9,
      "metadata": {
        "id": "y1sTRuvYYAXm"
      },
      "outputs": [],
      "source": [
        "from sklearn.metrics.pairwise import rbf_kernel"
      ]
    },
    {
      "cell_type": "code",
      "execution_count": 10,
      "metadata": {
        "id": "73uBQWZwW_3V"
      },
      "outputs": [],
      "source": [
        "def calculate_kid_gaussian(act1, act2):\n",
        "    \"\"\"\n",
        "    Calculates the Kernel Inception Distance (KID) using a Gaussian (RBF) kernel.\n",
        "\n",
        "    Args:\n",
        "        act1 (np.ndarray): A numpy array of feature activations for the real images.\n",
        "        act2 (np.ndarray): A numpy array of feature activations for the generated images.\n",
        "\n",
        "    Returns:\n",
        "        float: The KID score. Lower is better.\n",
        "    \"\"\"\n",
        "\n",
        "    mmd = rbf_kernel(act1, act1).mean() + \\\n",
        "           rbf_kernel(act2, act2).mean() - \\\n",
        "           2 * rbf_kernel(act1, act2).mean()\n",
        "\n",
        "    return mmd"
      ]
    },
    {
      "cell_type": "code",
      "execution_count": 11,
      "metadata": {
        "id": "4AdoUMGXY6m8"
      },
      "outputs": [],
      "source": [
        "from scipy.linalg import sqrtm"
      ]
    },
    {
      "cell_type": "code",
      "execution_count": 12,
      "metadata": {
        "id": "76C83BkvYBDC"
      },
      "outputs": [],
      "source": [
        "def calculate_fid(act1, act2):\n",
        "    mu1, sigma1 = act1.mean(axis=0), np.cov(act1, rowvar=False)\n",
        "    mu2, sigma2 = act2.mean(axis=0), np.cov(act2, rowvar=False)\n",
        "    ssdiff = np.sum((mu1 - mu2)**2.0)\n",
        "    covmean = sqrtm(sigma1.dot(sigma2))\n",
        "    if np.iscomplexobj(covmean):\n",
        "        covmean = covmean.real\n",
        "    fid = ssdiff + np.trace(sigma1 + sigma2 - 2.0 * covmean)\n",
        "    return fid"
      ]
    },
    {
      "cell_type": "markdown",
      "metadata": {
        "id": "lBuooGzgZBWd"
      },
      "source": [
        "# Model definition of NADE and VAE"
      ]
    },
    {
      "cell_type": "code",
      "execution_count": 3,
      "metadata": {
        "id": "WlrhoKOgZGcR"
      },
      "outputs": [],
      "source": [
        "class NADE(nn.Module):\n",
        "    def __init__(self, input_dim=784, hidden_dim=512):\n",
        "        \"\"\"Initialize the Neural Autoregressive Density Estimation model.\n",
        "\n",
        "        Args:\n",
        "            input_dim (int): Dimension of input data (flattened image size)\n",
        "            hidden_dim (int): Number of units in hidden layer\n",
        "        \"\"\"\n",
        "        super().__init__()\n",
        "        self.input_dim = input_dim\n",
        "        self.hidden_dim = hidden_dim\n",
        "        self.W = nn.Parameter(torch.randn(input_dim, hidden_dim) * 0.01)\n",
        "        self.c = nn.Parameter(torch.zeros(hidden_dim))\n",
        "        self.V = nn.Parameter(torch.randn(hidden_dim, input_dim) * 0.01)\n",
        "        self.b = nn.Parameter(torch.zeros(input_dim))\n",
        "\n",
        "        # Training metadata\n",
        "        self.start_epoch = 0\n",
        "        self.best_loss = float('inf')\n",
        "        self.train_history = []\n",
        "        self.test_history = []\n",
        "\n",
        "    def forward(self, x):\n",
        "        \"\"\"Forward pass through the NADE model.\n",
        "\n",
        "        Args:\n",
        "            x (torch.Tensor): Input tensor of shape (batch_size, input_dim)\n",
        "\n",
        "        Returns:\n",
        "            tuple: (x_hat, all_h) where:\n",
        "                x_hat: reconstructed probabilities for each dimension\n",
        "                all_h: all hidden states during autoregressive process\n",
        "        \"\"\"\n",
        "        batch_size = x.size(0)\n",
        "        x_hat = torch.zeros_like(x)\n",
        "        all_h = []\n",
        "\n",
        "        sum_to_d = torch.zeros(batch_size, self.hidden_dim, device=x.device)\n",
        "\n",
        "        for d in range(self.input_dim):\n",
        "            # Compute hidden activation: a_d = c + sum_{k<d} x_k * W_k\n",
        "            a_d = self.c + sum_to_d\n",
        "            h_d = torch.sigmoid(a_d)\n",
        "\n",
        "            # Compute output probability for dimension d:\n",
        "            # p_d = sigmoid(b_d + V_d^T h_d)\n",
        "            p_d = torch.sigmoid(self.b[d] + torch.matmul(h_d, self.V[:, d]))\n",
        "\n",
        "            # Save prediction\n",
        "            x_hat[:, d] = p_d\n",
        "            all_h.append(h_d)\n",
        "\n",
        "            # Update running sum for the next dimension\n",
        "            sum_to_d += x[:, d].unsqueeze(1) * self.W[d]\n",
        "\n",
        "        return x_hat, torch.stack(all_h, dim=1)\n",
        "\n",
        "    def log_prob(self, x):\n",
        "        \"\"\"Compute log probability of input samples under the model.\n",
        "\n",
        "        Args:\n",
        "            x (torch.Tensor): Input tensor of shape (batch_size, input_dim)\n",
        "\n",
        "        Returns:\n",
        "            torch.Tensor: Log probabilities for each sample (batch_size)\n",
        "        \"\"\"\n",
        "        x_hat, _ = self.forward(x)\n",
        "        # Compute Bernoulli log likelihood:\n",
        "        # log p(x) = sum_d [x_d * log(p_d) + (1-x_d) * log(1-p_d)]  --- update this in order to avoid log of zero\n",
        "\n",
        "        x_hat = torch.clamp(x_hat, min=1e-6, max=1 - 1e-6) # avoid log(0)\n",
        "        log_prob = x * torch.log(x_hat) + (1 - x) * torch.log(1 - x_hat)\n",
        "        # Sum over all dimensions (input_dim)\n",
        "        return log_prob.sum(dim=1)\n",
        "\n",
        "\n",
        "    def generate_samples(self, num_samples=10):\n",
        "        \"\"\"\n",
        "        Generates new images via ancestral sampling\n",
        "        Args:\n",
        "            num_samples: How many images to generate\n",
        "        Returns:\n",
        "            Tensor of shape (num_samples, input_dim)\n",
        "        \"\"\"\n",
        "        samples = torch.zeros(num_samples, 784).to(device)\n",
        "        with torch.no_grad():\n",
        "            for d in range(784):\n",
        "                p_d = self.forward(samples)[0][:, d]\n",
        "                samples[:, d] = torch.bernoulli(p_d)\n",
        "        return samples.cpu()\n"
      ]
    },
    {
      "cell_type": "code",
      "execution_count": null,
      "metadata": {
        "id": "uePOsXy7aCb3"
      },
      "outputs": [],
      "source": [
        "class Encoder(nn.Module):\n",
        "    def __init__(self, latent_dim):\n",
        "        super().__init__()\n",
        "        self.enc = nn.Sequential(\n",
        "            nn.Linear(784, 400),\n",
        "            nn.ReLU(),\n",
        "        )\n",
        "        self.mu = nn.Linear(400, latent_dim)\n",
        "        self.log_var = nn.Linear(400, latent_dim)\n",
        "\n",
        "    def forward(self, x):\n",
        "        h = self.enc(x)\n",
        "        return self.mu(h), self.log_var(h)\n",
        "\n",
        "class Decoder(nn.Module):\n",
        "    def __init__(self, latent_dim):\n",
        "        super().__init__()\n",
        "        self.dec = nn.Sequential(\n",
        "            nn.Linear(latent_dim, 400),\n",
        "            nn.ReLU(),\n",
        "            nn.Linear(400, 784),\n",
        "            nn.Sigmoid(),\n",
        "        )\n",
        "\n",
        "    def forward(self, z):\n",
        "        return self.dec(z)\n",
        "\n",
        "class VAE(nn.Module):\n",
        "    def __init__(self, latent_dim=2):\n",
        "        super().__init__()\n",
        "        self.encoder = Encoder(latent_dim)\n",
        "        self.decoder = Decoder(latent_dim)\n",
        "\n",
        "    def reparameterize(self, mu, log_var):\n",
        "        std = torch.exp(0.5 * log_var)\n",
        "        eps = torch.randn_like(std)\n",
        "        return mu + eps * std\n",
        "\n",
        "    def forward(self, x):\n",
        "        mu, log_var = self.encoder(x)\n",
        "        z = self.reparameterize(mu, log_var)\n",
        "        recon_x = self.decoder(z)\n",
        "        return recon_x, mu, log_var"
      ]
    },
    {
      "cell_type": "code",
      "execution_count": null,
      "metadata": {
        "id": "ufTIT4exaZJ9"
      },
      "outputs": [],
      "source": [
        "def vae_loss(recon_x, x, mu, log_var):\n",
        "    # Reconstruction Loss:\n",
        "    # Measures how accurately the decoded output matches the original input.\n",
        "    recon_loss = torch.nn.functional.binary_cross_entropy(recon_x, x, reduction='sum')\n",
        "\n",
        "    # KL Divergence Loss:\n",
        "    # Measures how much the learned latent distribution deviates\n",
        "    # from a standard Gaussian distribution (prior).\n",
        "    kl_loss = -0.5 * torch.sum(1 + log_var - mu.pow(2) - log_var.exp())\n",
        "\n",
        "    # Total loss combines both terms\n",
        "    loss = recon_loss + kl_loss\n",
        "\n",
        "    return loss, recon_loss, kl_loss"
      ]
    },
    {
      "cell_type": "markdown",
      "metadata": {
        "id": "cWc18p2ZavH2"
      },
      "source": [
        "# Data Preparation"
      ]
    },
    {
      "cell_type": "code",
      "execution_count": 16,
      "metadata": {
        "colab": {
          "base_uri": "https://localhost:8080/"
        },
        "id": "sIia9yWiabvn",
        "outputId": "585f8da3-17f0-4e56-c2d9-19673b16b15a"
      },
      "outputs": [
        {
          "name": "stdout",
          "output_type": "stream",
          "text": [
            "Shape of our new training images: torch.Size([1000, 784])\n",
            "Shape of our new testing images:  torch.Size([1000, 784])\n"
          ]
        }
      ],
      "source": [
        "full_test_dataset = test_dataset\n",
        "\n",
        "all_images = full_test_dataset.data.view(-1, 784).float() / 255.0\n",
        "all_labels = full_test_dataset.targets\n",
        "\n",
        "train_images = all_images[0:1000]\n",
        "train_labels = all_labels[0:1000]\n",
        "\n",
        "test_images = all_images[1000:2000]\n",
        "test_labels = all_labels[1000:2000]\n",
        "\n",
        "print(f\"Shape of our new training images: {train_images.shape}\")\n",
        "print(f\"Shape of our new testing images:  {test_images.shape}\")\n",
        "\n",
        "train_dataset = TensorDataset(train_images, train_labels)\n",
        "train_loader = DataLoader(train_dataset, batch_size=64, shuffle=True)\n",
        "\n",
        "test_dataset = TensorDataset(test_images, test_labels)\n",
        "test_loader = DataLoader(test_dataset, batch_size=128, shuffle=False)"
      ]
    },
    {
      "cell_type": "markdown",
      "metadata": {
        "id": "YlmX6YKply4B"
      },
      "source": [
        "# GMM training & sampling"
      ]
    },
    {
      "cell_type": "markdown",
      "metadata": {
        "id": "dfio55AcMZVh"
      },
      "source": [
        "A Gaussian Mixture Model (GMM) is a solid baseline for generative tasks because it's a true generative model, theoretically it can model complex distributions and also it is simple and fast. </br></br>\n",
        "GMMs fail to produce high-quality images due to severe limitations:\n",
        "\n",
        "*   Failure in high dimensions\n",
        "*   No spatial awareness\n",
        "*   Restrictive assumptions about the shape of the distribution\n",
        "*   Sensitivity to the number of defined components"
      ]
    },
    {
      "cell_type": "code",
      "execution_count": 17,
      "metadata": {
        "id": "hf_DWU4dmyq2"
      },
      "outputs": [],
      "source": [
        "from sklearn.mixture import GaussianMixture"
      ]
    },
    {
      "cell_type": "code",
      "execution_count": null,
      "metadata": {
        "id": "FyTKgJzHlyPd"
      },
      "outputs": [],
      "source": [
        "gmm = GaussianMixture(\n",
        "    n_components=10,\n",
        "    covariance_type='diag',\n",
        "    max_iter=100,\n",
        "    n_init=10,\n",
        "    random_state=42,\n",
        "    verbose=1,\n",
        "    verbose_interval=10\n",
        ")\n",
        "\n",
        "gmm.fit(train_images.numpy())\n",
        "\n",
        "print(f\"\\nModel converged: {gmm.converged_}\")\n",
        "print(f\"Number of iterations to converge: {gmm.n_iter_}\")"
      ]
    },
    {
      "cell_type": "code",
      "execution_count": 21,
      "metadata": {
        "colab": {
          "base_uri": "https://localhost:8080/"
        },
        "id": "qzRUMZlh_DAP",
        "outputId": "2cf43563-529f-4fef-fbdf-ab21e34f6b97"
      },
      "outputs": [
        {
          "name": "stdout",
          "output_type": "stream",
          "text": [
            "\n",
            "Generating samples from the fitted GMM...\n",
            "Sample generation complete.\n"
          ]
        }
      ],
      "source": [
        "print(\"\\nGenerating samples from the fitted GMM...\")\n",
        "gmm_samples, _ = gmm.sample(1000)\n",
        "print(\"Sample generation complete.\")"
      ]
    },
    {
      "cell_type": "markdown",
      "metadata": {
        "id": "G4H1vx1DAdSg"
      },
      "source": [
        "## Load and save GMM model and samples"
      ]
    },
    {
      "cell_type": "code",
      "execution_count": 13,
      "metadata": {
        "id": "dMHKRsB5ATZd"
      },
      "outputs": [],
      "source": [
        "import joblib"
      ]
    },
    {
      "cell_type": "code",
      "execution_count": null,
      "metadata": {
        "colab": {
          "base_uri": "https://localhost:8080/"
        },
        "id": "If2XJfgEAUTQ",
        "outputId": "87abefc5-e2cc-4427-9e4b-0e33629c5a8d"
      },
      "outputs": [
        {
          "name": "stdout",
          "output_type": "stream",
          "text": [
            "\n",
            "Saving model to gmm_model.joblib...\n",
            "Model saved successfully.\n"
          ]
        }
      ],
      "source": [
        "model_filename = 'gmm_model.joblib'\n",
        "print(f\"\\nSaving model to {model_filename}...\")\n",
        "joblib.dump(gmm, model_filename)\n",
        "print(\"Model saved successfully.\")"
      ]
    },
    {
      "cell_type": "code",
      "execution_count": 14,
      "metadata": {
        "colab": {
          "base_uri": "https://localhost:8080/"
        },
        "id": "aGkbbpl5Af2I",
        "outputId": "63db7740-d35d-4a40-820b-b0f11939b42a"
      },
      "outputs": [
        {
          "name": "stdout",
          "output_type": "stream",
          "text": [
            "\n",
            "Loading model from gmm_model.joblib...\n",
            "Model loaded successfully.\n"
          ]
        }
      ],
      "source": [
        "model_filename = 'gmm_model.joblib'\n",
        "print(f\"\\nLoading model from {model_filename}...\")\n",
        "gmm = joblib.load(model_filename)\n",
        "print(\"Model loaded successfully.\")"
      ]
    },
    {
      "cell_type": "code",
      "execution_count": null,
      "metadata": {
        "colab": {
          "base_uri": "https://localhost:8080/"
        },
        "id": "r2qmiAHkujxD",
        "outputId": "83f3a6d3-041a-4799-96cc-bebbaa41e320"
      },
      "outputs": [
        {
          "name": "stdout",
          "output_type": "stream",
          "text": [
            "\n",
            "Saving generated samples to 'gmm_generated_samples.npy'...\n",
            "Samples saved successfully.\n"
          ]
        }
      ],
      "source": [
        "filename = 'gmm_generated_samples.npy'\n",
        "\n",
        "print(f\"\\nSaving generated samples to '{filename}'...\")\n",
        "\n",
        "np.save(filename, gmm_samples)\n",
        "\n",
        "print(\"Samples saved successfully.\")"
      ]
    },
    {
      "cell_type": "code",
      "execution_count": 22,
      "metadata": {
        "colab": {
          "base_uri": "https://localhost:8080/"
        },
        "id": "gwzL5p29upQL",
        "outputId": "b8d74c8b-87e4-49e0-996d-0eac75fab694"
      },
      "outputs": [
        {
          "name": "stdout",
          "output_type": "stream",
          "text": [
            "\n",
            "Loading samples from 'gmm_generated_samples.npy'...\n",
            "Samples loaded successfully.\n"
          ]
        }
      ],
      "source": [
        "filename = 'gmm_generated_samples.npy'\n",
        "\n",
        "print(f\"\\nLoading samples from '{filename}'...\")\n",
        "\n",
        "gmm_samples = np.load(filename)\n",
        "\n",
        "print(\"Samples loaded successfully.\")"
      ]
    },
    {
      "cell_type": "markdown",
      "metadata": {
        "id": "eNcvrVbjAwnd"
      },
      "source": [
        "# Train NADE model"
      ]
    },
    {
      "cell_type": "code",
      "execution_count": 6,
      "metadata": {
        "colab": {
          "base_uri": "https://localhost:8080/",
          "height": 35
        },
        "id": "LGL0Glom7CaD",
        "outputId": "6fa481a7-e531-4615-969e-df24be7a1433"
      },
      "outputs": [
        {
          "data": {
            "application/vnd.google.colaboratory.intrinsic+json": {
              "type": "string"
            },
            "text/plain": [
              "'cuda'"
            ]
          },
          "execution_count": 6,
          "metadata": {},
          "output_type": "execute_result"
        }
      ],
      "source": [
        "device = 'cuda' if torch.cuda.is_available() else 'cpu'\n",
        "device"
      ]
    },
    {
      "cell_type": "code",
      "execution_count": 7,
      "metadata": {
        "id": "DHd3cnieuynD"
      },
      "outputs": [],
      "source": [
        "import time"
      ]
    },
    {
      "cell_type": "code",
      "execution_count": null,
      "metadata": {
        "colab": {
          "base_uri": "https://localhost:8080/"
        },
        "id": "DggK_7VcwU8c",
        "outputId": "6fcece34-2f15-4c46-a520-136ed32e4b43"
      },
      "outputs": [
        {
          "name": "stdout",
          "output_type": "stream",
          "text": [
            "Preparing real features for FID calculation...\n",
            "Real features prepared with shape: (1000, 50)\n"
          ]
        }
      ],
      "source": [
        "classifier.eval()\n",
        "\n",
        "print(\"Preparing real features for FID calculation...\")\n",
        "with torch.no_grad():\n",
        "\n",
        "    real_images_for_fid = test_images.view(-1, 1, 28, 28).to(device)\n",
        "\n",
        "    real_features = classifier(real_images_for_fid, return_features=True).cpu().numpy()\n",
        "\n",
        "print(f\"Real features prepared with shape: {real_features.shape}\")"
      ]
    },
    {
      "cell_type": "code",
      "execution_count": null,
      "metadata": {
        "colab": {
          "base_uri": "https://localhost:8080/"
        },
        "id": "8oOd-D4iA0nE",
        "outputId": "7dc452fe-02bb-43e1-8bcc-54c9629a9f1d"
      },
      "outputs": [
        {
          "name": "stdout",
          "output_type": "stream",
          "text": [
            "\n",
            "Starting NADE training...\n",
            "Epoch [1/100] - Train Loss: 492.0232 | Test Loss: 437.2212\n",
            "--- Epoch 1 Evaluation ---\n",
            "FID Score: 0.0299\n",
            "Time Elapsed: 122.24 seconds\n",
            "--------------------------\n",
            "Epoch [2/100] - Train Loss: 399.0838 | Test Loss: 358.8697\n",
            "Epoch [3/100] - Train Loss: 333.4977 | Test Loss: 305.9437\n",
            "Epoch [4/100] - Train Loss: 290.5002 | Test Loss: 272.2928\n",
            "Epoch [5/100] - Train Loss: 263.2215 | Test Loss: 251.2040\n",
            "Epoch [6/100] - Train Loss: 246.5543 | Test Loss: 237.7082\n",
            "Failed to find a square root.\n",
            "--- Epoch 6 Evaluation ---\n",
            "FID Score: nan\n",
            "Time Elapsed: 279.06 seconds\n",
            "--------------------------\n",
            "Epoch [7/100] - Train Loss: 235.6541 | Test Loss: 228.7219\n",
            "Epoch [8/100] - Train Loss: 227.9350 | Test Loss: 222.4938\n",
            "Epoch [9/100] - Train Loss: 222.7019 | Test Loss: 217.9350\n",
            "Epoch [10/100] - Train Loss: 218.7494 | Test Loss: 214.5099\n",
            "Epoch [11/100] - Train Loss: 215.6989 | Test Loss: 211.8319\n",
            "--- Epoch 11 Evaluation ---\n",
            "FID Score: 0.0116\n",
            "Time Elapsed: 432.75 seconds\n",
            "--------------------------\n",
            "Epoch [12/100] - Train Loss: 213.0897 | Test Loss: 209.6903\n",
            "Epoch [13/100] - Train Loss: 211.4361 | Test Loss: 207.9549\n",
            "Epoch [14/100] - Train Loss: 209.6163 | Test Loss: 206.5212\n",
            "Epoch [15/100] - Train Loss: 208.2375 | Test Loss: 205.2817\n",
            "Epoch [16/100] - Train Loss: 207.3559 | Test Loss: 204.2865\n",
            "--- Epoch 16 Evaluation ---\n",
            "FID Score: 0.0115\n",
            "Time Elapsed: 588.25 seconds\n",
            "--------------------------\n",
            "Epoch [17/100] - Train Loss: 206.2830 | Test Loss: 203.3753\n",
            "Epoch [18/100] - Train Loss: 205.3784 | Test Loss: 202.5718\n",
            "Epoch [19/100] - Train Loss: 204.6407 | Test Loss: 201.8488\n",
            "Epoch [20/100] - Train Loss: 203.9717 | Test Loss: 201.2413\n",
            "Epoch [21/100] - Train Loss: 203.4316 | Test Loss: 200.5979\n",
            "Failed to find a square root.\n",
            "--- Epoch 21 Evaluation ---\n",
            "FID Score: nan\n",
            "Time Elapsed: 741.56 seconds\n",
            "--------------------------\n",
            "Epoch [22/100] - Train Loss: 202.9648 | Test Loss: 200.0675\n",
            "Epoch [23/100] - Train Loss: 202.5575 | Test Loss: 199.5794\n",
            "Epoch [24/100] - Train Loss: 201.9203 | Test Loss: 199.1188\n",
            "Epoch [25/100] - Train Loss: 201.5144 | Test Loss: 198.6606\n",
            "Epoch [26/100] - Train Loss: 201.2869 | Test Loss: 198.1893\n",
            "Failed to find a square root.\n",
            "--- Epoch 26 Evaluation ---\n",
            "FID Score: nan\n",
            "Time Elapsed: 894.47 seconds\n",
            "--------------------------\n",
            "Epoch [27/100] - Train Loss: 200.7023 | Test Loss: 197.7830\n",
            "Epoch [28/100] - Train Loss: 200.1285 | Test Loss: 197.3733\n",
            "Epoch [29/100] - Train Loss: 199.7258 | Test Loss: 196.9781\n",
            "Epoch [30/100] - Train Loss: 199.5130 | Test Loss: 196.5829\n",
            "Epoch [31/100] - Train Loss: 199.0011 | Test Loss: 196.2409\n",
            "--- Epoch 31 Evaluation ---\n",
            "FID Score: 0.0107\n",
            "Time Elapsed: 1047.85 seconds\n",
            "--------------------------\n",
            "Epoch [32/100] - Train Loss: 198.6902 | Test Loss: 195.8067\n",
            "Epoch [33/100] - Train Loss: 197.8670 | Test Loss: 195.4710\n",
            "Epoch [34/100] - Train Loss: 197.7689 | Test Loss: 195.0387\n",
            "Epoch [35/100] - Train Loss: 197.4804 | Test Loss: 194.6419\n",
            "Epoch [36/100] - Train Loss: 196.5787 | Test Loss: 194.2538\n",
            "--- Epoch 36 Evaluation ---\n",
            "FID Score: 0.0108\n",
            "Time Elapsed: 1217.75 seconds\n",
            "--------------------------\n",
            "Epoch [37/100] - Train Loss: 196.6942 | Test Loss: 193.8469\n",
            "Epoch [38/100] - Train Loss: 196.1791 | Test Loss: 193.4783\n",
            "Epoch [39/100] - Train Loss: 195.4700 | Test Loss: 193.0431\n",
            "Epoch [40/100] - Train Loss: 195.4119 | Test Loss: 192.6427\n",
            "Epoch [41/100] - Train Loss: 194.7684 | Test Loss: 192.2081\n",
            "--- Epoch 41 Evaluation ---\n",
            "FID Score: 0.0106\n",
            "Time Elapsed: 1385.42 seconds\n",
            "--------------------------\n",
            "Epoch [42/100] - Train Loss: 194.1612 | Test Loss: 191.7945\n",
            "Epoch [43/100] - Train Loss: 193.9991 | Test Loss: 191.3531\n",
            "Epoch [44/100] - Train Loss: 193.1753 | Test Loss: 190.9289\n",
            "Epoch [45/100] - Train Loss: 193.0955 | Test Loss: 190.4874\n",
            "Epoch [46/100] - Train Loss: 192.4160 | Test Loss: 190.0193\n",
            "--- Epoch 46 Evaluation ---\n",
            "FID Score: 0.0107\n",
            "Time Elapsed: 1540.27 seconds\n",
            "--------------------------\n",
            "Epoch [47/100] - Train Loss: 192.2227 | Test Loss: 189.6021\n",
            "Epoch [48/100] - Train Loss: 191.3790 | Test Loss: 189.1104\n",
            "Epoch [49/100] - Train Loss: 190.6107 | Test Loss: 188.6724\n",
            "Epoch [50/100] - Train Loss: 190.2479 | Test Loss: 188.1717\n",
            "Epoch [51/100] - Train Loss: 189.5353 | Test Loss: 187.6741\n",
            "--- Epoch 51 Evaluation ---\n",
            "FID Score: 0.0107\n",
            "Time Elapsed: 1688.14 seconds\n",
            "--------------------------\n",
            "Epoch [52/100] - Train Loss: 189.3639 | Test Loss: 187.2288\n",
            "Epoch [53/100] - Train Loss: 189.0527 | Test Loss: 186.7105\n",
            "Epoch [54/100] - Train Loss: 188.1703 | Test Loss: 186.2559\n",
            "Epoch [55/100] - Train Loss: 187.5984 | Test Loss: 185.7746\n",
            "Epoch [56/100] - Train Loss: 187.1109 | Test Loss: 185.2391\n",
            "--- Epoch 56 Evaluation ---\n",
            "FID Score: 0.0105\n",
            "Time Elapsed: 1833.83 seconds\n",
            "--------------------------\n",
            "Epoch [57/100] - Train Loss: 186.7182 | Test Loss: 184.7605\n",
            "Epoch [58/100] - Train Loss: 185.9866 | Test Loss: 184.2803\n",
            "Epoch [59/100] - Train Loss: 185.4775 | Test Loss: 183.7563\n",
            "Epoch [60/100] - Train Loss: 184.8472 | Test Loss: 183.2333\n",
            "Epoch [61/100] - Train Loss: 184.3977 | Test Loss: 182.7029\n",
            "Failed to find a square root.\n",
            "--- Epoch 61 Evaluation ---\n",
            "FID Score: nan\n",
            "Time Elapsed: 1982.09 seconds\n",
            "--------------------------\n",
            "Epoch [62/100] - Train Loss: 183.9143 | Test Loss: 182.2219\n",
            "Epoch [63/100] - Train Loss: 183.2917 | Test Loss: 181.7071\n",
            "Epoch [64/100] - Train Loss: 182.7833 | Test Loss: 181.1750\n",
            "Epoch [65/100] - Train Loss: 181.9050 | Test Loss: 180.6312\n",
            "Epoch [66/100] - Train Loss: 182.0010 | Test Loss: 180.0938\n",
            "--- Epoch 66 Evaluation ---\n",
            "FID Score: 0.0104\n",
            "Time Elapsed: 2128.10 seconds\n",
            "--------------------------\n",
            "Epoch [67/100] - Train Loss: 181.2194 | Test Loss: 179.5981\n",
            "Epoch [68/100] - Train Loss: 180.1084 | Test Loss: 179.0441\n",
            "Epoch [69/100] - Train Loss: 179.8322 | Test Loss: 178.4817\n",
            "Epoch [70/100] - Train Loss: 179.4100 | Test Loss: 177.9662\n",
            "Epoch [71/100] - Train Loss: 178.7472 | Test Loss: 177.4349\n",
            "Failed to find a square root.\n",
            "--- Epoch 71 Evaluation ---\n",
            "FID Score: nan\n",
            "Time Elapsed: 2278.48 seconds\n",
            "--------------------------\n",
            "Epoch [72/100] - Train Loss: 178.0592 | Test Loss: 176.8928\n",
            "Epoch [73/100] - Train Loss: 177.3295 | Test Loss: 176.3642\n",
            "Epoch [74/100] - Train Loss: 176.8144 | Test Loss: 175.8193\n",
            "Epoch [75/100] - Train Loss: 176.3236 | Test Loss: 175.2617\n",
            "Epoch [76/100] - Train Loss: 175.7243 | Test Loss: 174.7328\n",
            "--- Epoch 76 Evaluation ---\n",
            "FID Score: 0.0099\n",
            "Time Elapsed: 2425.77 seconds\n",
            "--------------------------\n",
            "Epoch [77/100] - Train Loss: 175.3852 | Test Loss: 174.2140\n",
            "Epoch [78/100] - Train Loss: 174.2848 | Test Loss: 173.6795\n",
            "Epoch [79/100] - Train Loss: 173.8578 | Test Loss: 173.1661\n",
            "Epoch [80/100] - Train Loss: 173.3640 | Test Loss: 172.6483\n",
            "Epoch [81/100] - Train Loss: 173.0361 | Test Loss: 172.1108\n",
            "--- Epoch 81 Evaluation ---\n",
            "FID Score: 0.0094\n",
            "Time Elapsed: 2572.36 seconds\n",
            "--------------------------\n",
            "Epoch [82/100] - Train Loss: 172.4183 | Test Loss: 171.5847\n",
            "Epoch [83/100] - Train Loss: 171.7637 | Test Loss: 171.0858\n",
            "Epoch [84/100] - Train Loss: 171.2218 | Test Loss: 170.5651\n",
            "Epoch [85/100] - Train Loss: 170.4587 | Test Loss: 170.0706\n",
            "Epoch [86/100] - Train Loss: 170.2282 | Test Loss: 169.5420\n",
            "--- Epoch 86 Evaluation ---\n",
            "FID Score: 0.0093\n",
            "Time Elapsed: 2720.77 seconds\n",
            "--------------------------\n",
            "Epoch [87/100] - Train Loss: 169.1949 | Test Loss: 169.0618\n",
            "Epoch [88/100] - Train Loss: 168.7723 | Test Loss: 168.5791\n",
            "Epoch [89/100] - Train Loss: 168.5054 | Test Loss: 168.0781\n",
            "Epoch [90/100] - Train Loss: 167.8614 | Test Loss: 167.5859\n",
            "Epoch [91/100] - Train Loss: 167.2445 | Test Loss: 167.1247\n",
            "--- Epoch 91 Evaluation ---\n",
            "FID Score: 0.0092\n",
            "Time Elapsed: 2875.35 seconds\n",
            "--------------------------\n",
            "Epoch [92/100] - Train Loss: 166.6488 | Test Loss: 166.6322\n",
            "Epoch [93/100] - Train Loss: 166.0689 | Test Loss: 166.1782\n",
            "Epoch [94/100] - Train Loss: 165.8063 | Test Loss: 165.7403\n",
            "Epoch [95/100] - Train Loss: 165.2949 | Test Loss: 165.2570\n",
            "Epoch [96/100] - Train Loss: 164.9210 | Test Loss: 164.8063\n",
            "--- Epoch 96 Evaluation ---\n",
            "FID Score: 0.0091\n",
            "Time Elapsed: 3023.65 seconds\n",
            "--------------------------\n",
            "Epoch [97/100] - Train Loss: 164.2400 | Test Loss: 164.3843\n",
            "Epoch [98/100] - Train Loss: 164.0216 | Test Loss: 163.9266\n",
            "Epoch [99/100] - Train Loss: 163.4361 | Test Loss: 163.4957\n",
            "Epoch [100/100] - Train Loss: 162.6593 | Test Loss: 163.0554\n",
            "\n",
            "Training complete!\n",
            "Epochs recorded: [1, 6, 11, 16, 21, 26, 31, 36, 41, 46, 51, 56, 61, 66, 71, 76, 81, 86, 91, 96]\n",
            "FID History: [np.float64(0.02991028820191531), np.float64(nan), np.float64(0.01158442607821773), np.float64(0.011526288324757042), np.float64(nan), np.float64(nan), np.float64(0.01074922917353243), np.float64(0.010768778866824917), np.float64(0.010627446950630684), np.float64(0.010657124036628014), np.float64(0.010736445261484446), np.float64(0.01048573232486455), np.float64(nan), np.float64(0.010407107678879883), np.float64(nan), np.float64(0.009913860332130762), np.float64(0.009445109431766475), np.float64(0.00930756832761694), np.float64(0.009165906318307843), np.float64(0.009110756010836269)]\n",
            "Time History: [122.24270176887512, 279.0632436275482, 432.75401163101196, 588.2529482841492, 741.5615849494934, 894.4712374210358, 1047.851830482483, 1217.7460720539093, 1385.4152722358704, 1540.2657475471497, 1688.1406915187836, 1833.8335542678833, 1982.0922594070435, 2128.0987973213196, 2278.4835267066956, 2425.7748193740845, 2572.3601937294006, 2720.7725937366486, 2875.3488295078278, 3023.6548430919647]\n"
          ]
        }
      ],
      "source": [
        "nade = NADE().to(device)\n",
        "optimizer = optim.Adam(nade.parameters(), lr=1e-4)\n",
        "\n",
        "num_epochs = 100\n",
        "train_losses = []\n",
        "test_losses = []\n",
        "fid_history = []\n",
        "time_history = []\n",
        "epoch_history = []\n",
        "\n",
        "start_time = time.time()\n",
        "\n",
        "print(\"\\nStarting NADE training...\")\n",
        "\n",
        "for epoch in range(num_epochs):\n",
        "    nade.train()\n",
        "    train_loss = 0\n",
        "    for batch, _ in train_loader:\n",
        "        batch = batch.view(-1, 784).to(device)\n",
        "        optimizer.zero_grad()\n",
        "        loss = -nade.log_prob(batch).mean()\n",
        "        loss.backward()\n",
        "        optimizer.step()\n",
        "        train_loss += loss.item()\n",
        "    avg_train_loss = train_loss / len(train_loader)\n",
        "    train_losses.append(avg_train_loss)\n",
        "\n",
        "    nade.eval()\n",
        "    test_loss = 0\n",
        "    with torch.no_grad():\n",
        "        for batch, _ in test_loader:\n",
        "            batch = batch.view(-1, 784).to(device)\n",
        "            loss = -nade.log_prob(batch).mean()\n",
        "            test_loss += loss.item()\n",
        "    avg_test_loss = test_loss / len(test_loader)\n",
        "    test_losses.append(avg_test_loss)\n",
        "\n",
        "    print(f\"Epoch [{epoch+1}/{num_epochs}] - Train Loss: {avg_train_loss:.4f} | Test Loss: {avg_test_loss:.4f}\")\n",
        "\n",
        "    if epoch % 5 == 0:\n",
        "        nade.eval()\n",
        "        with torch.no_grad():\n",
        "            generated_samples = nade.generate_samples(num_samples=len(test_images))\n",
        "            generated_samples = generated_samples.view(-1, 1, 28, 28).to(device)\n",
        "\n",
        "            fake_features = classifier(generated_samples, return_features=True).cpu().numpy()\n",
        "\n",
        "            fid_score = calculate_fid(real_features, fake_features)\n",
        "\n",
        "            fid_history.append(fid_score)\n",
        "            elapsed_time = time.time() - start_time\n",
        "            time_history.append(elapsed_time)\n",
        "            epoch_history.append(epoch + 1)\n",
        "\n",
        "            print(f\"--- Epoch {epoch+1} Evaluation ---\")\n",
        "            print(f\"FID Score: {fid_score:.4f}\")\n",
        "            print(f\"Time Elapsed: {elapsed_time:.2f} seconds\")\n",
        "            print(\"--------------------------\")\n",
        "\n",
        "print(\"\\nTraining complete!\")\n",
        "print(\"Epochs recorded:\", epoch_history)\n",
        "print(\"FID History:\", fid_history)\n",
        "print(\"Time History:\", time_history)"
      ]
    },
    {
      "cell_type": "code",
      "execution_count": null,
      "metadata": {
        "id": "cxrPZsZxJaOy"
      },
      "outputs": [],
      "source": [
        "import matplotlib.pyplot as plt"
      ]
    },
    {
      "cell_type": "code",
      "execution_count": null,
      "metadata": {
        "colab": {
          "base_uri": "https://localhost:8080/",
          "height": 487
        },
        "id": "XAJscNUQJJkO",
        "outputId": "27ca23fd-c8ce-4e62-83fa-2e198c274c11"
      },
      "outputs": [
        {
          "data": {
            "image/png": "[encoded data removed]",
            "text/plain": [
              "<Figure size 1000x500 with 1 Axes>"
            ]
          },
          "metadata": {},
          "output_type": "display_data"
        }
      ],
      "source": [
        "plt.figure(figsize=(10, 5))\n",
        "plt.plot(train_losses, label='Training Loss')\n",
        "plt.plot(test_losses, label='Test Loss')\n",
        "plt.xlabel('Epoch')\n",
        "plt.ylabel('Negative Log-Likelihood')\n",
        "plt.legend()\n",
        "plt.title('NADE Training and Test Loss Over Epochs')\n",
        "plt.show()"
      ]
    },
    {
      "cell_type": "markdown",
      "metadata": {
        "id": "TzJoCIdb90IL"
      },
      "source": [
        "## Save model and results"
      ]
    },
    {
      "cell_type": "code",
      "execution_count": null,
      "metadata": {
        "colab": {
          "base_uri": "https://localhost:8080/"
        },
        "id": "mlPXOGgzBwPy",
        "outputId": "54f36d5f-9b12-44f8-b8f0-309b681ef6e4"
      },
      "outputs": [
        {
          "name": "stdout",
          "output_type": "stream",
          "text": [
            "\n",
            "Saving NADE model state_dict to nade_model.pth...\n",
            "NADE model saved successfully.\n"
          ]
        }
      ],
      "source": [
        "NADE_MODEL_PATH = 'nade_model.pth'\n",
        "print(f\"\\nSaving NADE model state_dict to {NADE_MODEL_PATH}...\")\n",
        "\n",
        "torch.save(nade.state_dict(), NADE_MODEL_PATH)\n",
        "print(\"NADE model saved successfully.\")"
      ]
    },
    {
      "cell_type": "code",
      "execution_count": 8,
      "metadata": {
        "colab": {
          "base_uri": "https://localhost:8080/"
        },
        "id": "ULy5cAuJByej",
        "outputId": "dfc99d5f-bc91-480e-c432-ea5e89e1ba6b"
      },
      "outputs": [
        {
          "data": {
            "text/plain": [
              "<All keys matched successfully>"
            ]
          },
          "execution_count": 8,
          "metadata": {},
          "output_type": "execute_result"
        }
      ],
      "source": [
        "nade = NADE().to(device)\n",
        "\n",
        "# Load the saved weights into the model instance\n",
        "\n",
        "nade.load_state_dict(torch.load('nade_model.pth'))"
      ]
    },
    {
      "cell_type": "code",
      "execution_count": 27,
      "metadata": {
        "id": "zLR9uLx2tcgu"
      },
      "outputs": [],
      "source": [
        "import json"
      ]
    },
    {
      "cell_type": "code",
      "execution_count": null,
      "metadata": {
        "colab": {
          "base_uri": "https://localhost:8080/"
        },
        "id": "AlB1ooDVB_22",
        "outputId": "ceadb7fb-1abb-4c16-d472-07a7f0042b92"
      },
      "outputs": [
        {
          "name": "stdout",
          "output_type": "stream",
          "text": [
            "\n",
            "Saving NADE training results to nade_training_results.json...\n",
            "NADE results saved successfully.\n"
          ]
        }
      ],
      "source": [
        "nade_results_to_save = {\n",
        "    'train_losses': train_losses,\n",
        "    'test_losses': test_losses,\n",
        "    'fid_history': fid_history,\n",
        "    'time_history': time_history,\n",
        "    'epoch_history': epoch_history\n",
        "}\n",
        "\n",
        "NADE_RESULTS_PATH = 'nade_training_results.json'\n",
        "print(f\"\\nSaving NADE training results to {NADE_RESULTS_PATH}...\")\n",
        "\n",
        "with open(NADE_RESULTS_PATH, 'w') as f:\n",
        "    json.dump(nade_results_to_save, f, indent=4)\n",
        "print(\"NADE results saved successfully.\")"
      ]
    },
    {
      "cell_type": "code",
      "execution_count": 28,
      "metadata": {
        "id": "C7dZe36WCGKH"
      },
      "outputs": [],
      "source": [
        "with open('nade_training_results.json', 'r') as f:\n",
        "    loaded_nade_results = json.load(f)"
      ]
    },
    {
      "cell_type": "markdown",
      "metadata": {
        "id": "hSvUT4tQ0Je7"
      },
      "source": [
        "# Train VAE model"
      ]
    },
    {
      "cell_type": "code",
      "execution_count": null,
      "metadata": {
        "colab": {
          "base_uri": "https://localhost:8080/"
        },
        "id": "rfCDDA6EGTzl",
        "outputId": "204d6417-b7a1-4992-b949-d835da4957d4"
      },
      "outputs": [
        {
          "name": "stdout",
          "output_type": "stream",
          "text": [
            "\n",
            "Starting VAE training...\n",
            "Epoch [1/100] - Train ELBO: 370.4469 | Test ELBO: 236.8273\n",
            "--- Epoch 1 Evaluation ---\n",
            "FID Score: 0.0286\n",
            "Time Elapsed: 0.11 seconds\n",
            "--------------------------\n",
            "Epoch [2/100] - Train ELBO: 223.6306 | Test ELBO: 209.0289\n",
            "Epoch [3/100] - Train ELBO: 208.4051 | Test ELBO: 201.1005\n",
            "Epoch [4/100] - Train ELBO: 200.7400 | Test ELBO: 195.0349\n",
            "Epoch [5/100] - Train ELBO: 192.3666 | Test ELBO: 185.9324\n",
            "Epoch [6/100] - Train ELBO: 184.2036 | Test ELBO: 180.5898\n",
            "--- Epoch 6 Evaluation ---\n",
            "FID Score: 0.0288\n",
            "Time Elapsed: 0.78 seconds\n",
            "--------------------------\n",
            "Epoch [7/100] - Train ELBO: 178.6174 | Test ELBO: 174.7469\n",
            "Epoch [8/100] - Train ELBO: 172.6401 | Test ELBO: 170.7053\n",
            "Epoch [9/100] - Train ELBO: 168.3206 | Test ELBO: 166.2156\n",
            "Epoch [10/100] - Train ELBO: 162.7976 | Test ELBO: 160.6509\n",
            "Epoch [11/100] - Train ELBO: 158.1571 | Test ELBO: 157.1502\n",
            "--- Epoch 11 Evaluation ---\n",
            "FID Score: 0.0221\n",
            "Time Elapsed: 1.42 seconds\n",
            "--------------------------\n",
            "Epoch [12/100] - Train ELBO: 154.1842 | Test ELBO: 154.5097\n",
            "Epoch [13/100] - Train ELBO: 150.7088 | Test ELBO: 151.4688\n",
            "Epoch [14/100] - Train ELBO: 148.4304 | Test ELBO: 149.4963\n",
            "Epoch [15/100] - Train ELBO: 146.0171 | Test ELBO: 147.3881\n",
            "Epoch [16/100] - Train ELBO: 143.3944 | Test ELBO: 146.1925\n",
            "--- Epoch 16 Evaluation ---\n",
            "FID Score: 0.0169\n",
            "Time Elapsed: 2.04 seconds\n",
            "--------------------------\n",
            "Epoch [17/100] - Train ELBO: 141.1062 | Test ELBO: 143.9393\n",
            "Epoch [18/100] - Train ELBO: 139.1503 | Test ELBO: 141.8183\n",
            "Epoch [19/100] - Train ELBO: 136.5831 | Test ELBO: 140.4412\n",
            "Epoch [20/100] - Train ELBO: 135.1253 | Test ELBO: 138.7428\n",
            "Epoch [21/100] - Train ELBO: 133.2481 | Test ELBO: 138.2513\n",
            "--- Epoch 21 Evaluation ---\n",
            "FID Score: 0.0128\n",
            "Time Elapsed: 2.61 seconds\n",
            "--------------------------\n",
            "Epoch [22/100] - Train ELBO: 131.8290 | Test ELBO: 137.8524\n",
            "Epoch [23/100] - Train ELBO: 130.6747 | Test ELBO: 135.9449\n",
            "Epoch [24/100] - Train ELBO: 129.3854 | Test ELBO: 135.1213\n",
            "Epoch [25/100] - Train ELBO: 128.0216 | Test ELBO: 134.2999\n",
            "Epoch [26/100] - Train ELBO: 127.3859 | Test ELBO: 133.3455\n",
            "--- Epoch 26 Evaluation ---\n",
            "FID Score: 0.0104\n",
            "Time Elapsed: 3.61 seconds\n",
            "--------------------------\n",
            "Epoch [27/100] - Train ELBO: 126.1290 | Test ELBO: 132.6821\n",
            "Epoch [28/100] - Train ELBO: 125.3097 | Test ELBO: 132.2381\n",
            "Epoch [29/100] - Train ELBO: 124.5570 | Test ELBO: 132.2293\n",
            "Epoch [30/100] - Train ELBO: 123.6760 | Test ELBO: 131.1934\n",
            "Epoch [31/100] - Train ELBO: 123.1438 | Test ELBO: 130.6474\n",
            "--- Epoch 31 Evaluation ---\n",
            "FID Score: 0.0088\n",
            "Time Elapsed: 4.08 seconds\n",
            "--------------------------\n",
            "Epoch [32/100] - Train ELBO: 122.1505 | Test ELBO: 130.0683\n",
            "Epoch [33/100] - Train ELBO: 121.1819 | Test ELBO: 129.5306\n",
            "Epoch [34/100] - Train ELBO: 120.7298 | Test ELBO: 129.3290\n",
            "Epoch [35/100] - Train ELBO: 119.9332 | Test ELBO: 128.5717\n",
            "Epoch [36/100] - Train ELBO: 119.1490 | Test ELBO: 128.2591\n",
            "--- Epoch 36 Evaluation ---\n",
            "FID Score: 0.0083\n",
            "Time Elapsed: 4.83 seconds\n",
            "--------------------------\n",
            "Epoch [37/100] - Train ELBO: 118.5895 | Test ELBO: 127.5577\n",
            "Epoch [38/100] - Train ELBO: 117.7471 | Test ELBO: 127.4008\n",
            "Epoch [39/100] - Train ELBO: 117.4346 | Test ELBO: 127.2138\n",
            "Epoch [40/100] - Train ELBO: 116.4427 | Test ELBO: 125.9890\n",
            "Epoch [41/100] - Train ELBO: 115.9067 | Test ELBO: 126.4312\n",
            "--- Epoch 41 Evaluation ---\n",
            "FID Score: 0.0068\n",
            "Time Elapsed: 5.39 seconds\n",
            "--------------------------\n",
            "Epoch [42/100] - Train ELBO: 115.9746 | Test ELBO: 125.7459\n",
            "Epoch [43/100] - Train ELBO: 115.3529 | Test ELBO: 126.1633\n",
            "Epoch [44/100] - Train ELBO: 114.7755 | Test ELBO: 124.8221\n",
            "Epoch [45/100] - Train ELBO: 114.1266 | Test ELBO: 124.9403\n",
            "Epoch [46/100] - Train ELBO: 114.0242 | Test ELBO: 124.1898\n",
            "--- Epoch 46 Evaluation ---\n",
            "FID Score: 0.0063\n",
            "Time Elapsed: 6.06 seconds\n",
            "--------------------------\n",
            "Epoch [47/100] - Train ELBO: 113.5031 | Test ELBO: 125.5824\n",
            "Epoch [48/100] - Train ELBO: 113.3275 | Test ELBO: 124.2473\n",
            "Epoch [49/100] - Train ELBO: 112.7338 | Test ELBO: 123.6852\n",
            "Epoch [50/100] - Train ELBO: 111.7685 | Test ELBO: 123.7116\n",
            "Epoch [51/100] - Train ELBO: 111.6944 | Test ELBO: 123.2055\n",
            "--- Epoch 51 Evaluation ---\n",
            "FID Score: 0.0059\n",
            "Time Elapsed: 6.73 seconds\n",
            "--------------------------\n",
            "Epoch [52/100] - Train ELBO: 111.3793 | Test ELBO: 123.8378\n",
            "Epoch [53/100] - Train ELBO: 110.9573 | Test ELBO: 123.3893\n",
            "Epoch [54/100] - Train ELBO: 110.5993 | Test ELBO: 123.0415\n",
            "Epoch [55/100] - Train ELBO: 110.6815 | Test ELBO: 122.9646\n",
            "Epoch [56/100] - Train ELBO: 109.9260 | Test ELBO: 122.9016\n",
            "--- Epoch 56 Evaluation ---\n",
            "FID Score: 0.0052\n",
            "Time Elapsed: 7.18 seconds\n",
            "--------------------------\n",
            "Epoch [57/100] - Train ELBO: 109.1524 | Test ELBO: 122.6889\n",
            "Epoch [58/100] - Train ELBO: 109.3030 | Test ELBO: 122.3998\n",
            "Epoch [59/100] - Train ELBO: 108.8887 | Test ELBO: 122.9818\n",
            "Epoch [60/100] - Train ELBO: 109.0579 | Test ELBO: 121.9940\n",
            "Epoch [61/100] - Train ELBO: 108.2966 | Test ELBO: 122.5686\n",
            "--- Epoch 61 Evaluation ---\n",
            "FID Score: 0.0050\n",
            "Time Elapsed: 7.59 seconds\n",
            "--------------------------\n",
            "Epoch [62/100] - Train ELBO: 108.3563 | Test ELBO: 121.8475\n",
            "Epoch [63/100] - Train ELBO: 107.9712 | Test ELBO: 121.8618\n",
            "Epoch [64/100] - Train ELBO: 107.6635 | Test ELBO: 121.7049\n",
            "Epoch [65/100] - Train ELBO: 107.3445 | Test ELBO: 122.1024\n",
            "Epoch [66/100] - Train ELBO: 107.0196 | Test ELBO: 121.7790\n",
            "--- Epoch 66 Evaluation ---\n",
            "FID Score: 0.0047\n",
            "Time Elapsed: 8.03 seconds\n",
            "--------------------------\n",
            "Epoch [67/100] - Train ELBO: 107.1646 | Test ELBO: 121.7627\n",
            "Epoch [68/100] - Train ELBO: 106.5835 | Test ELBO: 121.5492\n",
            "Epoch [69/100] - Train ELBO: 106.3564 | Test ELBO: 121.2837\n",
            "Epoch [70/100] - Train ELBO: 106.2053 | Test ELBO: 121.6059\n",
            "Epoch [71/100] - Train ELBO: 106.1338 | Test ELBO: 121.2176\n",
            "--- Epoch 71 Evaluation ---\n",
            "FID Score: 0.0045\n",
            "Time Elapsed: 8.57 seconds\n",
            "--------------------------\n",
            "Epoch [72/100] - Train ELBO: 105.9149 | Test ELBO: 121.2370\n",
            "Epoch [73/100] - Train ELBO: 105.4786 | Test ELBO: 120.4516\n",
            "Epoch [74/100] - Train ELBO: 105.3367 | Test ELBO: 121.2592\n",
            "Epoch [75/100] - Train ELBO: 105.6105 | Test ELBO: 120.9225\n",
            "Epoch [76/100] - Train ELBO: 104.7351 | Test ELBO: 120.5589\n",
            "--- Epoch 76 Evaluation ---\n",
            "FID Score: 0.0044\n",
            "Time Elapsed: 9.21 seconds\n",
            "--------------------------\n",
            "Epoch [77/100] - Train ELBO: 104.4371 | Test ELBO: 120.5483\n",
            "Epoch [78/100] - Train ELBO: 104.3179 | Test ELBO: 120.4802\n",
            "Epoch [79/100] - Train ELBO: 104.1821 | Test ELBO: 120.6803\n",
            "Epoch [80/100] - Train ELBO: 104.2181 | Test ELBO: 120.5525\n",
            "Epoch [81/100] - Train ELBO: 104.1285 | Test ELBO: 120.8058\n",
            "Failed to find a square root.\n",
            "--- Epoch 81 Evaluation ---\n",
            "FID Score: nan\n",
            "Time Elapsed: 9.64 seconds\n",
            "--------------------------\n",
            "Epoch [82/100] - Train ELBO: 104.2529 | Test ELBO: 120.1064\n",
            "Epoch [83/100] - Train ELBO: 103.8372 | Test ELBO: 120.8978\n",
            "Epoch [84/100] - Train ELBO: 103.8579 | Test ELBO: 120.7187\n",
            "Epoch [85/100] - Train ELBO: 103.2147 | Test ELBO: 120.1543\n",
            "Epoch [86/100] - Train ELBO: 103.0338 | Test ELBO: 120.4837\n",
            "--- Epoch 86 Evaluation ---\n",
            "FID Score: 0.0042\n",
            "Time Elapsed: 10.07 seconds\n",
            "--------------------------\n",
            "Epoch [87/100] - Train ELBO: 102.9626 | Test ELBO: 120.4295\n",
            "Epoch [88/100] - Train ELBO: 102.6108 | Test ELBO: 120.4328\n",
            "Epoch [89/100] - Train ELBO: 102.6037 | Test ELBO: 121.0576\n",
            "Epoch [90/100] - Train ELBO: 102.4548 | Test ELBO: 120.4847\n",
            "Epoch [91/100] - Train ELBO: 102.2230 | Test ELBO: 120.5315\n",
            "Failed to find a square root.\n",
            "--- Epoch 91 Evaluation ---\n",
            "FID Score: nan\n",
            "Time Elapsed: 10.48 seconds\n",
            "--------------------------\n",
            "Epoch [92/100] - Train ELBO: 102.3518 | Test ELBO: 120.7075\n",
            "Epoch [93/100] - Train ELBO: 102.1577 | Test ELBO: 120.7881\n",
            "Epoch [94/100] - Train ELBO: 101.7922 | Test ELBO: 120.3014\n",
            "Epoch [95/100] - Train ELBO: 102.0771 | Test ELBO: 120.3859\n",
            "Epoch [96/100] - Train ELBO: 101.7613 | Test ELBO: 120.1245\n",
            "--- Epoch 96 Evaluation ---\n",
            "FID Score: 0.0040\n",
            "Time Elapsed: 10.87 seconds\n",
            "--------------------------\n",
            "Epoch [97/100] - Train ELBO: 101.6680 | Test ELBO: 119.9830\n",
            "Epoch [98/100] - Train ELBO: 101.3338 | Test ELBO: 119.4762\n",
            "Epoch [99/100] - Train ELBO: 101.1792 | Test ELBO: 120.3960\n",
            "Epoch [100/100] - Train ELBO: 100.9061 | Test ELBO: 119.7992\n",
            "\n",
            "Training complete!\n",
            "FID History: [np.float64(0.028571182437050476), np.float64(0.028779683568153806), np.float64(0.022146320427621304), np.float64(0.016852658813750553), np.float64(0.012774513891073962), np.float64(0.010402439199290332), np.float64(0.008828578616375536), np.float64(0.008304469665586317), np.float64(0.006764882109723946), np.float64(0.006339875535811135), np.float64(0.00590396985128234), np.float64(0.005222266540988716), np.float64(0.0049968481360131685), np.float64(0.004734121653582828), np.float64(0.004541970850248311), np.float64(0.004379717123292873), np.float64(nan), np.float64(0.004182492754761771), np.float64(nan), np.float64(0.003977583039027404)]\n",
            "Time History: [0.11448502540588379, 0.77937912940979, 1.4168641567230225, 2.0443356037139893, 2.6141462326049805, 3.6085445880889893, 4.078226566314697, 4.8274853229522705, 5.386191129684448, 6.055412530899048, 6.731297254562378, 7.1762285232543945, 7.585294485092163, 8.029685020446777, 8.573441743850708, 9.21209168434143, 9.635427474975586, 10.065717220306396, 10.477975368499756, 10.86876654624939]\n"
          ]
        }
      ],
      "source": [
        "latent_dim = 20\n",
        "\n",
        "vae_model = VAE(latent_dim = latent_dim).to(device)\n",
        "optimizer = optim.Adam(vae_model.parameters(), lr=1e-3)\n",
        "\n",
        "num_epochs = 100\n",
        "train_losses_vae = []\n",
        "test_losses_vae = []\n",
        "\n",
        "fid_history_vae = []\n",
        "time_history_vae = []\n",
        "\n",
        "\n",
        "start_time = time.time()\n",
        "print(\"\\nStarting VAE training...\")\n",
        "\n",
        "for epoch in range(num_epochs):\n",
        "    vae_model.train()\n",
        "    total_train_loss = 0\n",
        "    for batch, _ in train_loader:\n",
        "        batch = batch.view(-1, 784).to(device)\n",
        "\n",
        "        recon_x, mu, log_var = vae_model(batch)\n",
        "\n",
        "        loss, recon_loss, kl_loss = vae_loss(recon_x, batch, mu, log_var)\n",
        "\n",
        "        optimizer.zero_grad()\n",
        "        loss.backward()\n",
        "        optimizer.step()\n",
        "\n",
        "        total_train_loss += loss.item()\n",
        "\n",
        "    avg_train_loss = total_train_loss / len(train_loader.dataset)\n",
        "    train_losses_vae.append(avg_train_loss)\n",
        "\n",
        "    vae_model.eval()\n",
        "    total_test_loss = 0\n",
        "    with torch.no_grad():\n",
        "        for batch, _ in test_loader:\n",
        "            batch = batch.view(-1, 784).to(device)\n",
        "            recon_x, mu, log_var = vae_model(batch)\n",
        "            loss, _, _ = vae_loss(recon_x, batch, mu, log_var)\n",
        "            total_test_loss += loss.item()\n",
        "\n",
        "    avg_test_loss = total_test_loss / len(test_loader.dataset)\n",
        "    test_losses_vae.append(avg_test_loss)\n",
        "\n",
        "    print(f\"Epoch [{epoch+1}/{num_epochs}] - Train ELBO: {avg_train_loss:.4f} | Test ELBO: {avg_test_loss:.4f}\")\n",
        "\n",
        "    # FID Calculation Every 5 Epochs\n",
        "    if epoch % 5 == 0:\n",
        "\n",
        "        vae_model.eval()\n",
        "\n",
        "        with torch.no_grad():\n",
        "\n",
        "            z = torch.randn(len(test_images), latent_dim).to(device)\n",
        "\n",
        "            generated_samples = vae_model.decoder(z)\n",
        "\n",
        "            generated_samples = generated_samples.view(-1, 1, 28, 28)\n",
        "\n",
        "            fake_features = classifier(generated_samples, return_features=True).cpu().numpy()\n",
        "\n",
        "            fid_score = calculate_fid(real_features, fake_features)\n",
        "\n",
        "            fid_history_vae.append(fid_score)\n",
        "            elapsed_time = time.time() - start_time\n",
        "            time_history_vae.append(elapsed_time)\n",
        "\n",
        "            print(f\"--- Epoch {epoch+1} Evaluation ---\")\n",
        "            print(f\"FID Score: {fid_score:.4f}\")\n",
        "            print(f\"Time Elapsed: {elapsed_time:.2f} seconds\")\n",
        "            print(\"--------------------------\")\n",
        "\n",
        "print(\"\\nTraining complete!\")\n",
        "print(\"FID History:\", fid_history_vae)\n",
        "print(\"Time History:\", time_history_vae)"
      ]
    },
    {
      "cell_type": "code",
      "execution_count": null,
      "metadata": {
        "colab": {
          "base_uri": "https://localhost:8080/",
          "height": 487
        },
        "id": "74lO92CMJiz-",
        "outputId": "8f45a7ec-b145-4dc4-8d68-0a140fd112bb"
      },
      "outputs": [
        {
          "data": {
            "image/png": "[encoded data removed]",
            "text/plain": [
              "<Figure size 1000x500 with 1 Axes>"
            ]
          },
          "metadata": {},
          "output_type": "display_data"
        }
      ],
      "source": [
        "plt.figure(figsize=(10, 5))\n",
        "plt.plot(train_losses_vae, label='Training Loss')\n",
        "plt.plot(test_losses_vae, label='Test Loss')\n",
        "plt.xlabel('Epoch')\n",
        "plt.ylabel('Negative Log-Likelihood')\n",
        "plt.legend()\n",
        "plt.title('VAE Training and Test Loss Over Epochs')\n",
        "plt.show()"
      ]
    },
    {
      "cell_type": "markdown",
      "metadata": {
        "id": "LE7-Zzm8SYU0"
      },
      "source": [
        "In comparison, VAE has converged way faster than NADE."
      ]
    },
    {
      "cell_type": "markdown",
      "metadata": {
        "id": "WzW2k56L84lX"
      },
      "source": [
        "## Save model and results"
      ]
    },
    {
      "cell_type": "code",
      "execution_count": null,
      "metadata": {
        "colab": {
          "base_uri": "https://localhost:8080/"
        },
        "id": "3utFe3yw83NC",
        "outputId": "baf85962-1613-45e5-b014-5be4e67d88e0"
      },
      "outputs": [
        {
          "name": "stdout",
          "output_type": "stream",
          "text": [
            "\n",
            "Saving model state_dict to vae_model_latent20.pth...\n",
            "Model saved successfully.\n"
          ]
        }
      ],
      "source": [
        "VAE_MODEL_PATH = 'vae_model_latent20.pth'\n",
        "\n",
        "print(f\"\\nSaving model state_dict to {VAE_MODEL_PATH}...\")\n",
        "torch.save(vae_model.state_dict(), VAE_MODEL_PATH)\n",
        "print(\"Model saved successfully.\")"
      ]
    },
    {
      "cell_type": "code",
      "execution_count": 9,
      "metadata": {
        "colab": {
          "base_uri": "https://localhost:8080/"
        },
        "id": "Qb0C1o9e1EZj",
        "outputId": "69a9e278-ff68-48c5-ccf0-b891f25482b9"
      },
      "outputs": [
        {
          "data": {
            "text/plain": [
              "<All keys matched successfully>"
            ]
          },
          "execution_count": 9,
          "metadata": {},
          "output_type": "execute_result"
        }
      ],
      "source": [
        "# Load the saved weights into the model instance\n",
        "\n",
        "VAE_MODEL_PATH = 'vae_model_latent20.pth'\n",
        "\n",
        "vae_model = VAE(latent_dim=20).to(device)\n",
        "vae_model.load_state_dict(torch.load(VAE_MODEL_PATH))"
      ]
    },
    {
      "cell_type": "code",
      "execution_count": null,
      "metadata": {
        "id": "Zbvp3JWa9ffq"
      },
      "outputs": [],
      "source": [
        "import json"
      ]
    },
    {
      "cell_type": "code",
      "execution_count": null,
      "metadata": {
        "colab": {
          "base_uri": "https://localhost:8080/"
        },
        "id": "zfRCslZA9P_d",
        "outputId": "2138160c-4cab-4a5d-89e8-1cb9b613ea99"
      },
      "outputs": [
        {
          "name": "stdout",
          "output_type": "stream",
          "text": [
            "\n",
            "Saving training results to vae_training_results.json...\n",
            "Results saved successfully.\n"
          ]
        }
      ],
      "source": [
        "results = {\n",
        "    'train_losses': train_losses_vae,\n",
        "    'test_losses': test_losses_vae,\n",
        "    'fid_history': fid_history_vae,\n",
        "    'time_history': time_history_vae\n",
        "}\n",
        "\n",
        "\n",
        "RESULTS_PATH = 'vae_training_results.json'\n",
        "\n",
        "print(f\"\\nSaving training results to {RESULTS_PATH}...\")\n",
        "with open(RESULTS_PATH, 'w') as f:\n",
        "    json.dump(results, f, indent=4)\n",
        "print(\"Results saved successfully.\")"
      ]
    },
    {
      "cell_type": "code",
      "execution_count": 32,
      "metadata": {
        "id": "oAqg-S8Y9m9h"
      },
      "outputs": [],
      "source": [
        "RESULTS_PATH = 'vae_training_results.json'\n",
        "\n",
        "with open(RESULTS_PATH, 'r') as f:\n",
        "    loaded_vae_results = json.load(f)"
      ]
    },
    {
      "cell_type": "markdown",
      "metadata": {
        "id": "HqjmHAaIKIRb"
      },
      "source": [
        "# Model verification and sample comparison"
      ]
    },
    {
      "cell_type": "code",
      "execution_count": null,
      "metadata": {
        "colab": {
          "base_uri": "https://localhost:8080/"
        },
        "id": "LcT0KeAhKNT9",
        "outputId": "36324431-da3f-4fc1-b748-1c2f8ce29827"
      },
      "outputs": [
        {
          "name": "stdout",
          "output_type": "stream",
          "text": [
            "Sample generation complete.\n",
            "Shape of VAE samples: torch.Size([1000, 784])\n",
            "Shape of NADE samples: torch.Size([1000, 784])\n",
            "Shape of GMM samples: torch.Size([1000, 784])\n"
          ]
        }
      ],
      "source": [
        "vae_model.eval()\n",
        "nade.eval()\n",
        "\n",
        "torch.manual_seed(42)\n",
        "latent_dim = 20\n",
        "num_samples_to_generate = 1000\n",
        "\n",
        "with torch.no_grad():\n",
        "  z = torch.randn(num_samples_to_generate, latent_dim).to(device)\n",
        "  vae_samples = vae_model.decoder(z)\n",
        "\n",
        "  nade_samples = nade.generate_samples(num_samples=num_samples_to_generate)\n",
        "\n",
        "gmm_samples_raw, _ = gmm.sample(num_samples_to_generate)\n",
        "gmm_samples_np = np.clip(gmm_samples_raw, 0.0, 1.0)\n",
        "gmm_samples = torch.from_numpy(gmm_samples_np.astype(np.float32))\n",
        "\n",
        "vae_samples = vae_samples.cpu()\n",
        "nade_samples = nade_samples.cpu()\n",
        "\n",
        "print(\"Sample generation complete.\")\n",
        "print(f\"Shape of VAE samples: {vae_samples.shape}\")\n",
        "print(f\"Shape of NADE samples: {nade_samples.shape}\")\n",
        "print(f\"Shape of GMM samples: {gmm_samples.shape}\")"
      ]
    },
    {
      "cell_type": "code",
      "execution_count": null,
      "metadata": {
        "colab": {
          "base_uri": "https://localhost:8080/",
          "height": 315
        },
        "id": "H5Z8afxPKpJy",
        "outputId": "b3aae483-d9e2-4af1-c8e0-e845f30d82e6"
      },
      "outputs": [
        {
          "data": {
            "image/png": "[encoded data removed]",
            "text/plain": [
              "<Figure size 1500x500 with 30 Axes>"
            ]
          },
          "metadata": {},
          "output_type": "display_data"
        }
      ],
      "source": [
        "num_to_display = 10\n",
        "random_indices = np.random.choice(num_samples_to_generate, num_to_display, replace=False)\n",
        "\n",
        "fig, axes = plt.subplots(3, num_to_display, figsize=(15, 5))\n",
        "fig.suptitle('Comparison of Generated Samples (VAE vs. NADE vs. GMM)', fontsize=16)\n",
        "\n",
        "for i, idx in enumerate(random_indices):\n",
        "    axes[0, i].imshow(vae_samples[idx].view(28, 28).numpy(), cmap='gray')\n",
        "    axes[0, i].axis('off')\n",
        "\n",
        "    axes[1, i].imshow(nade_samples[idx].view(28, 28).numpy(), cmap='gray')\n",
        "    axes[1, i].axis('off')\n",
        "\n",
        "    axes[2, i].imshow(gmm_samples[idx].view(28, 28).numpy(), cmap='gray')\n",
        "    axes[2, i].axis('off')\n",
        "\n",
        "\n",
        "axes[0, 0].set_title('VAE Samples', loc='left', y=1.2, fontsize=12, pad=20)\n",
        "axes[1, 0].set_title('NADE Samples', loc='left', y=1.2, fontsize=12, pad=20)\n",
        "axes[2, 0].set_title('GMM Samples', loc='left', y=1.2, fontsize=12, pad=20)\n",
        "\n",
        "plt.tight_layout(rect=[0, 0, 1, 0.95])\n",
        "plt.show()"
      ]
    },
    {
      "cell_type": "markdown",
      "metadata": {
        "id": "diKa0LQNNfu2"
      },
      "source": [
        "#### The NADE samples are not recognizable at all. VAE has generated the most accurate samples. Nevertheless, the samples from VAE are blurry. The samples generated from NADE are too noisy."
      ]
    },
    {
      "cell_type": "markdown",
      "metadata": {
        "id": "JYaTyt3HM-aE"
      },
      "source": [
        "# Comparison via IS, FID and KID"
      ]
    },
    {
      "cell_type": "code",
      "execution_count": null,
      "metadata": {
        "id": "x-y9gqpmLlT1"
      },
      "outputs": [],
      "source": [
        "def extract_features(samples, classifier_model, device):\n",
        "    with torch.no_grad():\n",
        "        samples_reshaped = samples.view(-1, 1, 28, 28).to(device)\n",
        "        features = classifier_model(samples_reshaped, return_features=True)\n",
        "        return features.cpu().numpy()"
      ]
    },
    {
      "cell_type": "code",
      "execution_count": null,
      "metadata": {
        "colab": {
          "base_uri": "https://localhost:8080/"
        },
        "id": "OVbwTL0xMzeT",
        "outputId": "0129f42f-5c7d-48a1-d0f0-182339303011"
      },
      "outputs": [
        {
          "name": "stdout",
          "output_type": "stream",
          "text": [
            "Feature extraction complete.\n"
          ]
        }
      ],
      "source": [
        "classifier.eval()\n",
        "nade.eval()\n",
        "vae_model.eval()\n",
        "\n",
        "real_features = extract_features(test_images, classifier, device)\n",
        "vae_features = extract_features(vae_samples, classifier, device)\n",
        "nade_features = extract_features(nade_samples, classifier, device)\n",
        "gmm_features = extract_features(gmm_samples, classifier, device)\n",
        "print(\"Feature extraction complete.\")"
      ]
    },
    {
      "cell_type": "code",
      "execution_count": null,
      "metadata": {
        "colab": {
          "base_uri": "https://localhost:8080/"
        },
        "id": "95OGNHX8NhvR",
        "outputId": "b40ec8e7-eaa6-44ba-ed02-e720c1ba0a1f"
      },
      "outputs": [
        {
          "name": "stdout",
          "output_type": "stream",
          "text": [
            "  - VAE:  1.0000 ± 0.0000\n",
            "  - NADE: 1.0000 ± 0.0000\n",
            "  - GMM:  1.0000 ± 0.0000\n"
          ]
        }
      ],
      "source": [
        "is_vae, is_vae_std = calculate_inception_score(vae_samples, classifier)\n",
        "is_nade, is_nade_std = calculate_inception_score(nade_samples, classifier)\n",
        "is_gmm, is_gmm_std = calculate_inception_score(gmm_samples, classifier)\n",
        "\n",
        "print(f\"  - VAE:  {is_vae:.4f} ± {is_vae_std:.4f}\")\n",
        "print(f\"  - NADE: {is_nade:.4f} ± {is_nade_std:.4f}\")\n",
        "print(f\"  - GMM:  {is_gmm:.4f} ± {is_gmm_std:.4f}\")"
      ]
    },
    {
      "cell_type": "markdown",
      "metadata": {
        "id": "mJtBLJFdOHue"
      },
      "source": [
        "The inception score (IS) is approximately equal in all three models."
      ]
    },
    {
      "cell_type": "code",
      "execution_count": null,
      "metadata": {
        "colab": {
          "base_uri": "https://localhost:8080/"
        },
        "id": "FHpO42XTODLF",
        "outputId": "c2ea2809-86f8-4456-8055-aabdfa7132cd"
      },
      "outputs": [
        {
          "name": "stdout",
          "output_type": "stream",
          "text": [
            "\n",
            "Fréchet Inception Distance (FID) - Lower is Better:\n",
            "  - VAE:  0.0040\n",
            "  - NADE: 0.0091\n",
            "  - GMM:  0.0047\n"
          ]
        }
      ],
      "source": [
        "fid_vae = fid_history_vae[-1]\n",
        "fid_nade = fid_history[-1]\n",
        "fid_gmm = calculate_fid(real_features, gmm_features)\n",
        "\n",
        "print(f\"\\nFréchet Inception Distance (FID) - Lower is Better:\")\n",
        "print(f\"  - VAE:  {fid_vae:.4f}\")\n",
        "print(f\"  - NADE: {fid_nade:.4f}\")\n",
        "print(f\"  - GMM:  {fid_gmm:.4f}\")"
      ]
    },
    {
      "cell_type": "markdown",
      "metadata": {
        "id": "ypVIH6gqOTqq"
      },
      "source": [
        "VAE's FID score is the lowest (best) and NADE's score is the highest (worst) which is consistent with the previously visualized generated samples."
      ]
    },
    {
      "cell_type": "code",
      "execution_count": null,
      "metadata": {
        "colab": {
          "base_uri": "https://localhost:8080/"
        },
        "id": "KT8SrbjZOTjS",
        "outputId": "f76307b1-6a6e-42bf-b746-b84a0aa3d7eb"
      },
      "outputs": [
        {
          "name": "stdout",
          "output_type": "stream",
          "text": [
            "\n",
            "Kernel Inception Distance (KID) - Lower is Better:\n",
            "  - VAE:  0.0001\n",
            "  - NADE: 0.0003\n",
            "  - GMM:  0.0001\n"
          ]
        }
      ],
      "source": [
        "kid_vae = calculate_kid_gaussian(real_features, vae_features)\n",
        "kid_nade = calculate_kid_gaussian(real_features, nade_features)\n",
        "kid_gmm = calculate_kid_gaussian(real_features, gmm_features)\n",
        "\n",
        "print(f\"\\nKernel Inception Distance (KID) - Lower is Better:\")\n",
        "print(f\"  - VAE:  {kid_vae:.4f}\")\n",
        "print(f\"  - NADE: {kid_nade:.4f}\")\n",
        "print(f\"  - GMM:  {kid_gmm:.4f}\")"
      ]
    },
    {
      "cell_type": "markdown",
      "metadata": {
        "id": "OJDIvPajO4pc"
      },
      "source": [
        "Comparing with the KID score, VAE and GMM are equally good and NADE's performance was worse than both of them."
      ]
    },
    {
      "cell_type": "markdown",
      "metadata": {
        "id": "zww1wvZhQeMT"
      },
      "source": [
        "# Diversity & Sparsity"
      ]
    },
    {
      "cell_type": "code",
      "execution_count": null,
      "metadata": {
        "id": "sAYeazBbOwEG"
      },
      "outputs": [],
      "source": [
        "from scipy.stats import entropy\n",
        "\n",
        "def calculate_diversity_and_sparsity(samples, classifier, device):\n",
        "    \"\"\"\n",
        "    Calculates the diversity (entropy) and sparsity (KL divergence from uniform)\n",
        "    of the marginal class distribution p(y).\n",
        "\n",
        "    Args:\n",
        "        samples (torch.Tensor): A tensor of generated images (on CPU).\n",
        "        classifier (nn.Module): A pretrained classifier.\n",
        "        device: The torch device ('cuda' or 'cpu').\n",
        "\n",
        "    Returns:\n",
        "        tuple: (diversity_score, sparsity_score)\n",
        "    \"\"\"\n",
        "    classifier.eval()\n",
        "\n",
        "    all_preds = []\n",
        "    dataset = TensorDataset(samples)\n",
        "\n",
        "    dataloader = DataLoader(dataset, batch_size=256)\n",
        "\n",
        "    with torch.no_grad():\n",
        "        for batch in dataloader:\n",
        "            img_batch = batch[0].view(-1, 1, 28, 28).to(device)\n",
        "            preds = F.softmax(classifier(img_batch), dim=1)\n",
        "            all_preds.append(preds.cpu().numpy())\n",
        "\n",
        "    all_preds = np.concatenate(all_preds, axis=0)\n",
        "    p_y = np.mean(all_preds, axis=0)\n",
        "\n",
        "\n",
        "    diversity_score = entropy(p_y)\n",
        "\n",
        "    num_classes = p_y.shape[0]\n",
        "    uniform_dist = np.full(num_classes, 1.0 / num_classes)\n",
        "    sparsity_score = entropy(p_y, qk=uniform_dist) # Calculates KL(p_y || uniform_dist)\n",
        "\n",
        "    return diversity_score, sparsity_score"
      ]
    },
    {
      "cell_type": "code",
      "execution_count": null,
      "metadata": {
        "colab": {
          "base_uri": "https://localhost:8080/"
        },
        "id": "668NoD-9Qntf",
        "outputId": "4209be66-84bf-427e-d8b7-69d7e86f13a0"
      },
      "outputs": [
        {
          "name": "stdout",
          "output_type": "stream",
          "text": [
            "\n",
            "Diversity (Entropy of p(y)) - Higher is Better:\n",
            "  - VAE:  2.2991\n",
            "  - NADE: 2.2989\n",
            "  - GMM:  2.2989\n",
            "\n",
            "Sparsity (KL Div. from Uniform) - Lower is Better:\n",
            "  - VAE:  0.0035\n",
            "  - NADE: 0.0037\n",
            "  - GMM:  0.0036\n"
          ]
        }
      ],
      "source": [
        "div_vae, sparse_vae = calculate_diversity_and_sparsity(vae_samples, classifier, device)\n",
        "\n",
        "div_nade, sparse_nade = calculate_diversity_and_sparsity(nade_samples, classifier, device)\n",
        "\n",
        "div_gmm, sparse_gmm = calculate_diversity_and_sparsity(gmm_samples, classifier, device)\n",
        "\n",
        "print(f\"\\nDiversity (Entropy of p(y)) - Higher is Better:\")\n",
        "print(f\"  - VAE:  {div_vae:.4f}\")\n",
        "print(f\"  - NADE: {div_nade:.4f}\")\n",
        "print(f\"  - GMM:  {div_gmm:.4f}\")\n",
        "\n",
        "print(f\"\\nSparsity (KL Div. from Uniform) - Lower is Better:\")\n",
        "print(f\"  - VAE:  {sparse_vae:.4f}\")\n",
        "print(f\"  - NADE: {sparse_nade:.4f}\")\n",
        "print(f\"  - GMM:  {sparse_gmm:.4f}\")"
      ]
    },
    {
      "cell_type": "markdown",
      "metadata": {
        "id": "fY_9N5BpQM26"
      },
      "source": [
        "NADE and GMM have generated more conservative samples as the observe lower diversity in them. No evidence of risky outliers (e.g., overconfident or highly skewed outputs), at least from class-level statistics."
      ]
    },
    {
      "cell_type": "markdown",
      "metadata": {
        "id": "TOxwdIyYRIf9"
      },
      "source": [
        "# Likelihood & Reconstruction"
      ]
    },
    {
      "cell_type": "code",
      "execution_count": 33,
      "metadata": {
        "colab": {
          "base_uri": "https://localhost:8080/"
        },
        "id": "iNg121IeROJH",
        "outputId": "8a60177b-a0b3-4c46-cc64-3d56856cf14d"
      },
      "outputs": [
        {
          "data": {
            "text/plain": [
              "VAE(\n",
              "  (encoder): Encoder(\n",
              "    (enc): Sequential(\n",
              "      (0): Linear(in_features=784, out_features=400, bias=True)\n",
              "      (1): ReLU()\n",
              "    )\n",
              "    (mu): Linear(in_features=400, out_features=20, bias=True)\n",
              "    (log_var): Linear(in_features=400, out_features=20, bias=True)\n",
              "  )\n",
              "  (decoder): Decoder(\n",
              "    (dec): Sequential(\n",
              "      (0): Linear(in_features=20, out_features=400, bias=True)\n",
              "      (1): ReLU()\n",
              "      (2): Linear(in_features=400, out_features=784, bias=True)\n",
              "      (3): Sigmoid()\n",
              "    )\n",
              "  )\n",
              ")"
            ]
          },
          "execution_count": 33,
          "metadata": {},
          "output_type": "execute_result"
        }
      ],
      "source": [
        "nade.eval()\n",
        "vae_model.eval()"
      ]
    },
    {
      "cell_type": "code",
      "execution_count": 34,
      "metadata": {
        "colab": {
          "base_uri": "https://localhost:8080/"
        },
        "id": "MfPKQ3tVvOch",
        "outputId": "2d12d55d-2655-41e7-fdfa-ca8b9188f6c1"
      },
      "outputs": [
        {
          "name": "stdout",
          "output_type": "stream",
          "text": [
            "NADE Average Test-Set Negative Log-Likelihood: 0.3001 bits/dim\n"
          ]
        }
      ],
      "source": [
        "total_log_prob_nade = 0.0\n",
        "with torch.no_grad():\n",
        "    for batch, _ in test_loader:\n",
        "        batch = batch.view(-1, 784).to(device)\n",
        "\n",
        "        log_prob_batch = nade.log_prob(batch)\n",
        "        total_log_prob_nade += log_prob_batch.sum().item()\n",
        "\n",
        "avg_log_likelihood = total_log_prob_nade / len(test_loader.dataset)\n",
        "\n",
        "# Convert to bits per dimension\n",
        "nats_to_bits = 1.0 / np.log(2)\n",
        "num_dimensions = train_images.shape[1]\n",
        "\n",
        "nll_bits_per_dim = -avg_log_likelihood * nats_to_bits / num_dimensions\n",
        "\n",
        "print(f\"NADE Average Test-Set Negative Log-Likelihood: {nll_bits_per_dim:.4f} bits/dim\")"
      ]
    },
    {
      "cell_type": "code",
      "execution_count": 35,
      "metadata": {
        "colab": {
          "base_uri": "https://localhost:8080/"
        },
        "id": "N5HFYGISvbbl",
        "outputId": "52582d8e-81a8-4463-c0c9-2072638be9dc"
      },
      "outputs": [
        {
          "name": "stdout",
          "output_type": "stream",
          "text": [
            "VAE Average Test-Set Negative ELBO: 119.8039\n"
          ]
        }
      ],
      "source": [
        "total_test_elbo_vae = 0.0\n",
        "with torch.no_grad():\n",
        "    for batch, _ in test_loader:\n",
        "        batch = batch.view(-1, 784).to(device)\n",
        "        recon_x, mu, log_var = vae_model(batch)\n",
        "\n",
        "        # The `loss` returned here is the negative of the ELBO\n",
        "        loss, _, _ = vae_loss(recon_x, batch, mu, log_var)\n",
        "        total_test_elbo_vae += loss.item()\n",
        "\n",
        "avg_negative_elbo = total_test_elbo_vae / len(test_loader.dataset)\n",
        "\n",
        "print(f\"VAE Average Test-Set Negative ELBO: {avg_negative_elbo:.4f}\")"
      ]
    },
    {
      "cell_type": "markdown",
      "metadata": {
        "id": "Pjh5RI8CRsiY"
      },
      "source": [
        "The computation of actual likelihood of data is infeasible in VAE model. Instead we calculate ELBO (evidence lower bound) for it; which is not comparable to the log-likelihood."
      ]
    },
    {
      "cell_type": "markdown",
      "metadata": {
        "id": "ADTqzO5vwu-c"
      },
      "source": [
        "# Computational Trade-offs"
      ]
    },
    {
      "cell_type": "code",
      "execution_count": 38,
      "metadata": {
        "id": "RNac31F-xL1m"
      },
      "outputs": [],
      "source": [
        "import matplotlib.pyplot as plt"
      ]
    },
    {
      "cell_type": "code",
      "execution_count": 44,
      "metadata": {
        "colab": {
          "base_uri": "https://localhost:8080/",
          "height": 609
        },
        "id": "QjJr6YXjvi4T",
        "outputId": "946ca61f-6ff5-4949-abbd-14cd6b328e63"
      },
      "outputs": [
        {
          "data": {
            "image/png": "[encoded data removed]",
            "text/plain": [
              "<Figure size 1600x600 with 2 Axes>"
            ]
          },
          "metadata": {},
          "output_type": "display_data"
        }
      ],
      "source": [
        "fig, axes = plt.subplots(nrows=1, ncols=2, figsize=(16, 6))\n",
        "\n",
        "fig.suptitle('NADE vs. VAE: Performance and Efficiency Analysis', fontsize=16)\n",
        "\n",
        "ax1 = axes[0]\n",
        "ax1.plot(list(range(0, 100, 5)), loaded_nade_results['fid_history'], marker='o', linestyle='-', label='NADE')\n",
        "ax1.plot(list(range(0, 100, 5)), loaded_vae_results['fid_history'], marker='s', linestyle='-', label='VAE')\n",
        "ax1.set_xlabel('Epoch')\n",
        "ax1.set_ylabel('FID Score (Lower is Better)')\n",
        "ax1.set_title('FID Score vs. Epochs')\n",
        "ax1.legend()\n",
        "ax1.grid(True)\n",
        "\n",
        "ax2 = axes[1]\n",
        "ax2.plot(list(range(0, 100, 5)), loaded_nade_results['time_history'], marker='o', linestyle='-', label='NADE')\n",
        "ax2.plot(list(range(0, 100, 5)), loaded_vae_results['time_history'], marker='s', linestyle='-', label='VAE')\n",
        "ax2.set_xlabel('Epoch')\n",
        "ax2.set_ylabel('Training Time (seconds)')\n",
        "ax2.set_title('Training Time vs. Epochs')\n",
        "ax2.legend()\n",
        "ax2.grid(True)\n",
        "\n",
        "plt.tight_layout()\n",
        "plt.show()"
      ]
    },
    {
      "cell_type": "markdown",
      "metadata": {
        "id": "fheh2ZlRSjRu"
      },
      "source": [
        "More training has not improved the FID score of NADE model while more epochs resulted in a significant decrease in FID score for VAE. On the other hand, it is obviously extremely cost-inefficient to train NADE for a large number of epochs."
      ]
    },
    {
      "cell_type": "markdown",
      "metadata": {
        "id": "qbzCbZDw7E0W"
      },
      "source": [
        "# Sampling Speed"
      ]
    },
    {
      "cell_type": "code",
      "execution_count": 10,
      "metadata": {
        "id": "fnlwQVZH7Hh7"
      },
      "outputs": [],
      "source": [
        "vae_model.eval()\n",
        "\n",
        "latent_dim = 20\n",
        "num_samples_batch = 100\n",
        "num_runs_single = 10 # Number of times to run single-sample generation for averaging\n",
        "\n",
        "results = {}\n",
        "\n",
        "with torch.no_grad():\n",
        "    # Warm-up run\n",
        "    _ = vae_model.decoder(torch.randn(1, latent_dim).to(device))\n",
        "    if str(device) == 'cuda':\n",
        "        torch.cuda.synchronize()\n",
        "\n",
        "    # Time 1 sample (averaged over several runs)\n",
        "    start_time = time.time()\n",
        "    for _ in range(num_runs_single):\n",
        "        _ = vae_model.decoder(torch.randn(1, latent_dim).to(device))\n",
        "    if str(device) == 'cuda':\n",
        "        torch.cuda.synchronize()\n",
        "    end_time = time.time()\n",
        "    time_single_vae = (end_time - start_time) / num_runs_single\n",
        "\n",
        "    # Time 100 samples (batched)\n",
        "    start_time = time.time()\n",
        "    _ = vae_model.decoder(torch.randn(num_samples_batch, latent_dim).to(device))\n",
        "    if str(device) == 'cuda':\n",
        "        torch.cuda.synchronize()\n",
        "    end_time = time.time()\n",
        "    time_batch_vae = end_time - start_time\n",
        "\n",
        "results['VAE'] = {'single': time_single_vae, 'batch': time_batch_vae}"
      ]
    },
    {
      "cell_type": "code",
      "execution_count": 11,
      "metadata": {
        "id": "eN6EkuUd7Ydl"
      },
      "outputs": [],
      "source": [
        "nade.eval()\n",
        "\n",
        "num_runs_single = 1\n",
        "\n",
        "with torch.no_grad():\n",
        "    # Warm-up run\n",
        "    _ = nade.generate_samples(num_samples=1)\n",
        "    if str(device) == 'cuda':\n",
        "        torch.cuda.synchronize()\n",
        "\n",
        "    # Time 1 sample (averaged)\n",
        "    start_time = time.time()\n",
        "    for _ in range(num_runs_single):\n",
        "        _ = nade.generate_samples(num_samples=1)\n",
        "    if str(device) == 'cuda':\n",
        "        torch.cuda.synchronize()\n",
        "    end_time = time.time()\n",
        "    time_single_nade = (end_time - start_time) / num_runs_single\n",
        "\n",
        "    # Time 100 samples (batched)\n",
        "    start_time = time.time()\n",
        "    _ = nade.generate_samples(num_samples=num_samples_batch)\n",
        "    if str(device) == 'cuda':\n",
        "        torch.cuda.synchronize()\n",
        "    end_time = time.time()\n",
        "    time_batch_nade = end_time - start_time\n",
        "\n",
        "results['NADE'] = {'single': time_single_nade, 'batch': time_batch_nade}"
      ]
    },
    {
      "cell_type": "code",
      "execution_count": 15,
      "metadata": {
        "id": "I9vkk0xkBnzF"
      },
      "outputs": [],
      "source": [
        "num_runs_single = 10\n",
        "\n",
        "start_time = time.time()\n",
        "for _ in range(num_runs_single):\n",
        "    _ = gmm.sample(n_samples=1)\n",
        "end_time = time.time()\n",
        "time_single_gmm = (end_time - start_time) / num_runs_single\n",
        "\n",
        "# Time 100 samples (batched)\n",
        "start_time = time.time()\n",
        "_ = gmm.sample(n_samples=num_samples_batch)\n",
        "end_time = time.time()\n",
        "time_batch_gmm = end_time - start_time\n",
        "results['GMM'] = {'single': time_single_gmm, 'batch': time_batch_gmm}"
      ]
    },
    {
      "cell_type": "code",
      "execution_count": 16,
      "metadata": {
        "colab": {
          "base_uri": "https://localhost:8080/"
        },
        "id": "e4bULlSH7wR9",
        "outputId": "39d2d7aa-9bba-4eba-9b7a-40890978ec24"
      },
      "outputs": [
        {
          "name": "stdout",
          "output_type": "stream",
          "text": [
            "Model      | Time for 1 Sample (s)     | Time for 100 Samples (s) \n",
            "-----------------------------------------------------------------\n",
            "VAE        | 0.000211                  | 0.006496                 \n",
            "NADE       | 95.588426                 | 98.318010                \n",
            "GMM        | 0.000598                  | 0.003467                 \n"
          ]
        }
      ],
      "source": [
        "print(f\"{'Model':<10} | {'Time for 1 Sample (s)':<25} | {'Time for 100 Samples (s)':<25}\")\n",
        "print(\"-\" * 65)\n",
        "for model_name, times in results.items():\n",
        "    print(f\"{model_name:<10} | {times['single']:<25.6f} | {times['batch']:<25.6f}\")"
      ]
    },
    {
      "cell_type": "markdown",
      "metadata": {
        "id": "4ehj_77WTDHD"
      },
      "source": [
        "As each sample is generated iteratively (via chain rule) in NADE, this model is way slower in sample generation. Caching intermediate computations (especially hidden layer activations) can significantly speed up sampling in NADE.\n",
        "However, due to the sequential and conditional nature of the model, there is a limit to how much speedup you can get — full parallel sampling isn’t possible."
      ]
    },
    {
      "cell_type": "markdown",
      "metadata": {
        "id": "rmlCvjw40AWN"
      },
      "source": [
        "# Limitations & Ethics Discussion"
      ]
    },
    {
      "cell_type": "markdown",
      "metadata": {
        "id": "XnpYXFhp2dAo"
      },
      "source": [
        "###  - *If NADE has better FID but VAE trains faster, which would you deploy on a mobile device?*\n",
        "\n",
        "The superior sample quality (lower FID) of NADE is completely irrelevant if the user has to wait an impractically long time for a single sample. The VAE's ability to generate images almost instantly makes it the only viable choice for a resource-constrained, user-facing environment like a mobile device, where speed and battery efficiency are paramount.\n",
        "</br></br>\n",
        "\n",
        "### *- MNIST is grayscale and low-res—how might FID/KID mislead us on CIFAR-10?*\n",
        "\n",
        "Moving from MNIST to a more complex, colored dataset like CIFAR-10 exposes the limitations of metrics like FID and KID. While still useful, they can be misleading; FID and KID have sensitivity to low-Level statistics over semantics. Also, the metrics are inable to judge object coherence. </br>\n",
        "\n",
        "On CIFAR-10, a good FID/KID score tells you the model is good at generating images with a similar look and feel to the real data, but it doesn't guarantee that the model can generate coherent, realistic objects.\n",
        "</br></br>\n",
        "\n",
        "### - *Could either model’s latent space leak private training data?*\n",
        "\n",
        "Both models are vulnerable to leaking information about their private training data, a risk addressed by the field of machine learning privacy and security. This is typically done through Model Inversion Attacks.</br>\n",
        "\n",
        "VAE's latent space is a compressed representation of the data, and the decoder is a powerful tool for turning that representation back into an image. While NADE doesn't have an explicit, low-dimensional latent space like a VAE, it is still at risk. The model's parameters have memorized the entire probability distribution $P(x)$ of the training data."
      ]
    }
  ],
  "metadata": {
    "accelerator": "GPU",
    "colab": {
      "gpuType": "T4",
      "provenance": []
    },
    "kernelspec": {
      "display_name": "Python 3",
      "name": "python3"
    },
    "language_info": {
      "name": "python"
    }
  },
  "nbformat": 4,
  "nbformat_minor": 0
}
