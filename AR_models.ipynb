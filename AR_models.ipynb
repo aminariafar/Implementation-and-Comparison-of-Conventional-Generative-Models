{
  "cells": [
    {
      "cell_type": "markdown",
      "metadata": {
        "id": "Xc5QzhnKELfT"
      },
      "source": [
        "# Implementing and Exploring Auto-Regressive (AR) models"
      ]
    },
    {
      "cell_type": "markdown",
      "metadata": {
        "id": "YVPhYI0GEY3J"
      },
      "source": [
        "\n",
        "## Part 1: Setup\n",
        "### Import necessary libraries"
      ]
    },
    {
      "cell_type": "code",
      "execution_count": null,
      "metadata": {
        "id": "AwkRZTmdD2q0"
      },
      "outputs": [],
      "source": [
        "import torch\n",
        "from torch import nn, optim\n",
        "from torchvision import datasets, transforms\n",
        "from torch.utils.data import DataLoader, Subset\n",
        "import matplotlib.pyplot as plt\n",
        "import numpy as np\n",
        "\n",
        "import os\n",
        "from datetime import datetime\n"
      ]
    },
    {
      "cell_type": "markdown",
      "metadata": {
        "id": "1aI7Hv3dESNx"
      },
      "source": [
        "### Load MNIST dataset"
      ]
    },
    {
      "cell_type": "code",
      "execution_count": null,
      "metadata": {
        "colab": {
          "base_uri": "https://localhost:8080/"
        },
        "id": "5-gwiCuOD8WY",
        "outputId": "f7ce3922-aa44-4446-af69-f6b38ef115cb"
      },
      "outputs": [
        {
          "name": "stderr",
          "output_type": "stream",
          "text": [
            "100%|██████████| 9.91M/9.91M [00:00<00:00, 11.4MB/s]\n",
            "100%|██████████| 28.9k/28.9k [00:00<00:00, 338kB/s]\n",
            "100%|██████████| 1.65M/1.65M [00:00<00:00, 3.19MB/s]\n",
            "100%|██████████| 4.54k/4.54k [00:00<00:00, 6.55MB/s]\n"
          ]
        }
      ],
      "source": [
        "transform = transforms.Compose([transforms.ToTensor()])\n",
        "\n",
        "train_dataset = datasets.MNIST(root='./data', train=True, download=True, transform=transform)\n",
        "test_dataset = datasets.MNIST(root='./data', train=False, download=True, transform=transform)\n",
        "\n",
        "train_loader = DataLoader(train_dataset, batch_size=128, shuffle=True)\n",
        "test_loader = DataLoader(test_dataset, batch_size=128, shuffle=False)"
      ]
    },
    {
      "cell_type": "code",
      "execution_count": null,
      "metadata": {
        "colab": {
          "base_uri": "https://localhost:8080/"
        },
        "id": "aGTEEUS2NlV0",
        "outputId": "2095b801-7399-4c35-8842-bc3b8642e162"
      },
      "outputs": [
        {
          "name": "stdout",
          "output_type": "stream",
          "text": [
            "Dataset MNIST\n",
            "    Number of datapoints: 60000\n",
            "    Root location: ./data\n",
            "    Split: Train\n",
            "    StandardTransform\n",
            "Transform: Compose(\n",
            "               ToTensor()\n",
            "           )\n",
            "Dataset MNIST\n",
            "    Number of datapoints: 10000\n",
            "    Root location: ./data\n",
            "    Split: Test\n",
            "    StandardTransform\n",
            "Transform: Compose(\n",
            "               ToTensor()\n",
            "           )\n"
          ]
        }
      ],
      "source": [
        "print(train_loader.dataset)\n",
        "print(test_loader.dataset)"
      ]
    },
    {
      "cell_type": "markdown",
      "metadata": {
        "id": "ZO9NadePEf6Z"
      },
      "source": [
        "## Part 2: Explore and visualize data\n",
        "### Visualize samples"
      ]
    },
    {
      "cell_type": "code",
      "execution_count": null,
      "metadata": {
        "colab": {
          "base_uri": "https://localhost:8080/",
          "height": 170
        },
        "id": "dpbqucnAEC3_",
        "outputId": "75d0a616-42c1-400a-aa93-82773eae531b"
      },
      "outputs": [
        {
          "data": {
            "image/png": "[encoded data removed]",
            "text/plain": [
              "<Figure size 1000x300 with 6 Axes>"
            ]
          },
          "metadata": {},
          "output_type": "display_data"
        }
      ],
      "source": [
        "images, labels = next(iter(train_loader))\n",
        "fig, axes = plt.subplots(1, 6, figsize=(10, 3))\n",
        "for i in range(6):\n",
        "    axes[i].imshow(images[i].squeeze(), cmap='gray')\n",
        "    axes[i].axis('off')\n",
        "    axes[i].set_title(f'Label: {labels[i].item()}')\n",
        "plt.show()"
      ]
    },
    {
      "cell_type": "markdown",
      "metadata": {
        "id": "kXnnp6ugW-18"
      },
      "source": [
        "### Selective subset training\n",
        "For a faster training, only train ona subset of images from each digit (class)"
      ]
    },
    {
      "cell_type": "code",
      "execution_count": null,
      "metadata": {
        "id": "vfx6wixRW6Sk"
      },
      "outputs": [],
      "source": [
        "samples_per_class = 1000\n",
        "torch.manual_seed(123)\n",
        "\n",
        "targets = train_dataset.targets\n",
        "indices = []\n",
        "\n",
        "for class_label in range(10):\n",
        "    class_indices = torch.where(targets == class_label)[0]\n",
        "    selected_indices = class_indices[torch.randperm(len(class_indices))[:samples_per_class]]\n",
        "    indices.extend(selected_indices.tolist())\n",
        "\n",
        "train_subset = Subset(train_dataset, indices)\n",
        "\n",
        "train_loader = DataLoader(train_subset, batch_size=128, shuffle=True)"
      ]
    },
    {
      "cell_type": "markdown",
      "metadata": {
        "id": "mCMsIkaKqcBg"
      },
      "source": [
        "### Selective digit training\n",
        "For even faster training practice, only focus on a subset of digits that are easier to learn"
      ]
    },
    {
      "cell_type": "code",
      "execution_count": null,
      "metadata": {
        "id": "unRUXbT1qxaa"
      },
      "outputs": [],
      "source": [
        "digit_filter = [1, 7]\n",
        "\n",
        "filtered_indices = []\n",
        "\n",
        "for idx in train_subset.indices:\n",
        "    label = train_dataset.targets[idx].item()\n",
        "    if label in digit_filter:\n",
        "        filtered_indices.append(idx)\n",
        "\n",
        "train_focused = Subset(train_dataset, filtered_indices)\n",
        "\n",
        "\n",
        "filtered_indices = [i for i, label in enumerate(test_dataset.targets) if label in digit_filter]\n",
        "test_focused = Subset(test_dataset, filtered_indices)\n",
        "\n",
        "training_focused_loader = DataLoader(train_focused, batch_size=128, shuffle = True)\n",
        "test_focused_loader = DataLoader(test_focused, batch_size = 128, shuffle = True)"
      ]
    },
    {
      "cell_type": "markdown",
      "metadata": {
        "id": "X1yJ42POFCjN"
      },
      "source": [
        "## Part 3: Implement AR"
      ]
    },
    {
      "cell_type": "code",
      "execution_count": null,
      "metadata": {
        "id": "y_9nJLECEHLr"
      },
      "outputs": [],
      "source": [
        "class NADE(nn.Module):\n",
        "    def __init__(self, input_dim=784, hidden_dim=512):\n",
        "        \"\"\"Initialize the Neural Autoregressive Density Estimation model.\n",
        "\n",
        "        Args:\n",
        "            input_dim (int): Dimension of input data (flattened image size)\n",
        "            hidden_dim (int): Number of units in hidden layer\n",
        "        \"\"\"\n",
        "        super().__init__()\n",
        "        self.input_dim = input_dim\n",
        "        self.hidden_dim = hidden_dim\n",
        "        self.W = nn.Parameter(torch.randn(input_dim, hidden_dim) * 0.01)\n",
        "        self.c = nn.Parameter(torch.zeros(hidden_dim))\n",
        "        self.V = nn.Parameter(torch.randn(hidden_dim, input_dim) * 0.01)\n",
        "        self.b = nn.Parameter(torch.zeros(input_dim))\n",
        "\n",
        "        # Training metadata\n",
        "        self.start_epoch = 0\n",
        "        self.best_loss = float('inf')\n",
        "        self.train_history = []\n",
        "        self.test_history = []\n",
        "\n",
        "    def forward(self, x):\n",
        "        \"\"\"Forward pass through the NADE model.\n",
        "\n",
        "        Args:\n",
        "            x (torch.Tensor): Input tensor of shape (batch_size, input_dim)\n",
        "\n",
        "        Returns:\n",
        "            tuple: (x_hat, all_h) where:\n",
        "                x_hat: reconstructed probabilities for each dimension\n",
        "                all_h: all hidden states during autoregressive process\n",
        "        \"\"\"\n",
        "        batch_size = x.size(0)\n",
        "        x_hat = torch.zeros_like(x)\n",
        "        all_h = []\n",
        "\n",
        "        sum_to_d = torch.zeros(batch_size, self.hidden_dim, device=x.device)\n",
        "\n",
        "        for d in range(self.input_dim):\n",
        "            # Compute hidden activation: a_d = c + sum_{k<d} x_k * W_k\n",
        "            a_d = self.c + sum_to_d\n",
        "            h_d = torch.sigmoid(a_d)\n",
        "\n",
        "            # Compute output probability for dimension d:\n",
        "            # p_d = sigmoid(b_d + V_d^T h_d)\n",
        "            p_d = torch.sigmoid(self.b[d] + torch.matmul(h_d, self.V[:, d]))\n",
        "\n",
        "            # Save prediction\n",
        "            x_hat[:, d] = p_d\n",
        "            all_h.append(h_d)\n",
        "\n",
        "            # Update running sum for the next dimension\n",
        "            sum_to_d += x[:, d].unsqueeze(1) * self.W[d]\n",
        "\n",
        "        return x_hat, torch.stack(all_h, dim=1)\n",
        "\n",
        "    def log_prob(self, x):\n",
        "        \"\"\"Compute log probability of input samples under the model.\n",
        "\n",
        "        Args:\n",
        "            x (torch.Tensor): Input tensor of shape (batch_size, input_dim)\n",
        "\n",
        "        Returns:\n",
        "            torch.Tensor: Log probabilities for each sample (batch_size)\n",
        "        \"\"\"\n",
        "        x_hat, _ = self.forward(x)\n",
        "        # Compute Bernoulli log likelihood:\n",
        "        # log p(x) = sum_d [x_d * log(p_d) + (1-x_d) * log(1-p_d)]  --- update this in order to avoid log of zero\n",
        "\n",
        "        x_hat = torch.clamp(x_hat, min=1e-6, max=1 - 1e-6) # avoid log(0)\n",
        "        log_prob = x * torch.log(x_hat) + (1 - x) * torch.log(1 - x_hat)\n",
        "        # Sum over all dimensions (input_dim)\n",
        "        return log_prob.sum(dim=1)\n",
        "\n",
        "\n",
        "    def generate_samples(self, num_samples=10):\n",
        "        \"\"\"\n",
        "        Generates new images via ancestral sampling\n",
        "        Args:\n",
        "            num_samples: How many images to generate\n",
        "        Returns:\n",
        "            Tensor of shape (num_samples, input_dim)\n",
        "        \"\"\"\n",
        "        samples = torch.zeros(num_samples, 784).to(device)\n",
        "        with torch.no_grad():\n",
        "            for d in range(784):\n",
        "                p_d = self.forward(samples)[0][:, d]\n",
        "                samples[:, d] = torch.bernoulli(p_d)\n",
        "        return samples.cpu()\n"
      ]
    },
    {
      "cell_type": "code",
      "execution_count": null,
      "metadata": {
        "colab": {
          "base_uri": "https://localhost:8080/"
        },
        "id": "gx9qVvRhFrOl",
        "outputId": "53e94b19-111c-4175-c842-699c0fcf6d2b"
      },
      "outputs": [
        {
          "data": {
            "text/plain": [
              "device(type='cuda')"
            ]
          },
          "execution_count": 6,
          "metadata": {},
          "output_type": "execute_result"
        }
      ],
      "source": [
        "# The code runs faster if you run on GPU. Select Runtime -> Change runtime type -> T4 GPU\n",
        "device = torch.device('cuda' if torch.cuda.is_available() else 'cpu')\n",
        "device"
      ]
    },
    {
      "cell_type": "markdown",
      "metadata": {
        "id": "ublGJXRSQS_g"
      },
      "source": [
        "# Part 4: Train the model\n"
      ]
    },
    {
      "cell_type": "code",
      "execution_count": null,
      "metadata": {
        "colab": {
          "base_uri": "https://localhost:8080/"
        },
        "id": "qLmGEkMTyEXP",
        "outputId": "fd107301-90dc-4ee3-aacc-ef261636d8c4"
      },
      "outputs": [
        {
          "name": "stdout",
          "output_type": "stream",
          "text": [
            "Epoch [1/300] - Train Loss: 98.3734 | Test Loss: 440.7101\n",
            "Epoch [2/300] - Train Loss: 77.6075 | Test Loss: 366.6867\n",
            "Epoch [3/300] - Train Loss: 62.7347 | Test Loss: 318.1212\n",
            "Epoch [4/300] - Train Loss: 52.8692 | Test Loss: 289.0610\n",
            "Epoch [5/300] - Train Loss: 46.5375 | Test Loss: 272.6746\n",
            "Epoch [6/300] - Train Loss: 42.4725 | Test Loss: 263.4090\n",
            "Epoch [7/300] - Train Loss: 39.8448 | Test Loss: 257.8155\n",
            "Epoch [8/300] - Train Loss: 38.0174 | Test Loss: 254.3635\n",
            "Epoch [9/300] - Train Loss: 36.6850 | Test Loss: 252.0216\n",
            "Epoch [10/300] - Train Loss: 35.7120 | Test Loss: 250.6316\n",
            "Epoch [11/300] - Train Loss: 34.9485 | Test Loss: 249.3504\n",
            "Epoch [12/300] - Train Loss: 34.3428 | Test Loss: 248.3810\n",
            "Epoch [13/300] - Train Loss: 33.8061 | Test Loss: 247.6267\n",
            "Epoch [14/300] - Train Loss: 33.4334 | Test Loss: 247.1188\n",
            "Epoch [15/300] - Train Loss: 33.0776 | Test Loss: 246.5497\n",
            "Epoch [16/300] - Train Loss: 32.7508 | Test Loss: 245.9850\n",
            "Epoch [17/300] - Train Loss: 32.5001 | Test Loss: 245.5269\n",
            "Epoch [18/300] - Train Loss: 32.2058 | Test Loss: 244.8387\n",
            "Epoch [19/300] - Train Loss: 32.0477 | Test Loss: 244.3592\n",
            "Epoch [20/300] - Train Loss: 31.7859 | Test Loss: 243.8599\n",
            "Epoch [21/300] - Train Loss: 31.5515 | Test Loss: 243.1830\n",
            "Epoch [22/300] - Train Loss: 31.3141 | Test Loss: 242.6644\n",
            "Epoch [23/300] - Train Loss: 31.1358 | Test Loss: 242.2027\n",
            "Epoch [24/300] - Train Loss: 30.9371 | Test Loss: 241.5158\n",
            "Epoch [25/300] - Train Loss: 30.6731 | Test Loss: 240.7465\n",
            "Epoch [26/300] - Train Loss: 30.4674 | Test Loss: 240.2556\n",
            "Epoch [27/300] - Train Loss: 30.2247 | Test Loss: 239.6024\n",
            "Epoch [28/300] - Train Loss: 30.0126 | Test Loss: 239.2230\n",
            "Epoch [29/300] - Train Loss: 29.7402 | Test Loss: 238.4078\n",
            "Epoch [30/300] - Train Loss: 29.4524 | Test Loss: 238.0523\n",
            "Epoch [31/300] - Train Loss: 29.2259 | Test Loss: 237.5900\n",
            "Epoch [32/300] - Train Loss: 29.0035 | Test Loss: 236.9983\n",
            "Epoch [33/300] - Train Loss: 28.7719 | Test Loss: 236.9386\n",
            "Epoch [34/300] - Train Loss: 28.6489 | Test Loss: 236.5535\n",
            "Epoch [35/300] - Train Loss: 28.3031 | Test Loss: 236.1375\n",
            "Epoch [36/300] - Train Loss: 28.0706 | Test Loss: 235.5998\n",
            "Epoch [37/300] - Train Loss: 27.9276 | Test Loss: 235.6092\n",
            "Epoch [38/300] - Train Loss: 27.7363 | Test Loss: 235.4802\n",
            "Epoch [39/300] - Train Loss: 27.5036 | Test Loss: 235.1628\n",
            "Epoch [40/300] - Train Loss: 27.3096 | Test Loss: 235.2485\n",
            "Epoch [41/300] - Train Loss: 27.1817 | Test Loss: 235.0782\n",
            "Epoch [42/300] - Train Loss: 27.0131 | Test Loss: 234.9337\n",
            "Epoch [43/300] - Train Loss: 26.8236 | Test Loss: 234.9051\n",
            "Epoch [44/300] - Train Loss: 26.6959 | Test Loss: 234.8829\n",
            "Epoch [45/300] - Train Loss: 26.5100 | Test Loss: 234.8745\n",
            "Epoch [46/300] - Train Loss: 26.4280 | Test Loss: 234.6165\n",
            "Epoch [47/300] - Train Loss: 26.2639 | Test Loss: 234.5559\n",
            "Epoch [48/300] - Train Loss: 26.1439 | Test Loss: 234.3635\n",
            "Epoch [49/300] - Train Loss: 26.0114 | Test Loss: 234.4723\n",
            "Epoch [50/300] - Train Loss: 25.8571 | Test Loss: 234.3619\n",
            "Epoch [51/300] - Train Loss: 25.7223 | Test Loss: 234.1287\n",
            "Epoch [52/300] - Train Loss: 25.5753 | Test Loss: 233.8741\n",
            "Epoch [53/300] - Train Loss: 25.4412 | Test Loss: 233.8651\n",
            "Epoch [54/300] - Train Loss: 25.3233 | Test Loss: 233.8259\n",
            "Epoch [55/300] - Train Loss: 25.2226 | Test Loss: 233.6402\n",
            "Epoch [56/300] - Train Loss: 25.0949 | Test Loss: 233.3465\n",
            "Epoch [57/300] - Train Loss: 24.9855 | Test Loss: 233.6006\n",
            "Epoch [58/300] - Train Loss: 24.7985 | Test Loss: 233.0828\n",
            "Epoch [59/300] - Train Loss: 24.6993 | Test Loss: 233.1005\n",
            "Epoch [60/300] - Train Loss: 24.6396 | Test Loss: 233.0048\n",
            "Epoch [61/300] - Train Loss: 24.4736 | Test Loss: 232.6973\n",
            "Epoch [62/300] - Train Loss: 24.3814 | Test Loss: 232.5272\n",
            "Epoch [63/300] - Train Loss: 24.2120 | Test Loss: 232.5113\n",
            "Epoch [64/300] - Train Loss: 24.0864 | Test Loss: 232.4196\n",
            "Epoch [65/300] - Train Loss: 24.0194 | Test Loss: 232.2776\n",
            "Epoch [66/300] - Train Loss: 23.8846 | Test Loss: 232.2684\n",
            "Epoch [67/300] - Train Loss: 23.7590 | Test Loss: 232.4031\n",
            "Epoch [68/300] - Train Loss: 23.6669 | Test Loss: 231.9855\n",
            "Epoch [69/300] - Train Loss: 23.5394 | Test Loss: 231.8987\n",
            "Epoch [70/300] - Train Loss: 23.4531 | Test Loss: 231.9764\n",
            "Epoch [71/300] - Train Loss: 23.3173 | Test Loss: 231.8384\n",
            "Epoch [72/300] - Train Loss: 23.2657 | Test Loss: 231.9711\n",
            "Epoch [73/300] - Train Loss: 23.0899 | Test Loss: 231.6445\n",
            "Epoch [74/300] - Train Loss: 23.0291 | Test Loss: 231.5564\n",
            "Epoch [75/300] - Train Loss: 22.8772 | Test Loss: 231.9315\n",
            "Epoch [76/300] - Train Loss: 22.8119 | Test Loss: 231.8754\n",
            "Epoch [77/300] - Train Loss: 22.7470 | Test Loss: 231.4688\n",
            "Epoch [78/300] - Train Loss: 22.6409 | Test Loss: 231.7388\n",
            "Epoch [79/300] - Train Loss: 22.5158 | Test Loss: 231.6518\n",
            "Epoch [80/300] - Train Loss: 22.4688 | Test Loss: 231.7082\n",
            "Epoch [81/300] - Train Loss: 22.3625 | Test Loss: 231.5565\n",
            "Epoch [82/300] - Train Loss: 22.2578 | Test Loss: 231.5919\n",
            "Epoch [83/300] - Train Loss: 22.1757 | Test Loss: 231.6538\n",
            "Epoch [84/300] - Train Loss: 22.1234 | Test Loss: 231.6956\n",
            "Epoch [85/300] - Train Loss: 22.0375 | Test Loss: 231.7931\n",
            "Epoch [86/300] - Train Loss: 21.9034 | Test Loss: 231.6252\n",
            "Epoch [87/300] - Train Loss: 21.8974 | Test Loss: 231.6992\n",
            "Epoch [88/300] - Train Loss: 21.7905 | Test Loss: 231.6288\n",
            "Epoch [89/300] - Train Loss: 21.7315 | Test Loss: 231.7291\n",
            "Epoch [90/300] - Train Loss: 21.6423 | Test Loss: 231.7911\n",
            "Epoch [91/300] - Train Loss: 21.5557 | Test Loss: 231.7020\n",
            "Epoch [92/300] - Train Loss: 21.5373 | Test Loss: 231.5997\n",
            "Epoch [93/300] - Train Loss: 21.4564 | Test Loss: 231.6032\n",
            "Epoch [94/300] - Train Loss: 21.3414 | Test Loss: 231.4800\n",
            "Epoch [95/300] - Train Loss: 21.3056 | Test Loss: 231.7083\n",
            "Epoch [96/300] - Train Loss: 21.2498 | Test Loss: 231.6562\n",
            "Epoch [97/300] - Train Loss: 21.2015 | Test Loss: 231.7497\n",
            "Epoch [98/300] - Train Loss: 21.0904 | Test Loss: 231.2310\n",
            "Epoch [99/300] - Train Loss: 21.0044 | Test Loss: 231.4710\n",
            "Epoch [100/300] - Train Loss: 21.0018 | Test Loss: 231.3944\n",
            "Epoch [101/300] - Train Loss: 20.9484 | Test Loss: 231.6409\n",
            "Epoch [102/300] - Train Loss: 20.8793 | Test Loss: 231.4803\n",
            "Epoch [103/300] - Train Loss: 20.7805 | Test Loss: 231.2854\n",
            "Epoch [104/300] - Train Loss: 20.7154 | Test Loss: 231.2729\n",
            "Epoch [105/300] - Train Loss: 20.6755 | Test Loss: 231.2155\n",
            "Epoch [106/300] - Train Loss: 20.5642 | Test Loss: 231.1386\n",
            "Epoch [107/300] - Train Loss: 20.4726 | Test Loss: 231.0994\n",
            "Epoch [108/300] - Train Loss: 20.4866 | Test Loss: 231.2340\n",
            "Epoch [109/300] - Train Loss: 20.4156 | Test Loss: 231.0157\n",
            "Epoch [110/300] - Train Loss: 20.3775 | Test Loss: 231.0032\n",
            "Epoch [111/300] - Train Loss: 20.3073 | Test Loss: 231.0929\n",
            "Epoch [112/300] - Train Loss: 20.2164 | Test Loss: 230.9724\n",
            "Epoch [113/300] - Train Loss: 20.2349 | Test Loss: 230.8169\n",
            "Epoch [114/300] - Train Loss: 20.1597 | Test Loss: 231.0867\n",
            "Epoch [115/300] - Train Loss: 20.0779 | Test Loss: 230.6704\n",
            "Epoch [116/300] - Train Loss: 20.0443 | Test Loss: 230.5537\n",
            "Epoch [117/300] - Train Loss: 20.0137 | Test Loss: 230.7017\n",
            "Epoch [118/300] - Train Loss: 19.9294 | Test Loss: 230.4296\n",
            "Epoch [119/300] - Train Loss: 19.9171 | Test Loss: 230.5820\n",
            "Epoch [120/300] - Train Loss: 19.8212 | Test Loss: 230.2426\n",
            "Epoch [121/300] - Train Loss: 19.7743 | Test Loss: 230.3528\n",
            "Epoch [122/300] - Train Loss: 19.7499 | Test Loss: 230.0835\n",
            "Epoch [123/300] - Train Loss: 19.6824 | Test Loss: 230.1285\n",
            "Epoch [124/300] - Train Loss: 19.6234 | Test Loss: 230.0436\n",
            "Epoch [125/300] - Train Loss: 19.5487 | Test Loss: 229.6798\n",
            "Epoch [126/300] - Train Loss: 19.5070 | Test Loss: 229.8199\n",
            "Epoch [127/300] - Train Loss: 19.4447 | Test Loss: 229.7229\n",
            "Epoch [128/300] - Train Loss: 19.4343 | Test Loss: 229.8533\n",
            "Epoch [129/300] - Train Loss: 19.4069 | Test Loss: 229.5498\n",
            "Epoch [130/300] - Train Loss: 19.3234 | Test Loss: 229.4960\n",
            "Epoch [131/300] - Train Loss: 19.2519 | Test Loss: 229.2329\n",
            "Epoch [132/300] - Train Loss: 19.2687 | Test Loss: 229.4599\n",
            "Epoch [133/300] - Train Loss: 19.2069 | Test Loss: 229.0037\n",
            "Epoch [134/300] - Train Loss: 19.1865 | Test Loss: 228.8528\n",
            "Epoch [135/300] - Train Loss: 19.0981 | Test Loss: 228.8476\n",
            "Epoch [136/300] - Train Loss: 19.0837 | Test Loss: 228.9307\n",
            "Epoch [137/300] - Train Loss: 18.9851 | Test Loss: 228.4510\n",
            "Epoch [138/300] - Train Loss: 18.9599 | Test Loss: 228.4008\n",
            "Epoch [139/300] - Train Loss: 18.9501 | Test Loss: 228.5175\n",
            "Epoch [140/300] - Train Loss: 18.8919 | Test Loss: 228.3059\n",
            "Epoch [141/300] - Train Loss: 18.8507 | Test Loss: 228.2164\n",
            "Epoch [142/300] - Train Loss: 18.7881 | Test Loss: 227.9752\n",
            "Epoch [143/300] - Train Loss: 18.7422 | Test Loss: 227.8696\n",
            "Epoch [144/300] - Train Loss: 18.7207 | Test Loss: 227.6428\n",
            "Epoch [145/300] - Train Loss: 18.6554 | Test Loss: 227.7727\n",
            "Epoch [146/300] - Train Loss: 18.6675 | Test Loss: 227.4510\n",
            "Epoch [147/300] - Train Loss: 18.5925 | Test Loss: 227.2622\n",
            "Epoch [148/300] - Train Loss: 18.5479 | Test Loss: 226.9475\n",
            "Epoch [149/300] - Train Loss: 18.4984 | Test Loss: 226.9872\n",
            "Epoch [150/300] - Train Loss: 18.5082 | Test Loss: 226.8293\n",
            "Epoch [151/300] - Train Loss: 18.4462 | Test Loss: 226.7103\n",
            "Epoch [152/300] - Train Loss: 18.4036 | Test Loss: 226.4186\n",
            "Epoch [153/300] - Train Loss: 18.3534 | Test Loss: 226.4450\n",
            "Epoch [154/300] - Train Loss: 18.2933 | Test Loss: 226.2535\n",
            "Epoch [155/300] - Train Loss: 18.2655 | Test Loss: 226.0403\n",
            "Epoch [156/300] - Train Loss: 18.2436 | Test Loss: 225.9520\n",
            "Epoch [157/300] - Train Loss: 18.2005 | Test Loss: 225.7286\n",
            "Epoch [158/300] - Train Loss: 18.1608 | Test Loss: 225.6087\n",
            "Epoch [159/300] - Train Loss: 18.1610 | Test Loss: 225.4617\n",
            "Epoch [160/300] - Train Loss: 18.1123 | Test Loss: 225.2143\n",
            "Epoch [161/300] - Train Loss: 18.0866 | Test Loss: 225.0708\n",
            "Epoch [162/300] - Train Loss: 17.9980 | Test Loss: 224.7562\n",
            "Epoch [163/300] - Train Loss: 17.9718 | Test Loss: 224.8019\n",
            "Epoch [164/300] - Train Loss: 17.9489 | Test Loss: 224.6306\n",
            "Epoch [165/300] - Train Loss: 17.9019 | Test Loss: 224.4276\n",
            "Epoch [166/300] - Train Loss: 17.8646 | Test Loss: 224.2714\n",
            "Epoch [167/300] - Train Loss: 17.8488 | Test Loss: 224.1009\n",
            "Epoch [168/300] - Train Loss: 17.8326 | Test Loss: 224.0616\n",
            "Epoch [169/300] - Train Loss: 17.7450 | Test Loss: 223.7951\n",
            "Epoch [170/300] - Train Loss: 17.7499 | Test Loss: 223.6755\n",
            "Epoch [171/300] - Train Loss: 17.7118 | Test Loss: 223.3209\n",
            "Epoch [172/300] - Train Loss: 17.6527 | Test Loss: 223.1261\n",
            "Epoch [173/300] - Train Loss: 17.6264 | Test Loss: 223.0104\n",
            "Epoch [174/300] - Train Loss: 17.5995 | Test Loss: 223.0187\n",
            "Epoch [175/300] - Train Loss: 17.5711 | Test Loss: 222.7877\n",
            "Epoch [176/300] - Train Loss: 17.5336 | Test Loss: 222.4947\n",
            "Epoch [177/300] - Train Loss: 17.4897 | Test Loss: 222.3442\n",
            "Epoch [178/300] - Train Loss: 17.4831 | Test Loss: 222.1541\n",
            "Epoch [179/300] - Train Loss: 17.4358 | Test Loss: 222.2182\n",
            "Epoch [180/300] - Train Loss: 17.3936 | Test Loss: 221.9517\n",
            "Epoch [181/300] - Train Loss: 17.3920 | Test Loss: 221.6224\n",
            "Epoch [182/300] - Train Loss: 17.3669 | Test Loss: 221.4223\n",
            "Epoch [183/300] - Train Loss: 17.3179 | Test Loss: 221.2585\n",
            "Epoch [184/300] - Train Loss: 17.2768 | Test Loss: 221.3117\n",
            "Epoch [185/300] - Train Loss: 17.2516 | Test Loss: 220.9984\n",
            "Epoch [186/300] - Train Loss: 17.2164 | Test Loss: 220.6548\n",
            "Epoch [187/300] - Train Loss: 17.1798 | Test Loss: 220.6331\n",
            "Epoch [188/300] - Train Loss: 17.1781 | Test Loss: 220.3688\n",
            "Epoch [189/300] - Train Loss: 17.1680 | Test Loss: 220.2997\n",
            "Epoch [190/300] - Train Loss: 17.0949 | Test Loss: 219.8600\n",
            "Epoch [191/300] - Train Loss: 17.0513 | Test Loss: 219.7796\n",
            "Epoch [192/300] - Train Loss: 17.0087 | Test Loss: 219.7152\n",
            "Epoch [193/300] - Train Loss: 17.0459 | Test Loss: 219.5577\n",
            "Epoch [194/300] - Train Loss: 16.9813 | Test Loss: 219.2984\n",
            "Epoch [195/300] - Train Loss: 16.9501 | Test Loss: 219.1757\n",
            "Epoch [196/300] - Train Loss: 16.9268 | Test Loss: 218.7094\n",
            "Epoch [197/300] - Train Loss: 16.9243 | Test Loss: 218.8488\n",
            "Epoch [198/300] - Train Loss: 16.8979 | Test Loss: 218.6340\n",
            "Epoch [199/300] - Train Loss: 16.8773 | Test Loss: 218.5410\n",
            "Epoch [200/300] - Train Loss: 16.8205 | Test Loss: 217.9823\n",
            "Epoch [201/300] - Train Loss: 16.8027 | Test Loss: 218.0641\n",
            "Epoch [202/300] - Train Loss: 16.7493 | Test Loss: 217.7622\n",
            "Epoch [203/300] - Train Loss: 16.7662 | Test Loss: 217.6292\n",
            "Epoch [204/300] - Train Loss: 16.7025 | Test Loss: 217.3426\n",
            "Epoch [205/300] - Train Loss: 16.7115 | Test Loss: 217.1955\n",
            "Epoch [206/300] - Train Loss: 16.6759 | Test Loss: 217.1091\n",
            "Epoch [207/300] - Train Loss: 16.6583 | Test Loss: 216.8553\n",
            "Epoch [208/300] - Train Loss: 16.5927 | Test Loss: 216.7640\n",
            "Epoch [209/300] - Train Loss: 16.5390 | Test Loss: 216.6562\n",
            "Epoch [210/300] - Train Loss: 16.5488 | Test Loss: 216.0881\n",
            "Epoch [211/300] - Train Loss: 16.5323 | Test Loss: 216.3014\n",
            "Epoch [212/300] - Train Loss: 16.4757 | Test Loss: 216.1749\n",
            "Epoch [213/300] - Train Loss: 16.4827 | Test Loss: 215.8345\n",
            "Epoch [214/300] - Train Loss: 16.4466 | Test Loss: 215.6012\n",
            "Epoch [215/300] - Train Loss: 16.4433 | Test Loss: 215.5657\n",
            "Epoch [216/300] - Train Loss: 16.4058 | Test Loss: 215.0731\n",
            "Epoch [217/300] - Train Loss: 16.3798 | Test Loss: 215.2352\n",
            "Epoch [218/300] - Train Loss: 16.3766 | Test Loss: 214.9600\n",
            "Epoch [219/300] - Train Loss: 16.3489 | Test Loss: 214.7563\n",
            "Epoch [220/300] - Train Loss: 16.2801 | Test Loss: 214.4586\n",
            "Epoch [221/300] - Train Loss: 16.2859 | Test Loss: 214.2890\n",
            "Epoch [222/300] - Train Loss: 16.2538 | Test Loss: 214.1694\n",
            "Epoch [223/300] - Train Loss: 16.2291 | Test Loss: 214.1729\n",
            "Epoch [224/300] - Train Loss: 16.2443 | Test Loss: 213.7635\n",
            "Epoch [225/300] - Train Loss: 16.1668 | Test Loss: 213.6612\n",
            "Epoch [226/300] - Train Loss: 16.1800 | Test Loss: 213.6796\n",
            "Epoch [227/300] - Train Loss: 16.1666 | Test Loss: 213.2308\n",
            "Epoch [228/300] - Train Loss: 16.1287 | Test Loss: 213.0010\n",
            "Epoch [229/300] - Train Loss: 16.0860 | Test Loss: 212.9441\n",
            "Epoch [230/300] - Train Loss: 16.0379 | Test Loss: 212.7057\n",
            "Epoch [231/300] - Train Loss: 16.0407 | Test Loss: 212.5576\n",
            "Epoch [232/300] - Train Loss: 16.0404 | Test Loss: 212.3419\n",
            "Epoch [233/300] - Train Loss: 16.0208 | Test Loss: 212.1357\n",
            "Epoch [234/300] - Train Loss: 15.9577 | Test Loss: 211.9457\n",
            "Epoch [235/300] - Train Loss: 15.9589 | Test Loss: 211.8941\n",
            "Epoch [236/300] - Train Loss: 15.9553 | Test Loss: 211.5742\n",
            "Epoch [237/300] - Train Loss: 15.9161 | Test Loss: 211.3806\n",
            "Epoch [238/300] - Train Loss: 15.9390 | Test Loss: 211.2961\n",
            "Epoch [239/300] - Train Loss: 15.8573 | Test Loss: 211.1436\n",
            "Epoch [240/300] - Train Loss: 15.8533 | Test Loss: 210.8253\n",
            "Epoch [241/300] - Train Loss: 15.8323 | Test Loss: 210.6932\n",
            "Epoch [242/300] - Train Loss: 15.8064 | Test Loss: 210.6369\n",
            "Epoch [243/300] - Train Loss: 15.7916 | Test Loss: 210.3669\n",
            "Epoch [244/300] - Train Loss: 15.7510 | Test Loss: 210.2928\n",
            "Epoch [245/300] - Train Loss: 15.7354 | Test Loss: 210.0343\n",
            "Epoch [246/300] - Train Loss: 15.7351 | Test Loss: 209.8101\n",
            "Epoch [247/300] - Train Loss: 15.7405 | Test Loss: 209.6361\n",
            "Epoch [248/300] - Train Loss: 15.6883 | Test Loss: 209.5990\n",
            "Epoch [249/300] - Train Loss: 15.6590 | Test Loss: 209.2113\n",
            "Epoch [250/300] - Train Loss: 15.6337 | Test Loss: 209.1151\n",
            "Epoch [251/300] - Train Loss: 15.6142 | Test Loss: 209.0216\n",
            "Epoch [252/300] - Train Loss: 15.5954 | Test Loss: 208.8246\n",
            "Epoch [253/300] - Train Loss: 15.5783 | Test Loss: 208.4700\n",
            "Epoch [254/300] - Train Loss: 15.5947 | Test Loss: 208.4505\n",
            "Epoch [255/300] - Train Loss: 15.5344 | Test Loss: 208.2191\n",
            "Epoch [256/300] - Train Loss: 15.5296 | Test Loss: 208.0655\n",
            "Epoch [257/300] - Train Loss: 15.5147 | Test Loss: 207.9192\n",
            "Epoch [258/300] - Train Loss: 15.4728 | Test Loss: 207.6407\n",
            "Epoch [259/300] - Train Loss: 15.4891 | Test Loss: 207.5034\n",
            "Epoch [260/300] - Train Loss: 15.4320 | Test Loss: 207.2438\n",
            "Epoch [261/300] - Train Loss: 15.3943 | Test Loss: 207.2147\n",
            "Epoch [262/300] - Train Loss: 15.4252 | Test Loss: 207.0991\n",
            "Epoch [263/300] - Train Loss: 15.3805 | Test Loss: 206.8248\n",
            "Epoch [264/300] - Train Loss: 15.3399 | Test Loss: 206.7026\n",
            "Epoch [265/300] - Train Loss: 15.3526 | Test Loss: 206.3680\n",
            "Epoch [266/300] - Train Loss: 15.3339 | Test Loss: 206.4236\n",
            "Epoch [267/300] - Train Loss: 15.2935 | Test Loss: 206.1609\n",
            "Epoch [268/300] - Train Loss: 15.2806 | Test Loss: 206.0292\n",
            "Epoch [269/300] - Train Loss: 15.2592 | Test Loss: 205.8677\n",
            "Epoch [270/300] - Train Loss: 15.2544 | Test Loss: 205.7316\n",
            "Epoch [271/300] - Train Loss: 15.2284 | Test Loss: 205.4306\n",
            "Epoch [272/300] - Train Loss: 15.1941 | Test Loss: 205.2563\n",
            "Epoch [273/300] - Train Loss: 15.1780 | Test Loss: 205.1100\n",
            "Epoch [274/300] - Train Loss: 15.1723 | Test Loss: 204.9352\n",
            "Epoch [275/300] - Train Loss: 15.1450 | Test Loss: 204.7680\n",
            "Epoch [276/300] - Train Loss: 15.1273 | Test Loss: 204.7602\n",
            "Epoch [277/300] - Train Loss: 15.1378 | Test Loss: 204.4310\n",
            "Epoch [278/300] - Train Loss: 15.0903 | Test Loss: 204.3158\n",
            "Epoch [279/300] - Train Loss: 15.0638 | Test Loss: 204.1763\n",
            "Epoch [280/300] - Train Loss: 15.0824 | Test Loss: 203.9171\n",
            "Epoch [281/300] - Train Loss: 15.0039 | Test Loss: 203.9455\n",
            "Epoch [282/300] - Train Loss: 15.0239 | Test Loss: 203.6775\n",
            "Epoch [283/300] - Train Loss: 14.9860 | Test Loss: 203.4943\n",
            "Epoch [284/300] - Train Loss: 14.9724 | Test Loss: 203.3841\n",
            "Epoch [285/300] - Train Loss: 14.9605 | Test Loss: 203.0673\n",
            "Epoch [286/300] - Train Loss: 14.9529 | Test Loss: 203.1450\n",
            "Epoch [287/300] - Train Loss: 14.9567 | Test Loss: 202.8774\n",
            "Epoch [288/300] - Train Loss: 14.9613 | Test Loss: 202.8214\n",
            "Epoch [289/300] - Train Loss: 14.9093 | Test Loss: 202.5719\n",
            "Epoch [290/300] - Train Loss: 14.9120 | Test Loss: 202.2489\n",
            "Epoch [291/300] - Train Loss: 14.8698 | Test Loss: 202.1175\n",
            "Epoch [292/300] - Train Loss: 14.8605 | Test Loss: 202.0779\n",
            "Epoch [293/300] - Train Loss: 14.8231 | Test Loss: 201.9114\n",
            "Epoch [294/300] - Train Loss: 14.8312 | Test Loss: 201.7008\n",
            "Epoch [295/300] - Train Loss: 14.7979 | Test Loss: 201.5204\n",
            "Epoch [296/300] - Train Loss: 14.8006 | Test Loss: 201.4466\n",
            "Epoch [297/300] - Train Loss: 14.7771 | Test Loss: 201.2717\n",
            "Epoch [298/300] - Train Loss: 14.7396 | Test Loss: 200.9289\n",
            "Epoch [299/300] - Train Loss: 14.6971 | Test Loss: 200.8501\n",
            "Epoch [300/300] - Train Loss: 14.7027 | Test Loss: 200.7318\n"
          ]
        }
      ],
      "source": [
        "model = NADE().to(device)\n",
        "optimizer = optim.Adam(model.parameters(), lr=1e-4)\n",
        "\n",
        "num_epochs = 300\n",
        "train_losses = []\n",
        "test_losses = []\n",
        "\n",
        "for epoch in range(num_epochs):\n",
        "    model.train()\n",
        "    train_loss = 0\n",
        "\n",
        "    for batch, _ in training_focused_loader:\n",
        "        batch = batch.view(-1, 784).to(device)\n",
        "        optimizer.zero_grad()\n",
        "        loss = -model.log_prob(batch).mean()\n",
        "        loss.backward()\n",
        "        optimizer.step()\n",
        "        train_loss += loss.item()\n",
        "\n",
        "    avg_train_loss = train_loss / len(train_loader)\n",
        "    train_losses.append(avg_train_loss)\n",
        "\n",
        "    # Validation: similar to training, except no optimization and backward steps\n",
        "    model.eval()\n",
        "    with torch.no_grad():\n",
        "        test_loss = 0\n",
        "        for batch, _ in test_loader:\n",
        "            batch = batch.view(-1, 784).to(device)\n",
        "            loss = -model.log_prob(batch).mean()\n",
        "            test_loss += loss.item()\n",
        "        avg_test_loss = test_loss / len(test_loader)\n",
        "        test_losses.append(avg_test_loss)\n",
        "\n",
        "\n",
        "    # For each epoch, print: epoch number, training loss, and test loss\n",
        "    print(f\"Epoch [{epoch+1}/{num_epochs}] - Train Loss: {avg_train_loss:.4f} | Test Loss: {avg_test_loss:.4f}\")\n"
      ]
    },
    {
      "cell_type": "markdown",
      "metadata": {
        "id": "oVWYLcyvLhLd"
      },
      "source": [
        "# Part 5: Analyze Results\n"
      ]
    },
    {
      "cell_type": "code",
      "execution_count": null,
      "metadata": {
        "colab": {
          "base_uri": "https://localhost:8080/",
          "height": 487
        },
        "id": "BzkCpNZDFTwz",
        "outputId": "434f4831-8e0d-4e2a-90c1-30730ec8d8f1"
      },
      "outputs": [
        {
          "data": {
            "image/png": "[encoded data removed]",
            "text/plain": [
              "<Figure size 1000x500 with 1 Axes>"
            ]
          },
          "metadata": {},
          "output_type": "display_data"
        }
      ],
      "source": [
        "plt.figure(figsize=(10, 5))\n",
        "plt.plot(train_losses, label='Training Loss')\n",
        "plt.plot(test_losses, label='Test Loss')\n",
        "plt.xlabel('Epoch')\n",
        "plt.ylabel('Negative Log-Likelihood')\n",
        "plt.legend()\n",
        "plt.title('NADE Training and Test Loss Over Epochs')\n",
        "plt.show()"
      ]
    },
    {
      "cell_type": "markdown",
      "metadata": {
        "id": "B4sQmlupbcdK"
      },
      "source": [
        "### Both training loss and test loss have converged based on the plot above. The scale in training loss scale is a bit different from the test loss scale; this is due to the normalizing term in the loss terms."
      ]
    },
    {
      "cell_type": "markdown",
      "metadata": {
        "id": "lbxuu77XjrR0"
      },
      "source": [
        "# Part 6: Generate and visualize samples\n"
      ]
    },
    {
      "cell_type": "code",
      "execution_count": null,
      "metadata": {
        "colab": {
          "base_uri": "https://localhost:8080/",
          "height": 249
        },
        "id": "Bqwl8smGGjp2",
        "outputId": "b89aa67b-e55b-4625-bd05-1de3d99a1543"
      },
      "outputs": [
        {
          "data": {
            "image/png": "[encoded data removed]",
            "text/plain": [
              "<Figure size 1200x300 with 10 Axes>"
            ]
          },
          "metadata": {},
          "output_type": "display_data"
        }
      ],
      "source": [
        "samples = model.generate_samples()\n",
        "plt.figure(figsize=(12, 3))\n",
        "for i in range(10):\n",
        "    plt.subplot(1, 10, i+1)\n",
        "    plt.imshow(samples[i].view(28, 28), cmap='gray')\n",
        "    plt.axis('off')\n",
        "plt.suptitle(f\"Generated Samples - Epoch {epoch+1}\")\n",
        "plt.tight_layout()\n",
        "plt.show()"
      ]
    },
    {
      "cell_type": "markdown",
      "metadata": {
        "id": "uRPIsJ5smrmV"
      },
      "source": [
        "# Part 7: Bonus\n",
        "\n",
        "1. Model Implementation\n",
        "Implement an FVSBN model using the same filtered MNIST dataset. Carefully analyze how the autoregressive structure differs in implementation from NADE, particularly in how conditional dependencies are modeled between pixels. What modifications were required in the training loop to accommodate these architectural differences?\n",
        "\n",
        "2. Architectural Comparison\n",
        "Compare and contrast the model structures of FVSBN and NADE by addressing:\n",
        "\n",
        "  (a) How the conditional probability p(x_i|x_<i) is computed differently in each architecture\n",
        "\n",
        "  (b) The role of hidden units in NADE versus direct parameterization in FVSBN\n",
        "\n",
        "  (c) The memory requirements for each model given an input dimension D. Support your analysis with specific equations from both architectures.\n",
        "\n",
        "3. Empirical Evaluation\n",
        "Design a systematic comparison between your trained FVSBN and NADE models by evaluating:\n",
        "\n",
        "  (a) Training convergence rates using identical hyperparameters\n",
        "\n",
        "  (b) Sample quality through both visual inspection and quantitative metrics (e.g., log-likelihood on test set)\n",
        "\n",
        "  (c) Computational efficiency during both training and generation. What fundamental architectural characteristics explain the performance differences you observe?"
      ]
    },
    {
      "cell_type": "code",
      "execution_count": null,
      "metadata": {
        "id": "4L8s8lvnoCQP"
      },
      "outputs": [],
      "source": [
        "class FVSBN(nn.Module):\n",
        "    def __init__(self, input_dim=784):\n",
        "        super().__init__()\n",
        "        self.input_dim = input_dim\n",
        "\n",
        "        self.W = nn.Parameter(torch.tril(torch.randn(input_dim, input_dim) * 0.01, diagonal=-1))\n",
        "        self.b = nn.Parameter(torch.zeros(input_dim))\n",
        "\n",
        "    def forward(self, x):\n",
        "        \"\"\"\n",
        "        Args:\n",
        "            x: (batch_size, input_dim), binary input\n",
        "        Returns:\n",
        "            x_hat: (batch_size, input_dim), conditional probabilities of x_d given x_{<d}\n",
        "        \"\"\"\n",
        "        logits = self.b + x @ self.W.T\n",
        "        x_hat = torch.sigmoid(logits)\n",
        "        return x_hat\n",
        "\n",
        "    def log_prob(self, x):\n",
        "        \"\"\"\n",
        "        Compute log probability of each input under the model.\n",
        "        \"\"\"\n",
        "        x_hat = self.forward(x)\n",
        "        x_hat = torch.clamp(x_hat, min=1e-6, max=1 - 1e-6)\n",
        "        log_prob = x * torch.log(x_hat) + (1 - x) * torch.log(1 - x_hat)\n",
        "        return log_prob.sum(dim=1)\n",
        "\n",
        "    def generate_samples(self, num_samples=10):\n",
        "        \"\"\"\n",
        "        Generate samples using ancestral sampling.\n",
        "        \"\"\"\n",
        "        samples = torch.zeros(num_samples, self.input_dim).to(next(self.parameters()).device)\n",
        "        with torch.no_grad():\n",
        "            for d in range(self.input_dim):\n",
        "                logits = self.b[d] + torch.matmul(samples, self.W[d])\n",
        "                p_d = torch.sigmoid(logits)\n",
        "                samples[:, d] = torch.bernoulli(p_d)\n",
        "        return samples.cpu()"
      ]
    },
    {
      "cell_type": "markdown",
      "metadata": {
        "id": "9QqOaK6WsQfs"
      },
      "source": [
        "### To reach an FVSBN model from the NADE model, we need to delete the hidden layer(s) and I defined a triangular matrix for the parameters to consider the chain rule structure. </br> As FVSBN only uses logistic regression to approximate the conditional probabilities, there are no hidden layers and nonlinearities here. So the model as a whole is much simpler in complexity and also faster to train. As we have less parameters in FVSBN, it is more memory-efficient as we no longer have parameters for the hidden layer(s)."
      ]
    },
    {
      "cell_type": "code",
      "execution_count": null,
      "metadata": {
        "colab": {
          "base_uri": "https://localhost:8080/"
        },
        "id": "lqPwsFUzoHDL",
        "outputId": "3f5805fe-c525-4536-aeef-363ca4921f07"
      },
      "outputs": [
        {
          "name": "stdout",
          "output_type": "stream",
          "text": [
            "Epoch [1/300] - Train Loss: 106.5299 | Test Loss: 501.1925\n",
            "Epoch [2/300] - Train Loss: 99.2218 | Test Loss: 464.0346\n",
            "Epoch [3/300] - Train Loss: 92.6283 | Test Loss: 432.0261\n",
            "Epoch [4/300] - Train Loss: 86.7269 | Test Loss: 404.7004\n",
            "Epoch [5/300] - Train Loss: 81.4968 | Test Loss: 381.5408\n",
            "Epoch [6/300] - Train Loss: 76.7718 | Test Loss: 361.8986\n",
            "Epoch [7/300] - Train Loss: 72.5812 | Test Loss: 345.1146\n",
            "Epoch [8/300] - Train Loss: 68.7948 | Test Loss: 330.7447\n",
            "Epoch [9/300] - Train Loss: 65.4328 | Test Loss: 318.4880\n",
            "Epoch [10/300] - Train Loss: 62.3564 | Test Loss: 307.9409\n",
            "Epoch [11/300] - Train Loss: 59.6217 | Test Loss: 298.8321\n",
            "Epoch [12/300] - Train Loss: 57.1515 | Test Loss: 290.9587\n",
            "Epoch [13/300] - Train Loss: 54.8335 | Test Loss: 284.0816\n",
            "Epoch [14/300] - Train Loss: 52.7770 | Test Loss: 278.0727\n",
            "Epoch [15/300] - Train Loss: 50.9017 | Test Loss: 272.7639\n",
            "Epoch [16/300] - Train Loss: 49.1566 | Test Loss: 268.1373\n",
            "Epoch [17/300] - Train Loss: 47.5617 | Test Loss: 264.0852\n",
            "Epoch [18/300] - Train Loss: 46.1242 | Test Loss: 260.4020\n",
            "Epoch [19/300] - Train Loss: 44.7629 | Test Loss: 257.1301\n",
            "Epoch [20/300] - Train Loss: 43.4894 | Test Loss: 254.1911\n",
            "Epoch [21/300] - Train Loss: 42.3242 | Test Loss: 251.5645\n",
            "Epoch [22/300] - Train Loss: 41.2239 | Test Loss: 249.1841\n",
            "Epoch [23/300] - Train Loss: 40.2152 | Test Loss: 247.0572\n",
            "Epoch [24/300] - Train Loss: 39.2438 | Test Loss: 245.0894\n",
            "Epoch [25/300] - Train Loss: 38.3287 | Test Loss: 243.3305\n",
            "Epoch [26/300] - Train Loss: 37.5106 | Test Loss: 241.7116\n",
            "Epoch [27/300] - Train Loss: 36.7254 | Test Loss: 240.2209\n",
            "Epoch [28/300] - Train Loss: 35.9630 | Test Loss: 238.8325\n",
            "Epoch [29/300] - Train Loss: 35.2697 | Test Loss: 237.6282\n",
            "Epoch [30/300] - Train Loss: 34.6195 | Test Loss: 236.4289\n",
            "Epoch [31/300] - Train Loss: 33.9956 | Test Loss: 235.3152\n",
            "Epoch [32/300] - Train Loss: 33.3407 | Test Loss: 234.3689\n",
            "Epoch [33/300] - Train Loss: 32.7881 | Test Loss: 233.3680\n",
            "Epoch [34/300] - Train Loss: 32.2463 | Test Loss: 232.5019\n",
            "Epoch [35/300] - Train Loss: 31.7369 | Test Loss: 231.6554\n",
            "Epoch [36/300] - Train Loss: 31.2510 | Test Loss: 230.8911\n",
            "Epoch [37/300] - Train Loss: 30.7772 | Test Loss: 230.1259\n",
            "Epoch [38/300] - Train Loss: 30.3635 | Test Loss: 229.4210\n",
            "Epoch [39/300] - Train Loss: 29.9113 | Test Loss: 228.7708\n",
            "Epoch [40/300] - Train Loss: 29.5601 | Test Loss: 228.2108\n",
            "Epoch [41/300] - Train Loss: 29.1203 | Test Loss: 227.5949\n",
            "Epoch [42/300] - Train Loss: 28.7568 | Test Loss: 226.9906\n",
            "Epoch [43/300] - Train Loss: 28.3972 | Test Loss: 226.4096\n",
            "Epoch [44/300] - Train Loss: 28.0420 | Test Loss: 225.9773\n",
            "Epoch [45/300] - Train Loss: 27.7126 | Test Loss: 225.4813\n",
            "Epoch [46/300] - Train Loss: 27.3757 | Test Loss: 225.0210\n",
            "Epoch [47/300] - Train Loss: 27.0781 | Test Loss: 224.5672\n",
            "Epoch [48/300] - Train Loss: 26.8138 | Test Loss: 224.1002\n",
            "Epoch [49/300] - Train Loss: 26.5094 | Test Loss: 223.7051\n",
            "Epoch [50/300] - Train Loss: 26.2310 | Test Loss: 223.2122\n",
            "Epoch [51/300] - Train Loss: 25.9959 | Test Loss: 222.8211\n",
            "Epoch [52/300] - Train Loss: 25.7265 | Test Loss: 222.4583\n",
            "Epoch [53/300] - Train Loss: 25.4911 | Test Loss: 222.0598\n",
            "Epoch [54/300] - Train Loss: 25.2242 | Test Loss: 221.6853\n",
            "Epoch [55/300] - Train Loss: 25.0016 | Test Loss: 221.2955\n",
            "Epoch [56/300] - Train Loss: 24.8065 | Test Loss: 220.9299\n",
            "Epoch [57/300] - Train Loss: 24.5508 | Test Loss: 220.6115\n",
            "Epoch [58/300] - Train Loss: 24.3528 | Test Loss: 220.3592\n",
            "Epoch [59/300] - Train Loss: 24.1701 | Test Loss: 219.9704\n",
            "Epoch [60/300] - Train Loss: 23.9450 | Test Loss: 219.6673\n",
            "Epoch [61/300] - Train Loss: 23.7599 | Test Loss: 219.3628\n",
            "Epoch [62/300] - Train Loss: 23.5509 | Test Loss: 218.9862\n",
            "Epoch [63/300] - Train Loss: 23.3979 | Test Loss: 218.7203\n",
            "Epoch [64/300] - Train Loss: 23.2171 | Test Loss: 218.4495\n",
            "Epoch [65/300] - Train Loss: 23.0507 | Test Loss: 218.1676\n",
            "Epoch [66/300] - Train Loss: 22.8638 | Test Loss: 217.8386\n",
            "Epoch [67/300] - Train Loss: 22.7363 | Test Loss: 217.5580\n",
            "Epoch [68/300] - Train Loss: 22.5642 | Test Loss: 217.2488\n",
            "Epoch [69/300] - Train Loss: 22.4014 | Test Loss: 216.9494\n",
            "Epoch [70/300] - Train Loss: 22.2576 | Test Loss: 216.7320\n",
            "Epoch [71/300] - Train Loss: 22.1440 | Test Loss: 216.4593\n",
            "Epoch [72/300] - Train Loss: 22.0119 | Test Loss: 216.1636\n",
            "Epoch [73/300] - Train Loss: 21.8359 | Test Loss: 215.9315\n",
            "Epoch [74/300] - Train Loss: 21.6983 | Test Loss: 215.5237\n",
            "Epoch [75/300] - Train Loss: 21.5430 | Test Loss: 215.2817\n",
            "Epoch [76/300] - Train Loss: 21.4250 | Test Loss: 215.0135\n",
            "Epoch [77/300] - Train Loss: 21.3055 | Test Loss: 214.7915\n",
            "Epoch [78/300] - Train Loss: 21.1648 | Test Loss: 214.5516\n",
            "Epoch [79/300] - Train Loss: 21.0614 | Test Loss: 214.3556\n",
            "Epoch [80/300] - Train Loss: 20.9219 | Test Loss: 214.0570\n",
            "Epoch [81/300] - Train Loss: 20.8174 | Test Loss: 213.7368\n",
            "Epoch [82/300] - Train Loss: 20.6829 | Test Loss: 213.5126\n",
            "Epoch [83/300] - Train Loss: 20.5890 | Test Loss: 213.3083\n",
            "Epoch [84/300] - Train Loss: 20.4765 | Test Loss: 213.1363\n",
            "Epoch [85/300] - Train Loss: 20.3660 | Test Loss: 212.7915\n",
            "Epoch [86/300] - Train Loss: 20.2617 | Test Loss: 212.6008\n",
            "Epoch [87/300] - Train Loss: 20.1865 | Test Loss: 212.3847\n",
            "Epoch [88/300] - Train Loss: 20.0656 | Test Loss: 212.0378\n",
            "Epoch [89/300] - Train Loss: 19.9679 | Test Loss: 211.8564\n",
            "Epoch [90/300] - Train Loss: 19.8699 | Test Loss: 211.6111\n",
            "Epoch [91/300] - Train Loss: 19.7755 | Test Loss: 211.2939\n",
            "Epoch [92/300] - Train Loss: 19.6530 | Test Loss: 211.1544\n",
            "Epoch [93/300] - Train Loss: 19.5941 | Test Loss: 210.8586\n",
            "Epoch [94/300] - Train Loss: 19.5092 | Test Loss: 210.7295\n",
            "Epoch [95/300] - Train Loss: 19.4163 | Test Loss: 210.3946\n",
            "Epoch [96/300] - Train Loss: 19.3150 | Test Loss: 210.2043\n",
            "Epoch [97/300] - Train Loss: 19.2481 | Test Loss: 209.9927\n",
            "Epoch [98/300] - Train Loss: 19.1362 | Test Loss: 209.7275\n",
            "Epoch [99/300] - Train Loss: 19.0846 | Test Loss: 209.5019\n",
            "Epoch [100/300] - Train Loss: 18.9930 | Test Loss: 209.2576\n",
            "Epoch [101/300] - Train Loss: 18.9096 | Test Loss: 209.0123\n",
            "Epoch [102/300] - Train Loss: 18.8035 | Test Loss: 208.8002\n",
            "Epoch [103/300] - Train Loss: 18.7439 | Test Loss: 208.5465\n",
            "Epoch [104/300] - Train Loss: 18.6564 | Test Loss: 208.3794\n",
            "Epoch [105/300] - Train Loss: 18.5841 | Test Loss: 208.1594\n",
            "Epoch [106/300] - Train Loss: 18.5071 | Test Loss: 207.9613\n",
            "Epoch [107/300] - Train Loss: 18.4420 | Test Loss: 207.6862\n",
            "Epoch [108/300] - Train Loss: 18.3804 | Test Loss: 207.5056\n",
            "Epoch [109/300] - Train Loss: 18.3145 | Test Loss: 207.2557\n",
            "Epoch [110/300] - Train Loss: 18.2283 | Test Loss: 207.0062\n",
            "Epoch [111/300] - Train Loss: 18.1632 | Test Loss: 206.8597\n",
            "Epoch [112/300] - Train Loss: 18.1200 | Test Loss: 206.6433\n",
            "Epoch [113/300] - Train Loss: 18.0342 | Test Loss: 206.4324\n",
            "Epoch [114/300] - Train Loss: 17.9783 | Test Loss: 206.2183\n",
            "Epoch [115/300] - Train Loss: 17.8801 | Test Loss: 206.0312\n",
            "Epoch [116/300] - Train Loss: 17.8596 | Test Loss: 205.8260\n",
            "Epoch [117/300] - Train Loss: 17.8092 | Test Loss: 205.6231\n",
            "Epoch [118/300] - Train Loss: 17.7499 | Test Loss: 205.3448\n",
            "Epoch [119/300] - Train Loss: 17.6897 | Test Loss: 205.0327\n",
            "Epoch [120/300] - Train Loss: 17.6089 | Test Loss: 204.8889\n",
            "Epoch [121/300] - Train Loss: 17.5200 | Test Loss: 204.6336\n",
            "Epoch [122/300] - Train Loss: 17.4906 | Test Loss: 204.3902\n",
            "Epoch [123/300] - Train Loss: 17.4177 | Test Loss: 204.1483\n",
            "Epoch [124/300] - Train Loss: 17.3788 | Test Loss: 204.0555\n",
            "Epoch [125/300] - Train Loss: 17.3295 | Test Loss: 203.8176\n",
            "Epoch [126/300] - Train Loss: 17.2703 | Test Loss: 203.6390\n",
            "Epoch [127/300] - Train Loss: 17.1949 | Test Loss: 203.3655\n",
            "Epoch [128/300] - Train Loss: 17.1297 | Test Loss: 203.1575\n",
            "Epoch [129/300] - Train Loss: 17.1119 | Test Loss: 203.0492\n",
            "Epoch [130/300] - Train Loss: 17.0472 | Test Loss: 202.7515\n",
            "Epoch [131/300] - Train Loss: 16.9692 | Test Loss: 202.4418\n",
            "Epoch [132/300] - Train Loss: 16.9294 | Test Loss: 202.2497\n",
            "Epoch [133/300] - Train Loss: 16.8855 | Test Loss: 202.1190\n",
            "Epoch [134/300] - Train Loss: 16.8094 | Test Loss: 201.9443\n",
            "Epoch [135/300] - Train Loss: 16.7839 | Test Loss: 201.6561\n",
            "Epoch [136/300] - Train Loss: 16.7145 | Test Loss: 201.5107\n",
            "Epoch [137/300] - Train Loss: 16.6720 | Test Loss: 201.3114\n",
            "Epoch [138/300] - Train Loss: 16.6327 | Test Loss: 201.0345\n",
            "Epoch [139/300] - Train Loss: 16.5888 | Test Loss: 200.9677\n",
            "Epoch [140/300] - Train Loss: 16.5634 | Test Loss: 200.7657\n",
            "Epoch [141/300] - Train Loss: 16.5225 | Test Loss: 200.3963\n",
            "Epoch [142/300] - Train Loss: 16.4635 | Test Loss: 200.2361\n",
            "Epoch [143/300] - Train Loss: 16.4529 | Test Loss: 200.0109\n",
            "Epoch [144/300] - Train Loss: 16.3404 | Test Loss: 199.7955\n",
            "Epoch [145/300] - Train Loss: 16.3160 | Test Loss: 199.5714\n",
            "Epoch [146/300] - Train Loss: 16.2843 | Test Loss: 199.4341\n",
            "Epoch [147/300] - Train Loss: 16.2431 | Test Loss: 199.1307\n",
            "Epoch [148/300] - Train Loss: 16.1800 | Test Loss: 198.9769\n",
            "Epoch [149/300] - Train Loss: 16.2003 | Test Loss: 198.8042\n",
            "Epoch [150/300] - Train Loss: 16.0810 | Test Loss: 198.5448\n",
            "Epoch [151/300] - Train Loss: 16.0566 | Test Loss: 198.2912\n",
            "Epoch [152/300] - Train Loss: 16.0334 | Test Loss: 198.1696\n",
            "Epoch [153/300] - Train Loss: 15.9757 | Test Loss: 197.9322\n",
            "Epoch [154/300] - Train Loss: 15.9385 | Test Loss: 197.6832\n",
            "Epoch [155/300] - Train Loss: 15.9148 | Test Loss: 197.5205\n",
            "Epoch [156/300] - Train Loss: 15.8366 | Test Loss: 197.3585\n",
            "Epoch [157/300] - Train Loss: 15.8071 | Test Loss: 197.1197\n",
            "Epoch [158/300] - Train Loss: 15.7834 | Test Loss: 196.9521\n",
            "Epoch [159/300] - Train Loss: 15.7515 | Test Loss: 196.8170\n",
            "Epoch [160/300] - Train Loss: 15.6835 | Test Loss: 196.6820\n",
            "Epoch [161/300] - Train Loss: 15.6813 | Test Loss: 196.4135\n",
            "Epoch [162/300] - Train Loss: 15.6322 | Test Loss: 196.1980\n",
            "Epoch [163/300] - Train Loss: 15.5817 | Test Loss: 195.9868\n",
            "Epoch [164/300] - Train Loss: 15.5424 | Test Loss: 195.8297\n",
            "Epoch [165/300] - Train Loss: 15.5392 | Test Loss: 195.6365\n",
            "Epoch [166/300] - Train Loss: 15.4678 | Test Loss: 195.3546\n",
            "Epoch [167/300] - Train Loss: 15.4457 | Test Loss: 195.2146\n",
            "Epoch [168/300] - Train Loss: 15.4147 | Test Loss: 194.9776\n",
            "Epoch [169/300] - Train Loss: 15.3863 | Test Loss: 194.8451\n",
            "Epoch [170/300] - Train Loss: 15.3300 | Test Loss: 194.6028\n",
            "Epoch [171/300] - Train Loss: 15.3384 | Test Loss: 194.4833\n",
            "Epoch [172/300] - Train Loss: 15.2832 | Test Loss: 194.2236\n",
            "Epoch [173/300] - Train Loss: 15.2181 | Test Loss: 194.0779\n",
            "Epoch [174/300] - Train Loss: 15.2022 | Test Loss: 193.9465\n",
            "Epoch [175/300] - Train Loss: 15.1785 | Test Loss: 193.7620\n",
            "Epoch [176/300] - Train Loss: 15.1309 | Test Loss: 193.5930\n",
            "Epoch [177/300] - Train Loss: 15.1378 | Test Loss: 193.4067\n",
            "Epoch [178/300] - Train Loss: 15.0599 | Test Loss: 193.1455\n",
            "Epoch [179/300] - Train Loss: 15.0262 | Test Loss: 192.9116\n",
            "Epoch [180/300] - Train Loss: 15.0219 | Test Loss: 192.7792\n",
            "Epoch [181/300] - Train Loss: 14.9919 | Test Loss: 192.6915\n",
            "Epoch [182/300] - Train Loss: 14.9475 | Test Loss: 192.3004\n",
            "Epoch [183/300] - Train Loss: 14.9120 | Test Loss: 192.2359\n",
            "Epoch [184/300] - Train Loss: 14.8521 | Test Loss: 191.9983\n",
            "Epoch [185/300] - Train Loss: 14.8605 | Test Loss: 191.8644\n",
            "Epoch [186/300] - Train Loss: 14.8317 | Test Loss: 191.6994\n",
            "Epoch [187/300] - Train Loss: 14.7712 | Test Loss: 191.4929\n",
            "Epoch [188/300] - Train Loss: 14.7634 | Test Loss: 191.3677\n",
            "Epoch [189/300] - Train Loss: 14.7480 | Test Loss: 191.0914\n",
            "Epoch [190/300] - Train Loss: 14.6998 | Test Loss: 190.9038\n",
            "Epoch [191/300] - Train Loss: 14.6791 | Test Loss: 190.6882\n",
            "Epoch [192/300] - Train Loss: 14.6687 | Test Loss: 190.5435\n",
            "Epoch [193/300] - Train Loss: 14.6257 | Test Loss: 190.4185\n",
            "Epoch [194/300] - Train Loss: 14.6098 | Test Loss: 190.2405\n",
            "Epoch [195/300] - Train Loss: 14.5613 | Test Loss: 189.9825\n",
            "Epoch [196/300] - Train Loss: 14.5289 | Test Loss: 189.8399\n",
            "Epoch [197/300] - Train Loss: 14.4916 | Test Loss: 189.6302\n",
            "Epoch [198/300] - Train Loss: 14.4460 | Test Loss: 189.5202\n",
            "Epoch [199/300] - Train Loss: 14.4359 | Test Loss: 189.2968\n",
            "Epoch [200/300] - Train Loss: 14.4139 | Test Loss: 189.1380\n",
            "Epoch [201/300] - Train Loss: 14.4019 | Test Loss: 188.9646\n",
            "Epoch [202/300] - Train Loss: 14.3652 | Test Loss: 188.7476\n",
            "Epoch [203/300] - Train Loss: 14.3628 | Test Loss: 188.7040\n",
            "Epoch [204/300] - Train Loss: 14.3377 | Test Loss: 188.4497\n",
            "Epoch [205/300] - Train Loss: 14.2703 | Test Loss: 188.2070\n",
            "Epoch [206/300] - Train Loss: 14.2759 | Test Loss: 188.1019\n",
            "Epoch [207/300] - Train Loss: 14.2496 | Test Loss: 187.9532\n",
            "Epoch [208/300] - Train Loss: 14.1851 | Test Loss: 187.7621\n",
            "Epoch [209/300] - Train Loss: 14.1928 | Test Loss: 187.5637\n",
            "Epoch [210/300] - Train Loss: 14.1689 | Test Loss: 187.4178\n",
            "Epoch [211/300] - Train Loss: 14.1428 | Test Loss: 187.2801\n",
            "Epoch [212/300] - Train Loss: 14.1210 | Test Loss: 187.0566\n",
            "Epoch [213/300] - Train Loss: 14.0858 | Test Loss: 186.8202\n",
            "Epoch [214/300] - Train Loss: 14.0495 | Test Loss: 186.7369\n",
            "Epoch [215/300] - Train Loss: 14.0202 | Test Loss: 186.6165\n",
            "Epoch [216/300] - Train Loss: 14.0183 | Test Loss: 186.5066\n",
            "Epoch [217/300] - Train Loss: 13.9733 | Test Loss: 186.2472\n",
            "Epoch [218/300] - Train Loss: 13.9799 | Test Loss: 186.0992\n",
            "Epoch [219/300] - Train Loss: 13.9392 | Test Loss: 185.8854\n",
            "Epoch [220/300] - Train Loss: 13.9174 | Test Loss: 185.7766\n",
            "Epoch [221/300] - Train Loss: 13.8764 | Test Loss: 185.4771\n",
            "Epoch [222/300] - Train Loss: 13.8654 | Test Loss: 185.3706\n",
            "Epoch [223/300] - Train Loss: 13.8208 | Test Loss: 185.2210\n",
            "Epoch [224/300] - Train Loss: 13.8178 | Test Loss: 185.1057\n",
            "Epoch [225/300] - Train Loss: 13.8043 | Test Loss: 184.9717\n",
            "Epoch [226/300] - Train Loss: 13.7697 | Test Loss: 184.7670\n",
            "Epoch [227/300] - Train Loss: 13.7573 | Test Loss: 184.5751\n",
            "Epoch [228/300] - Train Loss: 13.7317 | Test Loss: 184.3705\n",
            "Epoch [229/300] - Train Loss: 13.7172 | Test Loss: 184.1873\n",
            "Epoch [230/300] - Train Loss: 13.6795 | Test Loss: 184.1800\n",
            "Epoch [231/300] - Train Loss: 13.6653 | Test Loss: 183.9995\n",
            "Epoch [232/300] - Train Loss: 13.6645 | Test Loss: 183.7775\n",
            "Epoch [233/300] - Train Loss: 13.6230 | Test Loss: 183.6173\n",
            "Epoch [234/300] - Train Loss: 13.6161 | Test Loss: 183.4418\n",
            "Epoch [235/300] - Train Loss: 13.6065 | Test Loss: 183.3526\n",
            "Epoch [236/300] - Train Loss: 13.5626 | Test Loss: 183.1047\n",
            "Epoch [237/300] - Train Loss: 13.5417 | Test Loss: 182.9720\n",
            "Epoch [238/300] - Train Loss: 13.5146 | Test Loss: 182.7679\n",
            "Epoch [239/300] - Train Loss: 13.4879 | Test Loss: 182.6407\n",
            "Epoch [240/300] - Train Loss: 13.4613 | Test Loss: 182.5383\n",
            "Epoch [241/300] - Train Loss: 13.4742 | Test Loss: 182.4262\n",
            "Epoch [242/300] - Train Loss: 13.4323 | Test Loss: 182.2278\n",
            "Epoch [243/300] - Train Loss: 13.4167 | Test Loss: 182.1851\n",
            "Epoch [244/300] - Train Loss: 13.3762 | Test Loss: 181.9013\n",
            "Epoch [245/300] - Train Loss: 13.3737 | Test Loss: 181.7924\n",
            "Epoch [246/300] - Train Loss: 13.3561 | Test Loss: 181.6181\n",
            "Epoch [247/300] - Train Loss: 13.3234 | Test Loss: 181.5020\n",
            "Epoch [248/300] - Train Loss: 13.3052 | Test Loss: 181.4100\n",
            "Epoch [249/300] - Train Loss: 13.2657 | Test Loss: 181.1811\n",
            "Epoch [250/300] - Train Loss: 13.2573 | Test Loss: 181.1270\n",
            "Epoch [251/300] - Train Loss: 13.2600 | Test Loss: 180.9839\n",
            "Epoch [252/300] - Train Loss: 13.2266 | Test Loss: 180.8830\n",
            "Epoch [253/300] - Train Loss: 13.2244 | Test Loss: 180.7124\n",
            "Epoch [254/300] - Train Loss: 13.1991 | Test Loss: 180.5411\n",
            "Epoch [255/300] - Train Loss: 13.1842 | Test Loss: 180.3359\n",
            "Epoch [256/300] - Train Loss: 13.1560 | Test Loss: 180.2072\n",
            "Epoch [257/300] - Train Loss: 13.1176 | Test Loss: 179.9991\n",
            "Epoch [258/300] - Train Loss: 13.1000 | Test Loss: 179.8859\n",
            "Epoch [259/300] - Train Loss: 13.1110 | Test Loss: 179.7618\n",
            "Epoch [260/300] - Train Loss: 13.0976 | Test Loss: 179.5685\n",
            "Epoch [261/300] - Train Loss: 13.0683 | Test Loss: 179.4096\n",
            "Epoch [262/300] - Train Loss: 13.0367 | Test Loss: 179.4001\n",
            "Epoch [263/300] - Train Loss: 13.0240 | Test Loss: 179.2515\n",
            "Epoch [264/300] - Train Loss: 13.0002 | Test Loss: 179.0195\n",
            "Epoch [265/300] - Train Loss: 12.9772 | Test Loss: 178.8941\n",
            "Epoch [266/300] - Train Loss: 12.9788 | Test Loss: 178.6891\n",
            "Epoch [267/300] - Train Loss: 12.9451 | Test Loss: 178.5942\n",
            "Epoch [268/300] - Train Loss: 12.9368 | Test Loss: 178.3675\n",
            "Epoch [269/300] - Train Loss: 12.9034 | Test Loss: 178.2663\n",
            "Epoch [270/300] - Train Loss: 12.8932 | Test Loss: 178.1292\n",
            "Epoch [271/300] - Train Loss: 12.8792 | Test Loss: 178.0373\n",
            "Epoch [272/300] - Train Loss: 12.8659 | Test Loss: 177.8719\n",
            "Epoch [273/300] - Train Loss: 12.8319 | Test Loss: 177.8063\n",
            "Epoch [274/300] - Train Loss: 12.8203 | Test Loss: 177.7239\n",
            "Epoch [275/300] - Train Loss: 12.7943 | Test Loss: 177.5026\n",
            "Epoch [276/300] - Train Loss: 12.7838 | Test Loss: 177.3883\n",
            "Epoch [277/300] - Train Loss: 12.7749 | Test Loss: 177.2565\n",
            "Epoch [278/300] - Train Loss: 12.7475 | Test Loss: 177.1184\n",
            "Epoch [279/300] - Train Loss: 12.7562 | Test Loss: 176.9371\n",
            "Epoch [280/300] - Train Loss: 12.7233 | Test Loss: 176.7424\n",
            "Epoch [281/300] - Train Loss: 12.6912 | Test Loss: 176.5958\n",
            "Epoch [282/300] - Train Loss: 12.6754 | Test Loss: 176.4461\n",
            "Epoch [283/300] - Train Loss: 12.6641 | Test Loss: 176.4499\n",
            "Epoch [284/300] - Train Loss: 12.6555 | Test Loss: 176.2714\n",
            "Epoch [285/300] - Train Loss: 12.6391 | Test Loss: 176.1890\n",
            "Epoch [286/300] - Train Loss: 12.6085 | Test Loss: 176.0090\n",
            "Epoch [287/300] - Train Loss: 12.6067 | Test Loss: 175.9989\n",
            "Epoch [288/300] - Train Loss: 12.5888 | Test Loss: 175.8231\n",
            "Epoch [289/300] - Train Loss: 12.5915 | Test Loss: 175.7761\n",
            "Epoch [290/300] - Train Loss: 12.5531 | Test Loss: 175.4760\n",
            "Epoch [291/300] - Train Loss: 12.5238 | Test Loss: 175.3426\n",
            "Epoch [292/300] - Train Loss: 12.5488 | Test Loss: 175.1885\n",
            "Epoch [293/300] - Train Loss: 12.5189 | Test Loss: 175.1279\n",
            "Epoch [294/300] - Train Loss: 12.4783 | Test Loss: 175.0232\n",
            "Epoch [295/300] - Train Loss: 12.4858 | Test Loss: 174.9889\n",
            "Epoch [296/300] - Train Loss: 12.4803 | Test Loss: 174.7672\n",
            "Epoch [297/300] - Train Loss: 12.4422 | Test Loss: 174.6289\n",
            "Epoch [298/300] - Train Loss: 12.4219 | Test Loss: 174.6234\n",
            "Epoch [299/300] - Train Loss: 12.4282 | Test Loss: 174.4245\n",
            "Epoch [300/300] - Train Loss: 12.4139 | Test Loss: 174.3544\n"
          ]
        }
      ],
      "source": [
        "model = FVSBN().to(device)\n",
        "optimizer = optim.Adam(model.parameters(), lr=1e-4)\n",
        "\n",
        "num_epochs = 300\n",
        "train_losses = []\n",
        "test_losses = []\n",
        "\n",
        "for epoch in range(num_epochs):\n",
        "    model.train()\n",
        "    train_loss = 0\n",
        "\n",
        "    for batch, _ in training_focused_loader:\n",
        "        batch = batch.view(-1, 784).to(device)\n",
        "        optimizer.zero_grad()\n",
        "        loss = -model.log_prob(batch).mean()\n",
        "        loss.backward()\n",
        "        optimizer.step()\n",
        "        train_loss += loss.item()\n",
        "\n",
        "    avg_train_loss = train_loss / len(train_loader)\n",
        "    train_losses.append(avg_train_loss)\n",
        "\n",
        "    # Validation: similar to training, except no optimization and backward steps\n",
        "    model.eval()\n",
        "    with torch.no_grad():\n",
        "        test_loss = 0\n",
        "        for batch, _ in test_loader:\n",
        "            batch = batch.view(-1, 784).to(device)\n",
        "            loss = -model.log_prob(batch).mean()\n",
        "            test_loss += loss.item()\n",
        "        avg_test_loss = test_loss / len(test_loader)\n",
        "        test_losses.append(avg_test_loss)\n",
        "\n",
        "\n",
        "    # For each epoch, print: epoch number, training loss, and test loss\n",
        "    print(f\"Epoch [{epoch+1}/{num_epochs}] - Train Loss: {avg_train_loss:.4f} | Test Loss: {avg_test_loss:.4f}\")\n"
      ]
    },
    {
      "cell_type": "markdown",
      "metadata": {
        "id": "tqJw5o6sofPo"
      },
      "source": [
        "## Analyze Results"
      ]
    },
    {
      "cell_type": "code",
      "execution_count": null,
      "metadata": {
        "colab": {
          "base_uri": "https://localhost:8080/",
          "height": 487
        },
        "id": "rwzOUEm-oeMd",
        "outputId": "c4e1d322-34ce-4150-bd12-219e0f513fbc"
      },
      "outputs": [
        {
          "data": {
            "image/png": "[encoded data removed]",
            "text/plain": [
              "<Figure size 1000x500 with 1 Axes>"
            ]
          },
          "metadata": {},
          "output_type": "display_data"
        }
      ],
      "source": [
        "plt.figure(figsize=(10, 5))\n",
        "plt.plot(train_losses, label='Training Loss')\n",
        "plt.plot(test_losses, label='Test Loss')\n",
        "plt.xlabel('Epoch')\n",
        "plt.ylabel('Negative Log-Likelihood')\n",
        "plt.legend()\n",
        "plt.title('NADE Training and Test Loss Over Epochs')\n",
        "plt.show()"
      ]
    },
    {
      "cell_type": "markdown",
      "metadata": {
        "id": "euRl0OKPoqef"
      },
      "source": [
        "## Generate & Visualize Samples"
      ]
    },
    {
      "cell_type": "code",
      "execution_count": null,
      "metadata": {
        "colab": {
          "base_uri": "https://localhost:8080/",
          "height": 249
        },
        "id": "x4ASM-0noYZl",
        "outputId": "426b0288-6f97-4f06-e0d6-e8fe7f9c7920"
      },
      "outputs": [
        {
          "data": {
            "image/png": "[encoded data removed]",
            "text/plain": [
              "<Figure size 1200x300 with 10 Axes>"
            ]
          },
          "metadata": {},
          "output_type": "display_data"
        }
      ],
      "source": [
        "samples = model.generate_samples()\n",
        "plt.figure(figsize=(12, 3))\n",
        "for i in range(10):\n",
        "    plt.subplot(1, 10, i+1)\n",
        "    plt.imshow(samples[i].view(28, 28), cmap='gray')\n",
        "    plt.axis('off')\n",
        "plt.suptitle(f\"Generated Samples - Epoch {epoch+1}\")\n",
        "plt.tight_layout()\n",
        "plt.show()"
      ]
    },
    {
      "cell_type": "markdown",
      "metadata": {
        "id": "Mht1Snnltieu"
      },
      "source": [
        "### As we expected, the quality of the generated samples are way lower comparing to NADE; this is clearly because of the lost complexity and nonlinearities that were accounted for in the NADE model structure."
      ]
    }
  ],
  "metadata": {
    "accelerator": "GPU",
    "colab": {
      "gpuType": "T4",
      "provenance": []
    },
    "kernelspec": {
      "display_name": "genaispring",
      "language": "python",
      "name": "python3"
    },
    "language_info": {
      "codemirror_mode": {
        "name": "ipython",
        "version": 3
      },
      "file_extension": ".py",
      "mimetype": "text/x-python",
      "name": "python",
      "nbconvert_exporter": "python",
      "pygments_lexer": "ipython3",
      "version": "3.13.2"
    }
  },
  "nbformat": 4,
  "nbformat_minor": 0
}
